{
  "cells": [
    {
      "cell_type": "code",
      "execution_count": 1,
      "metadata": {
        "colab": {
          "base_uri": "https://localhost:8080/"
        },
        "id": "d46_GilZeh53",
        "outputId": "48adf437-37df-44e4-9d1d-eddaf67c5607"
      },
      "outputs": [
        {
          "name": "stdout",
          "output_type": "stream",
          "text": [
            "Requirement already satisfied: datasketch in /opt/anaconda3/lib/python3.11/site-packages (1.6.5)\n",
            "Requirement already satisfied: numpy>=1.11 in /opt/anaconda3/lib/python3.11/site-packages (from datasketch) (1.26.4)\n",
            "Requirement already satisfied: scipy>=1.0.0 in /opt/anaconda3/lib/python3.11/site-packages (from datasketch) (1.13.1)\n",
            "CPU times: user 17.9 ms, sys: 11.2 ms, total: 29.1 ms\n",
            "Wall time: 1.91 s\n"
          ]
        }
      ],
      "source": [
        "%%time\n",
        "\n",
        "! pip install datasketch"
      ]
    },
    {
      "cell_type": "code",
      "execution_count": 2,
      "metadata": {
        "id": "fKQfFuzB7oZL"
      },
      "outputs": [],
      "source": [
        "import numpy as np\n",
        "import pandas as pd\n",
        "import time\n",
        "import re\n",
        "import string\n",
        "import nltk\n",
        "from nltk.corpus import stopwords\n",
        "from nltk.stem import WordNetLemmatizer\n",
        "from sklearn.model_selection import train_test_split\n",
        "from datasketch import MinHash\n",
        "from datasketch import MinHashLSHForest"
      ]
    },
    {
      "cell_type": "code",
      "execution_count": 3,
      "metadata": {
        "colab": {
          "base_uri": "https://localhost:8080/"
        },
        "id": "XPuMX5Xbo6IS",
        "outputId": "71b89a03-c4fe-4d8a-c707-a163e2825cf4"
      },
      "outputs": [
        {
          "name": "stderr",
          "output_type": "stream",
          "text": [
            "[nltk_data] Downloading package stopwords to\n",
            "[nltk_data]     /Users/laertxhumari/nltk_data...\n",
            "[nltk_data]   Package stopwords is already up-to-date!\n",
            "[nltk_data] Downloading package punkt to\n",
            "[nltk_data]     /Users/laertxhumari/nltk_data...\n",
            "[nltk_data]   Package punkt is already up-to-date!\n",
            "[nltk_data] Downloading package wordnet to\n",
            "[nltk_data]     /Users/laertxhumari/nltk_data...\n",
            "[nltk_data]   Package wordnet is already up-to-date!\n"
          ]
        },
        {
          "data": {
            "text/plain": [
              "True"
            ]
          },
          "execution_count": 3,
          "metadata": {},
          "output_type": "execute_result"
        }
      ],
      "source": [
        "nltk.download('stopwords')\n",
        "nltk.download('punkt')\n",
        "nltk.download('wordnet')"
      ]
    },
    {
      "cell_type": "code",
      "execution_count": 4,
      "metadata": {
        "id": "N2IbWcgoPVGz"
      },
      "outputs": [],
      "source": [
        "#Import the CSV file\n",
        "df = pd.read_csv(\"https://raw.githubusercontent.com/LaertXh/LLM-Project/refs/heads/main/Data/rotten_tomatoes_movies.csv\")"
      ]
    },
    {
      "cell_type": "code",
      "execution_count": 5,
      "metadata": {
        "colab": {
          "base_uri": "https://localhost:8080/"
        },
        "id": "IIfByPZOPrx0",
        "outputId": "60c28989-27a7-4137-d0a4-44e4a13a1365"
      },
      "outputs": [
        {
          "data": {
            "text/plain": [
              "(17712, 22)"
            ]
          },
          "execution_count": 5,
          "metadata": {},
          "output_type": "execute_result"
        }
      ],
      "source": [
        "df.shape"
      ]
    },
    {
      "cell_type": "code",
      "execution_count": 6,
      "metadata": {
        "colab": {
          "base_uri": "https://localhost:8080/",
          "height": 710
        },
        "id": "1ATVOnrpP133",
        "outputId": "3cec651d-bdb5-42c3-fe86-b1f534b61948"
      },
      "outputs": [
        {
          "data": {
            "text/html": [
              "<div>\n",
              "<style scoped>\n",
              "    .dataframe tbody tr th:only-of-type {\n",
              "        vertical-align: middle;\n",
              "    }\n",
              "\n",
              "    .dataframe tbody tr th {\n",
              "        vertical-align: top;\n",
              "    }\n",
              "\n",
              "    .dataframe thead th {\n",
              "        text-align: right;\n",
              "    }\n",
              "</style>\n",
              "<table border=\"1\" class=\"dataframe\">\n",
              "  <thead>\n",
              "    <tr style=\"text-align: right;\">\n",
              "      <th></th>\n",
              "      <th>rotten_tomatoes_link</th>\n",
              "      <th>movie_title</th>\n",
              "      <th>movie_info</th>\n",
              "      <th>critics_consensus</th>\n",
              "      <th>content_rating</th>\n",
              "      <th>genres</th>\n",
              "      <th>directors</th>\n",
              "      <th>authors</th>\n",
              "      <th>actors</th>\n",
              "      <th>original_release_date</th>\n",
              "      <th>...</th>\n",
              "      <th>production_company</th>\n",
              "      <th>tomatometer_status</th>\n",
              "      <th>tomatometer_rating</th>\n",
              "      <th>tomatometer_count</th>\n",
              "      <th>audience_status</th>\n",
              "      <th>audience_rating</th>\n",
              "      <th>audience_count</th>\n",
              "      <th>tomatometer_top_critics_count</th>\n",
              "      <th>tomatometer_fresh_critics_count</th>\n",
              "      <th>tomatometer_rotten_critics_count</th>\n",
              "    </tr>\n",
              "  </thead>\n",
              "  <tbody>\n",
              "    <tr>\n",
              "      <th>0</th>\n",
              "      <td>m/0814255</td>\n",
              "      <td>Percy Jackson &amp; the Olympians: The Lightning T...</td>\n",
              "      <td>Always trouble-prone, the life of teenager Per...</td>\n",
              "      <td>Though it may seem like just another Harry Pot...</td>\n",
              "      <td>PG</td>\n",
              "      <td>Action &amp; Adventure, Comedy, Drama, Science Fic...</td>\n",
              "      <td>Chris Columbus</td>\n",
              "      <td>Craig Titley, Chris Columbus, Rick Riordan</td>\n",
              "      <td>Logan Lerman, Brandon T. Jackson, Alexandra Da...</td>\n",
              "      <td>2010-02-12</td>\n",
              "      <td>...</td>\n",
              "      <td>20th Century Fox</td>\n",
              "      <td>Rotten</td>\n",
              "      <td>49.0</td>\n",
              "      <td>149.0</td>\n",
              "      <td>Spilled</td>\n",
              "      <td>53.0</td>\n",
              "      <td>254421.0</td>\n",
              "      <td>43</td>\n",
              "      <td>73</td>\n",
              "      <td>76</td>\n",
              "    </tr>\n",
              "    <tr>\n",
              "      <th>1</th>\n",
              "      <td>m/0878835</td>\n",
              "      <td>Please Give</td>\n",
              "      <td>Kate (Catherine Keener) and her husband Alex (...</td>\n",
              "      <td>Nicole Holofcener's newest might seem slight i...</td>\n",
              "      <td>R</td>\n",
              "      <td>Comedy</td>\n",
              "      <td>Nicole Holofcener</td>\n",
              "      <td>Nicole Holofcener</td>\n",
              "      <td>Catherine Keener, Amanda Peet, Oliver Platt, R...</td>\n",
              "      <td>2010-04-30</td>\n",
              "      <td>...</td>\n",
              "      <td>Sony Pictures Classics</td>\n",
              "      <td>Certified-Fresh</td>\n",
              "      <td>87.0</td>\n",
              "      <td>142.0</td>\n",
              "      <td>Upright</td>\n",
              "      <td>64.0</td>\n",
              "      <td>11574.0</td>\n",
              "      <td>44</td>\n",
              "      <td>123</td>\n",
              "      <td>19</td>\n",
              "    </tr>\n",
              "    <tr>\n",
              "      <th>2</th>\n",
              "      <td>m/10</td>\n",
              "      <td>10</td>\n",
              "      <td>A successful, middle-aged Hollywood songwriter...</td>\n",
              "      <td>Blake Edwards' bawdy comedy may not score a pe...</td>\n",
              "      <td>R</td>\n",
              "      <td>Comedy, Romance</td>\n",
              "      <td>Blake Edwards</td>\n",
              "      <td>Blake Edwards</td>\n",
              "      <td>Dudley Moore, Bo Derek, Julie Andrews, Robert ...</td>\n",
              "      <td>1979-10-05</td>\n",
              "      <td>...</td>\n",
              "      <td>Waner Bros.</td>\n",
              "      <td>Fresh</td>\n",
              "      <td>67.0</td>\n",
              "      <td>24.0</td>\n",
              "      <td>Spilled</td>\n",
              "      <td>53.0</td>\n",
              "      <td>14684.0</td>\n",
              "      <td>2</td>\n",
              "      <td>16</td>\n",
              "      <td>8</td>\n",
              "    </tr>\n",
              "    <tr>\n",
              "      <th>3</th>\n",
              "      <td>m/1000013-12_angry_men</td>\n",
              "      <td>12 Angry Men (Twelve Angry Men)</td>\n",
              "      <td>Following the closing arguments in a murder tr...</td>\n",
              "      <td>Sidney Lumet's feature debut is a superbly wri...</td>\n",
              "      <td>NR</td>\n",
              "      <td>Classics, Drama</td>\n",
              "      <td>Sidney Lumet</td>\n",
              "      <td>Reginald Rose</td>\n",
              "      <td>Martin Balsam, John Fiedler, Lee J. Cobb, E.G....</td>\n",
              "      <td>1957-04-13</td>\n",
              "      <td>...</td>\n",
              "      <td>Criterion Collection</td>\n",
              "      <td>Certified-Fresh</td>\n",
              "      <td>100.0</td>\n",
              "      <td>54.0</td>\n",
              "      <td>Upright</td>\n",
              "      <td>97.0</td>\n",
              "      <td>105386.0</td>\n",
              "      <td>6</td>\n",
              "      <td>54</td>\n",
              "      <td>0</td>\n",
              "    </tr>\n",
              "    <tr>\n",
              "      <th>4</th>\n",
              "      <td>m/1000079-20000_leagues_under_the_sea</td>\n",
              "      <td>20,000 Leagues Under The Sea</td>\n",
              "      <td>In 1866, Professor Pierre M. Aronnax (Paul Luk...</td>\n",
              "      <td>One of Disney's finest live-action adventures,...</td>\n",
              "      <td>G</td>\n",
              "      <td>Action &amp; Adventure, Drama, Kids &amp; Family</td>\n",
              "      <td>Richard Fleischer</td>\n",
              "      <td>Earl Felton</td>\n",
              "      <td>James Mason, Kirk Douglas, Paul Lukas, Peter L...</td>\n",
              "      <td>1954-01-01</td>\n",
              "      <td>...</td>\n",
              "      <td>Disney</td>\n",
              "      <td>Fresh</td>\n",
              "      <td>89.0</td>\n",
              "      <td>27.0</td>\n",
              "      <td>Upright</td>\n",
              "      <td>74.0</td>\n",
              "      <td>68918.0</td>\n",
              "      <td>5</td>\n",
              "      <td>24</td>\n",
              "      <td>3</td>\n",
              "    </tr>\n",
              "  </tbody>\n",
              "</table>\n",
              "<p>5 rows × 22 columns</p>\n",
              "</div>"
            ],
            "text/plain": [
              "                    rotten_tomatoes_link  \\\n",
              "0                              m/0814255   \n",
              "1                              m/0878835   \n",
              "2                                   m/10   \n",
              "3                 m/1000013-12_angry_men   \n",
              "4  m/1000079-20000_leagues_under_the_sea   \n",
              "\n",
              "                                         movie_title  \\\n",
              "0  Percy Jackson & the Olympians: The Lightning T...   \n",
              "1                                        Please Give   \n",
              "2                                                 10   \n",
              "3                    12 Angry Men (Twelve Angry Men)   \n",
              "4                       20,000 Leagues Under The Sea   \n",
              "\n",
              "                                          movie_info  \\\n",
              "0  Always trouble-prone, the life of teenager Per...   \n",
              "1  Kate (Catherine Keener) and her husband Alex (...   \n",
              "2  A successful, middle-aged Hollywood songwriter...   \n",
              "3  Following the closing arguments in a murder tr...   \n",
              "4  In 1866, Professor Pierre M. Aronnax (Paul Luk...   \n",
              "\n",
              "                                   critics_consensus content_rating  \\\n",
              "0  Though it may seem like just another Harry Pot...             PG   \n",
              "1  Nicole Holofcener's newest might seem slight i...              R   \n",
              "2  Blake Edwards' bawdy comedy may not score a pe...              R   \n",
              "3  Sidney Lumet's feature debut is a superbly wri...             NR   \n",
              "4  One of Disney's finest live-action adventures,...              G   \n",
              "\n",
              "                                              genres          directors  \\\n",
              "0  Action & Adventure, Comedy, Drama, Science Fic...     Chris Columbus   \n",
              "1                                             Comedy  Nicole Holofcener   \n",
              "2                                    Comedy, Romance      Blake Edwards   \n",
              "3                                    Classics, Drama       Sidney Lumet   \n",
              "4           Action & Adventure, Drama, Kids & Family  Richard Fleischer   \n",
              "\n",
              "                                      authors  \\\n",
              "0  Craig Titley, Chris Columbus, Rick Riordan   \n",
              "1                           Nicole Holofcener   \n",
              "2                               Blake Edwards   \n",
              "3                               Reginald Rose   \n",
              "4                                 Earl Felton   \n",
              "\n",
              "                                              actors original_release_date  \\\n",
              "0  Logan Lerman, Brandon T. Jackson, Alexandra Da...            2010-02-12   \n",
              "1  Catherine Keener, Amanda Peet, Oliver Platt, R...            2010-04-30   \n",
              "2  Dudley Moore, Bo Derek, Julie Andrews, Robert ...            1979-10-05   \n",
              "3  Martin Balsam, John Fiedler, Lee J. Cobb, E.G....            1957-04-13   \n",
              "4  James Mason, Kirk Douglas, Paul Lukas, Peter L...            1954-01-01   \n",
              "\n",
              "   ...      production_company  tomatometer_status tomatometer_rating  \\\n",
              "0  ...        20th Century Fox              Rotten               49.0   \n",
              "1  ...  Sony Pictures Classics     Certified-Fresh               87.0   \n",
              "2  ...             Waner Bros.               Fresh               67.0   \n",
              "3  ...    Criterion Collection     Certified-Fresh              100.0   \n",
              "4  ...                  Disney               Fresh               89.0   \n",
              "\n",
              "  tomatometer_count  audience_status  audience_rating audience_count  \\\n",
              "0             149.0          Spilled             53.0       254421.0   \n",
              "1             142.0          Upright             64.0        11574.0   \n",
              "2              24.0          Spilled             53.0        14684.0   \n",
              "3              54.0          Upright             97.0       105386.0   \n",
              "4              27.0          Upright             74.0        68918.0   \n",
              "\n",
              "   tomatometer_top_critics_count  tomatometer_fresh_critics_count  \\\n",
              "0                             43                               73   \n",
              "1                             44                              123   \n",
              "2                              2                               16   \n",
              "3                              6                               54   \n",
              "4                              5                               24   \n",
              "\n",
              "   tomatometer_rotten_critics_count  \n",
              "0                                76  \n",
              "1                                19  \n",
              "2                                 8  \n",
              "3                                 0  \n",
              "4                                 3  \n",
              "\n",
              "[5 rows x 22 columns]"
            ]
          },
          "execution_count": 6,
          "metadata": {},
          "output_type": "execute_result"
        }
      ],
      "source": [
        "df.head()"
      ]
    },
    {
      "cell_type": "markdown",
      "metadata": {},
      "source": [
        "### Dataset Cleaning"
      ]
    },
    {
      "cell_type": "code",
      "execution_count": 7,
      "metadata": {
        "id": "D6TYspTXQBVD"
      },
      "outputs": [],
      "source": [
        "#Drop unneeded columns\n",
        "df.drop(['rotten_tomatoes_link','critics_consensus', 'original_release_date', 'streaming_release_date', 'runtime', 'authors','production_company', 'tomatometer_status', 'tomatometer_rating', 'tomatometer_count', 'audience_status', 'audience_rating', 'audience_count', 'tomatometer_top_critics_count', 'tomatometer_fresh_critics_count', 'tomatometer_rotten_critics_count'], axis=1, inplace = True)\n"
      ]
    },
    {
      "cell_type": "code",
      "execution_count": 8,
      "metadata": {
        "colab": {
          "base_uri": "https://localhost:8080/",
          "height": 283
        },
        "id": "TQsAofysSQhl",
        "outputId": "284933af-6e6a-4704-f000-c2fa567a0766"
      },
      "outputs": [
        {
          "data": {
            "text/html": [
              "<div>\n",
              "<style scoped>\n",
              "    .dataframe tbody tr th:only-of-type {\n",
              "        vertical-align: middle;\n",
              "    }\n",
              "\n",
              "    .dataframe tbody tr th {\n",
              "        vertical-align: top;\n",
              "    }\n",
              "\n",
              "    .dataframe thead th {\n",
              "        text-align: right;\n",
              "    }\n",
              "</style>\n",
              "<table border=\"1\" class=\"dataframe\">\n",
              "  <thead>\n",
              "    <tr style=\"text-align: right;\">\n",
              "      <th></th>\n",
              "      <th>movie_title</th>\n",
              "      <th>movie_info</th>\n",
              "      <th>content_rating</th>\n",
              "      <th>genres</th>\n",
              "      <th>directors</th>\n",
              "      <th>actors</th>\n",
              "    </tr>\n",
              "  </thead>\n",
              "  <tbody>\n",
              "    <tr>\n",
              "      <th>0</th>\n",
              "      <td>Percy Jackson &amp; the Olympians: The Lightning T...</td>\n",
              "      <td>Always trouble-prone, the life of teenager Per...</td>\n",
              "      <td>PG</td>\n",
              "      <td>Action &amp; Adventure, Comedy, Drama, Science Fic...</td>\n",
              "      <td>Chris Columbus</td>\n",
              "      <td>Logan Lerman, Brandon T. Jackson, Alexandra Da...</td>\n",
              "    </tr>\n",
              "    <tr>\n",
              "      <th>1</th>\n",
              "      <td>Please Give</td>\n",
              "      <td>Kate (Catherine Keener) and her husband Alex (...</td>\n",
              "      <td>R</td>\n",
              "      <td>Comedy</td>\n",
              "      <td>Nicole Holofcener</td>\n",
              "      <td>Catherine Keener, Amanda Peet, Oliver Platt, R...</td>\n",
              "    </tr>\n",
              "    <tr>\n",
              "      <th>2</th>\n",
              "      <td>10</td>\n",
              "      <td>A successful, middle-aged Hollywood songwriter...</td>\n",
              "      <td>R</td>\n",
              "      <td>Comedy, Romance</td>\n",
              "      <td>Blake Edwards</td>\n",
              "      <td>Dudley Moore, Bo Derek, Julie Andrews, Robert ...</td>\n",
              "    </tr>\n",
              "    <tr>\n",
              "      <th>3</th>\n",
              "      <td>12 Angry Men (Twelve Angry Men)</td>\n",
              "      <td>Following the closing arguments in a murder tr...</td>\n",
              "      <td>NR</td>\n",
              "      <td>Classics, Drama</td>\n",
              "      <td>Sidney Lumet</td>\n",
              "      <td>Martin Balsam, John Fiedler, Lee J. Cobb, E.G....</td>\n",
              "    </tr>\n",
              "    <tr>\n",
              "      <th>4</th>\n",
              "      <td>20,000 Leagues Under The Sea</td>\n",
              "      <td>In 1866, Professor Pierre M. Aronnax (Paul Luk...</td>\n",
              "      <td>G</td>\n",
              "      <td>Action &amp; Adventure, Drama, Kids &amp; Family</td>\n",
              "      <td>Richard Fleischer</td>\n",
              "      <td>James Mason, Kirk Douglas, Paul Lukas, Peter L...</td>\n",
              "    </tr>\n",
              "  </tbody>\n",
              "</table>\n",
              "</div>"
            ],
            "text/plain": [
              "                                         movie_title  \\\n",
              "0  Percy Jackson & the Olympians: The Lightning T...   \n",
              "1                                        Please Give   \n",
              "2                                                 10   \n",
              "3                    12 Angry Men (Twelve Angry Men)   \n",
              "4                       20,000 Leagues Under The Sea   \n",
              "\n",
              "                                          movie_info content_rating  \\\n",
              "0  Always trouble-prone, the life of teenager Per...             PG   \n",
              "1  Kate (Catherine Keener) and her husband Alex (...              R   \n",
              "2  A successful, middle-aged Hollywood songwriter...              R   \n",
              "3  Following the closing arguments in a murder tr...             NR   \n",
              "4  In 1866, Professor Pierre M. Aronnax (Paul Luk...              G   \n",
              "\n",
              "                                              genres          directors  \\\n",
              "0  Action & Adventure, Comedy, Drama, Science Fic...     Chris Columbus   \n",
              "1                                             Comedy  Nicole Holofcener   \n",
              "2                                    Comedy, Romance      Blake Edwards   \n",
              "3                                    Classics, Drama       Sidney Lumet   \n",
              "4           Action & Adventure, Drama, Kids & Family  Richard Fleischer   \n",
              "\n",
              "                                              actors  \n",
              "0  Logan Lerman, Brandon T. Jackson, Alexandra Da...  \n",
              "1  Catherine Keener, Amanda Peet, Oliver Platt, R...  \n",
              "2  Dudley Moore, Bo Derek, Julie Andrews, Robert ...  \n",
              "3  Martin Balsam, John Fiedler, Lee J. Cobb, E.G....  \n",
              "4  James Mason, Kirk Douglas, Paul Lukas, Peter L...  "
            ]
          },
          "execution_count": 8,
          "metadata": {},
          "output_type": "execute_result"
        }
      ],
      "source": [
        "df.head()"
      ]
    },
    {
      "cell_type": "markdown",
      "metadata": {},
      "source": [
        "#### Keep only the first director, and the first 4 actors"
      ]
    },
    {
      "cell_type": "code",
      "execution_count": 9,
      "metadata": {
        "id": "oqlZQnwxYAd4"
      },
      "outputs": [],
      "source": [
        "#Limit the number of directors to the first listed director\n",
        "df['directors'] = df['directors'].str.split(',').str[0]"
      ]
    },
    {
      "cell_type": "code",
      "execution_count": 10,
      "metadata": {
        "colab": {
          "base_uri": "https://localhost:8080/",
          "height": 234
        },
        "id": "imJtaJ6QXk6D",
        "outputId": "cbe2e7b6-7064-4cde-abab-486163528cf7"
      },
      "outputs": [
        {
          "data": {
            "text/plain": [
              "0       Chris Columbus\n",
              "1    Nicole Holofcener\n",
              "2        Blake Edwards\n",
              "3         Sidney Lumet\n",
              "4    Richard Fleischer\n",
              "Name: directors, dtype: object"
            ]
          },
          "execution_count": 10,
          "metadata": {},
          "output_type": "execute_result"
        }
      ],
      "source": [
        "df['directors'].head()"
      ]
    },
    {
      "cell_type": "code",
      "execution_count": 11,
      "metadata": {
        "id": "RNVtkOMdYzhn"
      },
      "outputs": [],
      "source": [
        "#Limit the number of actors to the first four listed actors\n",
        "df['actors'] = df['actors'].str.split(',').str[:4].str.join(',')"
      ]
    },
    {
      "cell_type": "code",
      "execution_count": 12,
      "metadata": {
        "colab": {
          "base_uri": "https://localhost:8080/",
          "height": 234
        },
        "id": "bscBBWA9YTNW",
        "outputId": "db7f16a2-b1c2-4c92-b9fa-111c1074865d"
      },
      "outputs": [
        {
          "data": {
            "text/plain": [
              "0    Logan Lerman, Brandon T. Jackson, Alexandra Da...\n",
              "1    Catherine Keener, Amanda Peet, Oliver Platt, R...\n",
              "2    Dudley Moore, Bo Derek, Julie Andrews, Robert ...\n",
              "3    Martin Balsam, John Fiedler, Lee J. Cobb, E.G....\n",
              "4    James Mason, Kirk Douglas, Paul Lukas, Peter L...\n",
              "Name: actors, dtype: object"
            ]
          },
          "execution_count": 12,
          "metadata": {},
          "output_type": "execute_result"
        }
      ],
      "source": [
        "df['actors'].head()"
      ]
    },
    {
      "cell_type": "code",
      "execution_count": 13,
      "metadata": {
        "colab": {
          "base_uri": "https://localhost:8080/",
          "height": 283
        },
        "id": "UWcN20nYYTKw",
        "outputId": "3b2c3b12-0b84-42f5-8a3e-56965278ee16"
      },
      "outputs": [
        {
          "data": {
            "text/html": [
              "<div>\n",
              "<style scoped>\n",
              "    .dataframe tbody tr th:only-of-type {\n",
              "        vertical-align: middle;\n",
              "    }\n",
              "\n",
              "    .dataframe tbody tr th {\n",
              "        vertical-align: top;\n",
              "    }\n",
              "\n",
              "    .dataframe thead th {\n",
              "        text-align: right;\n",
              "    }\n",
              "</style>\n",
              "<table border=\"1\" class=\"dataframe\">\n",
              "  <thead>\n",
              "    <tr style=\"text-align: right;\">\n",
              "      <th></th>\n",
              "      <th>movie_title</th>\n",
              "      <th>movie_info</th>\n",
              "      <th>content_rating</th>\n",
              "      <th>genres</th>\n",
              "      <th>directors</th>\n",
              "      <th>actors</th>\n",
              "    </tr>\n",
              "  </thead>\n",
              "  <tbody>\n",
              "    <tr>\n",
              "      <th>0</th>\n",
              "      <td>Percy Jackson &amp; the Olympians: The Lightning T...</td>\n",
              "      <td>Always trouble-prone, the life of teenager Per...</td>\n",
              "      <td>PG</td>\n",
              "      <td>Action &amp; Adventure, Comedy, Drama, Science Fic...</td>\n",
              "      <td>Chris Columbus</td>\n",
              "      <td>Logan Lerman, Brandon T. Jackson, Alexandra Da...</td>\n",
              "    </tr>\n",
              "    <tr>\n",
              "      <th>1</th>\n",
              "      <td>Please Give</td>\n",
              "      <td>Kate (Catherine Keener) and her husband Alex (...</td>\n",
              "      <td>R</td>\n",
              "      <td>Comedy</td>\n",
              "      <td>Nicole Holofcener</td>\n",
              "      <td>Catherine Keener, Amanda Peet, Oliver Platt, R...</td>\n",
              "    </tr>\n",
              "    <tr>\n",
              "      <th>2</th>\n",
              "      <td>10</td>\n",
              "      <td>A successful, middle-aged Hollywood songwriter...</td>\n",
              "      <td>R</td>\n",
              "      <td>Comedy, Romance</td>\n",
              "      <td>Blake Edwards</td>\n",
              "      <td>Dudley Moore, Bo Derek, Julie Andrews, Robert ...</td>\n",
              "    </tr>\n",
              "    <tr>\n",
              "      <th>3</th>\n",
              "      <td>12 Angry Men (Twelve Angry Men)</td>\n",
              "      <td>Following the closing arguments in a murder tr...</td>\n",
              "      <td>NR</td>\n",
              "      <td>Classics, Drama</td>\n",
              "      <td>Sidney Lumet</td>\n",
              "      <td>Martin Balsam, John Fiedler, Lee J. Cobb, E.G....</td>\n",
              "    </tr>\n",
              "    <tr>\n",
              "      <th>4</th>\n",
              "      <td>20,000 Leagues Under The Sea</td>\n",
              "      <td>In 1866, Professor Pierre M. Aronnax (Paul Luk...</td>\n",
              "      <td>G</td>\n",
              "      <td>Action &amp; Adventure, Drama, Kids &amp; Family</td>\n",
              "      <td>Richard Fleischer</td>\n",
              "      <td>James Mason, Kirk Douglas, Paul Lukas, Peter L...</td>\n",
              "    </tr>\n",
              "  </tbody>\n",
              "</table>\n",
              "</div>"
            ],
            "text/plain": [
              "                                         movie_title  \\\n",
              "0  Percy Jackson & the Olympians: The Lightning T...   \n",
              "1                                        Please Give   \n",
              "2                                                 10   \n",
              "3                    12 Angry Men (Twelve Angry Men)   \n",
              "4                       20,000 Leagues Under The Sea   \n",
              "\n",
              "                                          movie_info content_rating  \\\n",
              "0  Always trouble-prone, the life of teenager Per...             PG   \n",
              "1  Kate (Catherine Keener) and her husband Alex (...              R   \n",
              "2  A successful, middle-aged Hollywood songwriter...              R   \n",
              "3  Following the closing arguments in a murder tr...             NR   \n",
              "4  In 1866, Professor Pierre M. Aronnax (Paul Luk...              G   \n",
              "\n",
              "                                              genres          directors  \\\n",
              "0  Action & Adventure, Comedy, Drama, Science Fic...     Chris Columbus   \n",
              "1                                             Comedy  Nicole Holofcener   \n",
              "2                                    Comedy, Romance      Blake Edwards   \n",
              "3                                    Classics, Drama       Sidney Lumet   \n",
              "4           Action & Adventure, Drama, Kids & Family  Richard Fleischer   \n",
              "\n",
              "                                              actors  \n",
              "0  Logan Lerman, Brandon T. Jackson, Alexandra Da...  \n",
              "1  Catherine Keener, Amanda Peet, Oliver Platt, R...  \n",
              "2  Dudley Moore, Bo Derek, Julie Andrews, Robert ...  \n",
              "3  Martin Balsam, John Fiedler, Lee J. Cobb, E.G....  \n",
              "4  James Mason, Kirk Douglas, Paul Lukas, Peter L...  "
            ]
          },
          "execution_count": 13,
          "metadata": {},
          "output_type": "execute_result"
        }
      ],
      "source": [
        "df.head()"
      ]
    },
    {
      "cell_type": "markdown",
      "metadata": {},
      "source": [
        "#### Check Duplicates and drop all null values"
      ]
    },
    {
      "cell_type": "code",
      "execution_count": 14,
      "metadata": {
        "id": "iytiGFCxbrDy"
      },
      "outputs": [],
      "source": [
        "#Check for duplicate rows\n",
        "duplicate_rows = df[df.duplicated()]"
      ]
    },
    {
      "cell_type": "code",
      "execution_count": 15,
      "metadata": {
        "colab": {
          "base_uri": "https://localhost:8080/"
        },
        "id": "KfbgYrslbq8u",
        "outputId": "99fcf551-fe7f-4f3c-8013-4bdeddec798a"
      },
      "outputs": [
        {
          "name": "stdout",
          "output_type": "stream",
          "text": [
            "Empty DataFrame\n",
            "Columns: [movie_title, movie_info, content_rating, genres, directors, actors]\n",
            "Index: []\n"
          ]
        }
      ],
      "source": [
        "print(duplicate_rows)"
      ]
    },
    {
      "cell_type": "code",
      "execution_count": 16,
      "metadata": {
        "colab": {
          "base_uri": "https://localhost:8080/",
          "height": 294
        },
        "id": "c1Gt44v4T4lf",
        "outputId": "6844ae41-f5d0-4406-be25-82700eacd0dc"
      },
      "outputs": [
        {
          "data": {
            "text/plain": [
              "movie_title         0\n",
              "movie_info        321\n",
              "content_rating      0\n",
              "genres             19\n",
              "directors         194\n",
              "actors            352\n",
              "dtype: int64"
            ]
          },
          "execution_count": 16,
          "metadata": {},
          "output_type": "execute_result"
        }
      ],
      "source": [
        "#Identify null values\n",
        "df.isnull().sum()"
      ]
    },
    {
      "cell_type": "code",
      "execution_count": 17,
      "metadata": {
        "id": "NsoguDQ1UzrY"
      },
      "outputs": [],
      "source": [
        "#Drop rows with null values\n",
        "df_cleaned = df.dropna(subset=['movie_info', 'genres', 'directors', 'actors'])"
      ]
    },
    {
      "cell_type": "code",
      "execution_count": 18,
      "metadata": {
        "colab": {
          "base_uri": "https://localhost:8080/",
          "height": 264
        },
        "id": "skkeHvyWVPgz",
        "outputId": "97caa07c-c7ce-4215-c3b8-b036df148322"
      },
      "outputs": [
        {
          "data": {
            "text/plain": [
              "movie_title       0\n",
              "movie_info        0\n",
              "content_rating    0\n",
              "genres            0\n",
              "directors         0\n",
              "actors            0\n",
              "dtype: int64"
            ]
          },
          "execution_count": 18,
          "metadata": {},
          "output_type": "execute_result"
        }
      ],
      "source": [
        "df_cleaned.isnull().sum()"
      ]
    },
    {
      "cell_type": "code",
      "execution_count": 19,
      "metadata": {
        "colab": {
          "base_uri": "https://localhost:8080/",
          "height": 283
        },
        "id": "4gHa6rutVcbM",
        "outputId": "9347f29f-4d5c-4f9a-e709-f7968eac61bd"
      },
      "outputs": [
        {
          "data": {
            "text/html": [
              "<div>\n",
              "<style scoped>\n",
              "    .dataframe tbody tr th:only-of-type {\n",
              "        vertical-align: middle;\n",
              "    }\n",
              "\n",
              "    .dataframe tbody tr th {\n",
              "        vertical-align: top;\n",
              "    }\n",
              "\n",
              "    .dataframe thead th {\n",
              "        text-align: right;\n",
              "    }\n",
              "</style>\n",
              "<table border=\"1\" class=\"dataframe\">\n",
              "  <thead>\n",
              "    <tr style=\"text-align: right;\">\n",
              "      <th></th>\n",
              "      <th>movie_title</th>\n",
              "      <th>movie_info</th>\n",
              "      <th>content_rating</th>\n",
              "      <th>genres</th>\n",
              "      <th>directors</th>\n",
              "      <th>actors</th>\n",
              "    </tr>\n",
              "  </thead>\n",
              "  <tbody>\n",
              "    <tr>\n",
              "      <th>0</th>\n",
              "      <td>Percy Jackson &amp; the Olympians: The Lightning T...</td>\n",
              "      <td>Always trouble-prone, the life of teenager Per...</td>\n",
              "      <td>PG</td>\n",
              "      <td>Action &amp; Adventure, Comedy, Drama, Science Fic...</td>\n",
              "      <td>Chris Columbus</td>\n",
              "      <td>Logan Lerman, Brandon T. Jackson, Alexandra Da...</td>\n",
              "    </tr>\n",
              "    <tr>\n",
              "      <th>1</th>\n",
              "      <td>Please Give</td>\n",
              "      <td>Kate (Catherine Keener) and her husband Alex (...</td>\n",
              "      <td>R</td>\n",
              "      <td>Comedy</td>\n",
              "      <td>Nicole Holofcener</td>\n",
              "      <td>Catherine Keener, Amanda Peet, Oliver Platt, R...</td>\n",
              "    </tr>\n",
              "    <tr>\n",
              "      <th>2</th>\n",
              "      <td>10</td>\n",
              "      <td>A successful, middle-aged Hollywood songwriter...</td>\n",
              "      <td>R</td>\n",
              "      <td>Comedy, Romance</td>\n",
              "      <td>Blake Edwards</td>\n",
              "      <td>Dudley Moore, Bo Derek, Julie Andrews, Robert ...</td>\n",
              "    </tr>\n",
              "    <tr>\n",
              "      <th>3</th>\n",
              "      <td>12 Angry Men (Twelve Angry Men)</td>\n",
              "      <td>Following the closing arguments in a murder tr...</td>\n",
              "      <td>NR</td>\n",
              "      <td>Classics, Drama</td>\n",
              "      <td>Sidney Lumet</td>\n",
              "      <td>Martin Balsam, John Fiedler, Lee J. Cobb, E.G....</td>\n",
              "    </tr>\n",
              "    <tr>\n",
              "      <th>4</th>\n",
              "      <td>20,000 Leagues Under The Sea</td>\n",
              "      <td>In 1866, Professor Pierre M. Aronnax (Paul Luk...</td>\n",
              "      <td>G</td>\n",
              "      <td>Action &amp; Adventure, Drama, Kids &amp; Family</td>\n",
              "      <td>Richard Fleischer</td>\n",
              "      <td>James Mason, Kirk Douglas, Paul Lukas, Peter L...</td>\n",
              "    </tr>\n",
              "  </tbody>\n",
              "</table>\n",
              "</div>"
            ],
            "text/plain": [
              "                                         movie_title  \\\n",
              "0  Percy Jackson & the Olympians: The Lightning T...   \n",
              "1                                        Please Give   \n",
              "2                                                 10   \n",
              "3                    12 Angry Men (Twelve Angry Men)   \n",
              "4                       20,000 Leagues Under The Sea   \n",
              "\n",
              "                                          movie_info content_rating  \\\n",
              "0  Always trouble-prone, the life of teenager Per...             PG   \n",
              "1  Kate (Catherine Keener) and her husband Alex (...              R   \n",
              "2  A successful, middle-aged Hollywood songwriter...              R   \n",
              "3  Following the closing arguments in a murder tr...             NR   \n",
              "4  In 1866, Professor Pierre M. Aronnax (Paul Luk...              G   \n",
              "\n",
              "                                              genres          directors  \\\n",
              "0  Action & Adventure, Comedy, Drama, Science Fic...     Chris Columbus   \n",
              "1                                             Comedy  Nicole Holofcener   \n",
              "2                                    Comedy, Romance      Blake Edwards   \n",
              "3                                    Classics, Drama       Sidney Lumet   \n",
              "4           Action & Adventure, Drama, Kids & Family  Richard Fleischer   \n",
              "\n",
              "                                              actors  \n",
              "0  Logan Lerman, Brandon T. Jackson, Alexandra Da...  \n",
              "1  Catherine Keener, Amanda Peet, Oliver Platt, R...  \n",
              "2  Dudley Moore, Bo Derek, Julie Andrews, Robert ...  \n",
              "3  Martin Balsam, John Fiedler, Lee J. Cobb, E.G....  \n",
              "4  James Mason, Kirk Douglas, Paul Lukas, Peter L...  "
            ]
          },
          "execution_count": 19,
          "metadata": {},
          "output_type": "execute_result"
        }
      ],
      "source": [
        "df_cleaned.head()"
      ]
    },
    {
      "cell_type": "markdown",
      "metadata": {},
      "source": [
        "#### Reset index, we will use this dataset moving forward "
      ]
    },
    {
      "cell_type": "code",
      "execution_count": 20,
      "metadata": {
        "id": "yltf8XrxeKr-"
      },
      "outputs": [
        {
          "data": {
            "text/html": [
              "<div>\n",
              "<style scoped>\n",
              "    .dataframe tbody tr th:only-of-type {\n",
              "        vertical-align: middle;\n",
              "    }\n",
              "\n",
              "    .dataframe tbody tr th {\n",
              "        vertical-align: top;\n",
              "    }\n",
              "\n",
              "    .dataframe thead th {\n",
              "        text-align: right;\n",
              "    }\n",
              "</style>\n",
              "<table border=\"1\" class=\"dataframe\">\n",
              "  <thead>\n",
              "    <tr style=\"text-align: right;\">\n",
              "      <th></th>\n",
              "      <th>movie_title</th>\n",
              "      <th>movie_info</th>\n",
              "      <th>content_rating</th>\n",
              "      <th>genres</th>\n",
              "      <th>directors</th>\n",
              "      <th>actors</th>\n",
              "    </tr>\n",
              "  </thead>\n",
              "  <tbody>\n",
              "    <tr>\n",
              "      <th>0</th>\n",
              "      <td>Percy Jackson &amp; the Olympians: The Lightning T...</td>\n",
              "      <td>Always trouble-prone, the life of teenager Per...</td>\n",
              "      <td>PG</td>\n",
              "      <td>Action &amp; Adventure, Comedy, Drama, Science Fic...</td>\n",
              "      <td>Chris Columbus</td>\n",
              "      <td>Logan Lerman, Brandon T. Jackson, Alexandra Da...</td>\n",
              "    </tr>\n",
              "    <tr>\n",
              "      <th>1</th>\n",
              "      <td>Please Give</td>\n",
              "      <td>Kate (Catherine Keener) and her husband Alex (...</td>\n",
              "      <td>R</td>\n",
              "      <td>Comedy</td>\n",
              "      <td>Nicole Holofcener</td>\n",
              "      <td>Catherine Keener, Amanda Peet, Oliver Platt, R...</td>\n",
              "    </tr>\n",
              "    <tr>\n",
              "      <th>2</th>\n",
              "      <td>10</td>\n",
              "      <td>A successful, middle-aged Hollywood songwriter...</td>\n",
              "      <td>R</td>\n",
              "      <td>Comedy, Romance</td>\n",
              "      <td>Blake Edwards</td>\n",
              "      <td>Dudley Moore, Bo Derek, Julie Andrews, Robert ...</td>\n",
              "    </tr>\n",
              "    <tr>\n",
              "      <th>3</th>\n",
              "      <td>12 Angry Men (Twelve Angry Men)</td>\n",
              "      <td>Following the closing arguments in a murder tr...</td>\n",
              "      <td>NR</td>\n",
              "      <td>Classics, Drama</td>\n",
              "      <td>Sidney Lumet</td>\n",
              "      <td>Martin Balsam, John Fiedler, Lee J. Cobb, E.G....</td>\n",
              "    </tr>\n",
              "    <tr>\n",
              "      <th>4</th>\n",
              "      <td>20,000 Leagues Under The Sea</td>\n",
              "      <td>In 1866, Professor Pierre M. Aronnax (Paul Luk...</td>\n",
              "      <td>G</td>\n",
              "      <td>Action &amp; Adventure, Drama, Kids &amp; Family</td>\n",
              "      <td>Richard Fleischer</td>\n",
              "      <td>James Mason, Kirk Douglas, Paul Lukas, Peter L...</td>\n",
              "    </tr>\n",
              "    <tr>\n",
              "      <th>...</th>\n",
              "      <td>...</td>\n",
              "      <td>...</td>\n",
              "      <td>...</td>\n",
              "      <td>...</td>\n",
              "      <td>...</td>\n",
              "      <td>...</td>\n",
              "    </tr>\n",
              "    <tr>\n",
              "      <th>16903</th>\n",
              "      <td>Zoom</td>\n",
              "      <td>Capt. Zoom, or Jack (Tim Allen), as he is now ...</td>\n",
              "      <td>PG</td>\n",
              "      <td>Action &amp; Adventure, Comedy, Kids &amp; Family</td>\n",
              "      <td>Peter Hewitt</td>\n",
              "      <td>Tim Allen, Courteney Cox, Chevy Chase, Spencer...</td>\n",
              "    </tr>\n",
              "    <tr>\n",
              "      <th>16904</th>\n",
              "      <td>Zoot Suit</td>\n",
              "      <td>Mexican-American gangster Henry Reyna (Daniel ...</td>\n",
              "      <td>R</td>\n",
              "      <td>Drama, Musical &amp; Performing Arts</td>\n",
              "      <td>Luis Valdez</td>\n",
              "      <td>Daniel Valdez, Edward James Olmos, Charles Aid...</td>\n",
              "    </tr>\n",
              "    <tr>\n",
              "      <th>16905</th>\n",
              "      <td>Zootopia</td>\n",
              "      <td>From the largest elephant to the smallest shre...</td>\n",
              "      <td>PG</td>\n",
              "      <td>Action &amp; Adventure, Animation, Comedy</td>\n",
              "      <td>Byron Howard</td>\n",
              "      <td>J.K. Simmons, Kristen Bell, Octavia Spencer, A...</td>\n",
              "    </tr>\n",
              "    <tr>\n",
              "      <th>16906</th>\n",
              "      <td>Zulu</td>\n",
              "      <td>In 1879, the Zulu nation hands colonial Britis...</td>\n",
              "      <td>PG</td>\n",
              "      <td>Classics, Drama</td>\n",
              "      <td>Cy Endfield</td>\n",
              "      <td>Stanley Baker, Jack Hawkins, Ulla Jacobsson, J...</td>\n",
              "    </tr>\n",
              "    <tr>\n",
              "      <th>16907</th>\n",
              "      <td>Zulu Dawn</td>\n",
              "      <td>Sir Henry Bartle Frere's (John Mills) vastly o...</td>\n",
              "      <td>PG</td>\n",
              "      <td>Action &amp; Adventure, Art House &amp; International,...</td>\n",
              "      <td>Douglas Hickox</td>\n",
              "      <td>Burt Lancaster, Peter O'Toole, Simon Ward, Joh...</td>\n",
              "    </tr>\n",
              "  </tbody>\n",
              "</table>\n",
              "<p>16908 rows × 6 columns</p>\n",
              "</div>"
            ],
            "text/plain": [
              "                                             movie_title  \\\n",
              "0      Percy Jackson & the Olympians: The Lightning T...   \n",
              "1                                            Please Give   \n",
              "2                                                     10   \n",
              "3                        12 Angry Men (Twelve Angry Men)   \n",
              "4                           20,000 Leagues Under The Sea   \n",
              "...                                                  ...   \n",
              "16903                                               Zoom   \n",
              "16904                                          Zoot Suit   \n",
              "16905                                           Zootopia   \n",
              "16906                                               Zulu   \n",
              "16907                                          Zulu Dawn   \n",
              "\n",
              "                                              movie_info content_rating  \\\n",
              "0      Always trouble-prone, the life of teenager Per...             PG   \n",
              "1      Kate (Catherine Keener) and her husband Alex (...              R   \n",
              "2      A successful, middle-aged Hollywood songwriter...              R   \n",
              "3      Following the closing arguments in a murder tr...             NR   \n",
              "4      In 1866, Professor Pierre M. Aronnax (Paul Luk...              G   \n",
              "...                                                  ...            ...   \n",
              "16903  Capt. Zoom, or Jack (Tim Allen), as he is now ...             PG   \n",
              "16904  Mexican-American gangster Henry Reyna (Daniel ...              R   \n",
              "16905  From the largest elephant to the smallest shre...             PG   \n",
              "16906  In 1879, the Zulu nation hands colonial Britis...             PG   \n",
              "16907  Sir Henry Bartle Frere's (John Mills) vastly o...             PG   \n",
              "\n",
              "                                                  genres          directors  \\\n",
              "0      Action & Adventure, Comedy, Drama, Science Fic...     Chris Columbus   \n",
              "1                                                 Comedy  Nicole Holofcener   \n",
              "2                                        Comedy, Romance      Blake Edwards   \n",
              "3                                        Classics, Drama       Sidney Lumet   \n",
              "4               Action & Adventure, Drama, Kids & Family  Richard Fleischer   \n",
              "...                                                  ...                ...   \n",
              "16903          Action & Adventure, Comedy, Kids & Family       Peter Hewitt   \n",
              "16904                   Drama, Musical & Performing Arts        Luis Valdez   \n",
              "16905              Action & Adventure, Animation, Comedy       Byron Howard   \n",
              "16906                                    Classics, Drama        Cy Endfield   \n",
              "16907  Action & Adventure, Art House & International,...     Douglas Hickox   \n",
              "\n",
              "                                                  actors  \n",
              "0      Logan Lerman, Brandon T. Jackson, Alexandra Da...  \n",
              "1      Catherine Keener, Amanda Peet, Oliver Platt, R...  \n",
              "2      Dudley Moore, Bo Derek, Julie Andrews, Robert ...  \n",
              "3      Martin Balsam, John Fiedler, Lee J. Cobb, E.G....  \n",
              "4      James Mason, Kirk Douglas, Paul Lukas, Peter L...  \n",
              "...                                                  ...  \n",
              "16903  Tim Allen, Courteney Cox, Chevy Chase, Spencer...  \n",
              "16904  Daniel Valdez, Edward James Olmos, Charles Aid...  \n",
              "16905  J.K. Simmons, Kristen Bell, Octavia Spencer, A...  \n",
              "16906  Stanley Baker, Jack Hawkins, Ulla Jacobsson, J...  \n",
              "16907  Burt Lancaster, Peter O'Toole, Simon Ward, Joh...  \n",
              "\n",
              "[16908 rows x 6 columns]"
            ]
          },
          "execution_count": 20,
          "metadata": {},
          "output_type": "execute_result"
        }
      ],
      "source": [
        "# reset index \n",
        "df_cleaned = df_cleaned.reset_index(drop=True)\n",
        "df_cleaned"
      ]
    },
    {
      "cell_type": "code",
      "execution_count": 21,
      "metadata": {
        "id": "UPVBSdzlfYBf"
      },
      "outputs": [],
      "source": [
        "# Display the full contents of each cell \n",
        "pd.set_option('display.max_colwidth', None)"
      ]
    },
    {
      "cell_type": "code",
      "execution_count": 22,
      "metadata": {
        "colab": {
          "base_uri": "https://localhost:8080/",
          "height": 382
        },
        "id": "4-QYHV_8fbA9",
        "outputId": "82fec8fa-e9e4-4dde-8908-d66e53b51bda"
      },
      "outputs": [
        {
          "data": {
            "text/plain": [
              "0                                       Always trouble-prone, the life of teenager Percy Jackson (Logan Lerman) gets a lot more complicated when he learns he's the son of the Greek god Poseidon. At a training ground for the children of deities, Percy learns to harness his divine powers and prepare for the adventure of a lifetime: he must prevent a feud among the Olympians from erupting into a devastating war on Earth, and rescue his mother from the clutches of Hades, god of the underworld.\n",
              "1       Kate (Catherine Keener) and her husband Alex (Oliver Platt) are wealthy New Yorkers who prowl estate sales and make a tidy profit reselling items they bought cheaply. They buy the apartment next door and plan to remodel just as soon as its current occupant, a cranky old woman, dies. Kate is troubled by the way she and her husband earn a living, and tries to assuage her guilt by befriending her tenant and the woman's granddaughters, but her overtures lead to unexpected consequences.\n",
              "2                                                                                                                                                                                                                      A successful, middle-aged Hollywood songwriter falls hopelessly in love with the woman of his dreams, and even follows the girl and her new husband to their Mexican honeymoon resort. While his behavior seems sure to land him in trouble, out of the blue fate plays into his hands.\n",
              "3                                           Following the closing arguments in a murder trial, the 12 members of the jury must deliberate, with a guilty verdict meaning death for the accused, an inner-city teen. As the dozen men try to reach a unanimous decision while sequestered in a room, one juror (Henry Fonda) casts considerable doubt on elements of the case. Personal issues soon rise to the surface, and conflict threatens to derail the delicate process that will decide one boy's fate.\n",
              "4    In 1866, Professor Pierre M. Aronnax (Paul Lukas) and his assistant Conseil (Peter Lorre), stranded in San Francisco by reports of a giant sea monster attacking ships in the Pacific Ocean, are invited to join an expedition to search for the creature. During the search, they and harpooner Ned Land (Kirk Douglas) are thrown overboard during an attack, eventually discovering that the supposed monster is actually a submarine piloted by the brilliant but haunted Captain Nemo (James Mason).\n",
              "Name: movie_info, dtype: object"
            ]
          },
          "execution_count": 22,
          "metadata": {},
          "output_type": "execute_result"
        }
      ],
      "source": [
        "df_cleaned['movie_info'].head()"
      ]
    },
    {
      "cell_type": "code",
      "execution_count": 23,
      "metadata": {
        "colab": {
          "base_uri": "https://localhost:8080/"
        },
        "id": "EHskVxySArPF",
        "outputId": "fc282ee2-d067-4218-f241-edea4cdb8142"
      },
      "outputs": [
        {
          "data": {
            "text/plain": [
              "(16908, 6)"
            ]
          },
          "execution_count": 23,
          "metadata": {},
          "output_type": "execute_result"
        }
      ],
      "source": [
        "df_cleaned.shape"
      ]
    },
    {
      "cell_type": "code",
      "execution_count": 24,
      "metadata": {
        "colab": {
          "base_uri": "https://localhost:8080/"
        },
        "id": "ye77iwjYfHbW",
        "outputId": "ec8412b1-84fb-4a82-fc84-c5b40b3c3994"
      },
      "outputs": [],
      "source": [
        "# Remove newline characters ('\\r', '\\n')\n",
        "df_cleaned['movie_info'] = df['movie_info'].str.replace('\\r', ' ').str.replace('\\n', ' ').astype(str)"
      ]
    },
    {
      "cell_type": "code",
      "execution_count": 25,
      "metadata": {
        "colab": {
          "base_uri": "https://localhost:8080/",
          "height": 382
        },
        "id": "mL0BDveTfQyt",
        "outputId": "9ce613c0-64a5-4bc8-8b47-63260ce0d454"
      },
      "outputs": [
        {
          "data": {
            "text/plain": [
              "0                                       Always trouble-prone, the life of teenager Percy Jackson (Logan Lerman) gets a lot more complicated when he learns he's the son of the Greek god Poseidon. At a training ground for the children of deities, Percy learns to harness his divine powers and prepare for the adventure of a lifetime: he must prevent a feud among the Olympians from erupting into a devastating war on Earth, and rescue his mother from the clutches of Hades, god of the underworld.\n",
              "1       Kate (Catherine Keener) and her husband Alex (Oliver Platt) are wealthy New Yorkers who prowl estate sales and make a tidy profit reselling items they bought cheaply. They buy the apartment next door and plan to remodel just as soon as its current occupant, a cranky old woman, dies. Kate is troubled by the way she and her husband earn a living, and tries to assuage her guilt by befriending her tenant and the woman's granddaughters, but her overtures lead to unexpected consequences.\n",
              "2                                                                                                                                                                                                                      A successful, middle-aged Hollywood songwriter falls hopelessly in love with the woman of his dreams, and even follows the girl and her new husband to their Mexican honeymoon resort. While his behavior seems sure to land him in trouble, out of the blue fate plays into his hands.\n",
              "3                                           Following the closing arguments in a murder trial, the 12 members of the jury must deliberate, with a guilty verdict meaning death for the accused, an inner-city teen. As the dozen men try to reach a unanimous decision while sequestered in a room, one juror (Henry Fonda) casts considerable doubt on elements of the case. Personal issues soon rise to the surface, and conflict threatens to derail the delicate process that will decide one boy's fate.\n",
              "4    In 1866, Professor Pierre M. Aronnax (Paul Lukas) and his assistant Conseil (Peter Lorre), stranded in San Francisco by reports of a giant sea monster attacking ships in the Pacific Ocean, are invited to join an expedition to search for the creature. During the search, they and harpooner Ned Land (Kirk Douglas) are thrown overboard during an attack, eventually discovering that the supposed monster is actually a submarine piloted by the brilliant but haunted Captain Nemo (James Mason).\n",
              "Name: movie_info, dtype: object"
            ]
          },
          "execution_count": 25,
          "metadata": {},
          "output_type": "execute_result"
        }
      ],
      "source": [
        "df_cleaned['movie_info'].head()"
      ]
    },
    {
      "cell_type": "markdown",
      "metadata": {},
      "source": [
        "### Remove Spaces from names of actors and directors"
      ]
    },
    {
      "cell_type": "code",
      "execution_count": 26,
      "metadata": {},
      "outputs": [],
      "source": [
        "df_cleaned['directors'] = df_cleaned['directors'].str.replace(' ', '')\n",
        "df_cleaned['actors'] = df_cleaned['actors'].apply(\n",
        "    lambda x: ', '.join(name.replace(' ', '') for name in x.split(','))\n",
        ")"
      ]
    },
    {
      "cell_type": "code",
      "execution_count": 27,
      "metadata": {
        "colab": {
          "base_uri": "https://localhost:8080/"
        },
        "id": "RoiVMUBdmPYv",
        "outputId": "d5bc5f6a-c998-49ce-f6c4-adcab2580a64"
      },
      "outputs": [],
      "source": [
        "# Combining relevant columns for cleaning and then LSH model training\n",
        "df_cleaned['movie_combined'] = df_cleaned['movie_title'] + ' ' + df_cleaned['movie_info']+ ' ' + df_cleaned['content_rating']+ ' ' + df_cleaned['genres']+ ' ' + df_cleaned['directors']+ ' ' + df_cleaned['actors']"
      ]
    },
    {
      "cell_type": "code",
      "execution_count": 28,
      "metadata": {
        "colab": {
          "base_uri": "https://localhost:8080/",
          "height": 1000
        },
        "id": "VLFOSIrEqBah",
        "outputId": "f1431d4f-5b1c-4961-b1c6-abe8eaccee8b"
      },
      "outputs": [
        {
          "data": {
            "text/html": [
              "<div>\n",
              "<style scoped>\n",
              "    .dataframe tbody tr th:only-of-type {\n",
              "        vertical-align: middle;\n",
              "    }\n",
              "\n",
              "    .dataframe tbody tr th {\n",
              "        vertical-align: top;\n",
              "    }\n",
              "\n",
              "    .dataframe thead th {\n",
              "        text-align: right;\n",
              "    }\n",
              "</style>\n",
              "<table border=\"1\" class=\"dataframe\">\n",
              "  <thead>\n",
              "    <tr style=\"text-align: right;\">\n",
              "      <th></th>\n",
              "      <th>movie_title</th>\n",
              "      <th>movie_info</th>\n",
              "      <th>content_rating</th>\n",
              "      <th>genres</th>\n",
              "      <th>directors</th>\n",
              "      <th>actors</th>\n",
              "      <th>movie_combined</th>\n",
              "    </tr>\n",
              "  </thead>\n",
              "  <tbody>\n",
              "    <tr>\n",
              "      <th>0</th>\n",
              "      <td>Percy Jackson &amp; the Olympians: The Lightning Thief</td>\n",
              "      <td>Always trouble-prone, the life of teenager Percy Jackson (Logan Lerman) gets a lot more complicated when he learns he's the son of the Greek god Poseidon. At a training ground for the children of deities, Percy learns to harness his divine powers and prepare for the adventure of a lifetime: he must prevent a feud among the Olympians from erupting into a devastating war on Earth, and rescue his mother from the clutches of Hades, god of the underworld.</td>\n",
              "      <td>PG</td>\n",
              "      <td>Action &amp; Adventure, Comedy, Drama, Science Fiction &amp; Fantasy</td>\n",
              "      <td>ChrisColumbus</td>\n",
              "      <td>LoganLerman, BrandonT.Jackson, AlexandraDaddario, JakeAbel</td>\n",
              "      <td>Percy Jackson &amp; the Olympians: The Lightning Thief Always trouble-prone, the life of teenager Percy Jackson (Logan Lerman) gets a lot more complicated when he learns he's the son of the Greek god Poseidon. At a training ground for the children of deities, Percy learns to harness his divine powers and prepare for the adventure of a lifetime: he must prevent a feud among the Olympians from erupting into a devastating war on Earth, and rescue his mother from the clutches of Hades, god of the underworld. PG Action &amp; Adventure, Comedy, Drama, Science Fiction &amp; Fantasy ChrisColumbus LoganLerman, BrandonT.Jackson, AlexandraDaddario, JakeAbel</td>\n",
              "    </tr>\n",
              "    <tr>\n",
              "      <th>1</th>\n",
              "      <td>Please Give</td>\n",
              "      <td>Kate (Catherine Keener) and her husband Alex (Oliver Platt) are wealthy New Yorkers who prowl estate sales and make a tidy profit reselling items they bought cheaply. They buy the apartment next door and plan to remodel just as soon as its current occupant, a cranky old woman, dies. Kate is troubled by the way she and her husband earn a living, and tries to assuage her guilt by befriending her tenant and the woman's granddaughters, but her overtures lead to unexpected consequences.</td>\n",
              "      <td>R</td>\n",
              "      <td>Comedy</td>\n",
              "      <td>NicoleHolofcener</td>\n",
              "      <td>CatherineKeener, AmandaPeet, OliverPlatt, RebeccaHall</td>\n",
              "      <td>Please Give Kate (Catherine Keener) and her husband Alex (Oliver Platt) are wealthy New Yorkers who prowl estate sales and make a tidy profit reselling items they bought cheaply. They buy the apartment next door and plan to remodel just as soon as its current occupant, a cranky old woman, dies. Kate is troubled by the way she and her husband earn a living, and tries to assuage her guilt by befriending her tenant and the woman's granddaughters, but her overtures lead to unexpected consequences. R Comedy NicoleHolofcener CatherineKeener, AmandaPeet, OliverPlatt, RebeccaHall</td>\n",
              "    </tr>\n",
              "    <tr>\n",
              "      <th>2</th>\n",
              "      <td>10</td>\n",
              "      <td>A successful, middle-aged Hollywood songwriter falls hopelessly in love with the woman of his dreams, and even follows the girl and her new husband to their Mexican honeymoon resort. While his behavior seems sure to land him in trouble, out of the blue fate plays into his hands.</td>\n",
              "      <td>R</td>\n",
              "      <td>Comedy, Romance</td>\n",
              "      <td>BlakeEdwards</td>\n",
              "      <td>DudleyMoore, BoDerek, JulieAndrews, RobertWebber</td>\n",
              "      <td>10 A successful, middle-aged Hollywood songwriter falls hopelessly in love with the woman of his dreams, and even follows the girl and her new husband to their Mexican honeymoon resort. While his behavior seems sure to land him in trouble, out of the blue fate plays into his hands. R Comedy, Romance BlakeEdwards DudleyMoore, BoDerek, JulieAndrews, RobertWebber</td>\n",
              "    </tr>\n",
              "    <tr>\n",
              "      <th>3</th>\n",
              "      <td>12 Angry Men (Twelve Angry Men)</td>\n",
              "      <td>Following the closing arguments in a murder trial, the 12 members of the jury must deliberate, with a guilty verdict meaning death for the accused, an inner-city teen. As the dozen men try to reach a unanimous decision while sequestered in a room, one juror (Henry Fonda) casts considerable doubt on elements of the case. Personal issues soon rise to the surface, and conflict threatens to derail the delicate process that will decide one boy's fate.</td>\n",
              "      <td>NR</td>\n",
              "      <td>Classics, Drama</td>\n",
              "      <td>SidneyLumet</td>\n",
              "      <td>MartinBalsam, JohnFiedler, LeeJ.Cobb, E.G.Marshall</td>\n",
              "      <td>12 Angry Men (Twelve Angry Men) Following the closing arguments in a murder trial, the 12 members of the jury must deliberate, with a guilty verdict meaning death for the accused, an inner-city teen. As the dozen men try to reach a unanimous decision while sequestered in a room, one juror (Henry Fonda) casts considerable doubt on elements of the case. Personal issues soon rise to the surface, and conflict threatens to derail the delicate process that will decide one boy's fate. NR Classics, Drama SidneyLumet MartinBalsam, JohnFiedler, LeeJ.Cobb, E.G.Marshall</td>\n",
              "    </tr>\n",
              "    <tr>\n",
              "      <th>4</th>\n",
              "      <td>20,000 Leagues Under The Sea</td>\n",
              "      <td>In 1866, Professor Pierre M. Aronnax (Paul Lukas) and his assistant Conseil (Peter Lorre), stranded in San Francisco by reports of a giant sea monster attacking ships in the Pacific Ocean, are invited to join an expedition to search for the creature. During the search, they and harpooner Ned Land (Kirk Douglas) are thrown overboard during an attack, eventually discovering that the supposed monster is actually a submarine piloted by the brilliant but haunted Captain Nemo (James Mason).</td>\n",
              "      <td>G</td>\n",
              "      <td>Action &amp; Adventure, Drama, Kids &amp; Family</td>\n",
              "      <td>RichardFleischer</td>\n",
              "      <td>JamesMason, KirkDouglas, PaulLukas, PeterLorre</td>\n",
              "      <td>20,000 Leagues Under The Sea In 1866, Professor Pierre M. Aronnax (Paul Lukas) and his assistant Conseil (Peter Lorre), stranded in San Francisco by reports of a giant sea monster attacking ships in the Pacific Ocean, are invited to join an expedition to search for the creature. During the search, they and harpooner Ned Land (Kirk Douglas) are thrown overboard during an attack, eventually discovering that the supposed monster is actually a submarine piloted by the brilliant but haunted Captain Nemo (James Mason). G Action &amp; Adventure, Drama, Kids &amp; Family RichardFleischer JamesMason, KirkDouglas, PaulLukas, PeterLorre</td>\n",
              "    </tr>\n",
              "  </tbody>\n",
              "</table>\n",
              "</div>"
            ],
            "text/plain": [
              "                                          movie_title  \\\n",
              "0  Percy Jackson & the Olympians: The Lightning Thief   \n",
              "1                                         Please Give   \n",
              "2                                                  10   \n",
              "3                     12 Angry Men (Twelve Angry Men)   \n",
              "4                        20,000 Leagues Under The Sea   \n",
              "\n",
              "                                                                                                                                                                                                                                                                                                                                                                                                                                                                                                  movie_info  \\\n",
              "0                                     Always trouble-prone, the life of teenager Percy Jackson (Logan Lerman) gets a lot more complicated when he learns he's the son of the Greek god Poseidon. At a training ground for the children of deities, Percy learns to harness his divine powers and prepare for the adventure of a lifetime: he must prevent a feud among the Olympians from erupting into a devastating war on Earth, and rescue his mother from the clutches of Hades, god of the underworld.   \n",
              "1     Kate (Catherine Keener) and her husband Alex (Oliver Platt) are wealthy New Yorkers who prowl estate sales and make a tidy profit reselling items they bought cheaply. They buy the apartment next door and plan to remodel just as soon as its current occupant, a cranky old woman, dies. Kate is troubled by the way she and her husband earn a living, and tries to assuage her guilt by befriending her tenant and the woman's granddaughters, but her overtures lead to unexpected consequences.   \n",
              "2                                                                                                                                                                                                                    A successful, middle-aged Hollywood songwriter falls hopelessly in love with the woman of his dreams, and even follows the girl and her new husband to their Mexican honeymoon resort. While his behavior seems sure to land him in trouble, out of the blue fate plays into his hands.   \n",
              "3                                         Following the closing arguments in a murder trial, the 12 members of the jury must deliberate, with a guilty verdict meaning death for the accused, an inner-city teen. As the dozen men try to reach a unanimous decision while sequestered in a room, one juror (Henry Fonda) casts considerable doubt on elements of the case. Personal issues soon rise to the surface, and conflict threatens to derail the delicate process that will decide one boy's fate.   \n",
              "4  In 1866, Professor Pierre M. Aronnax (Paul Lukas) and his assistant Conseil (Peter Lorre), stranded in San Francisco by reports of a giant sea monster attacking ships in the Pacific Ocean, are invited to join an expedition to search for the creature. During the search, they and harpooner Ned Land (Kirk Douglas) are thrown overboard during an attack, eventually discovering that the supposed monster is actually a submarine piloted by the brilliant but haunted Captain Nemo (James Mason).   \n",
              "\n",
              "  content_rating  \\\n",
              "0             PG   \n",
              "1              R   \n",
              "2              R   \n",
              "3             NR   \n",
              "4              G   \n",
              "\n",
              "                                                         genres  \\\n",
              "0  Action & Adventure, Comedy, Drama, Science Fiction & Fantasy   \n",
              "1                                                        Comedy   \n",
              "2                                               Comedy, Romance   \n",
              "3                                               Classics, Drama   \n",
              "4                      Action & Adventure, Drama, Kids & Family   \n",
              "\n",
              "          directors  \\\n",
              "0     ChrisColumbus   \n",
              "1  NicoleHolofcener   \n",
              "2      BlakeEdwards   \n",
              "3       SidneyLumet   \n",
              "4  RichardFleischer   \n",
              "\n",
              "                                                       actors  \\\n",
              "0  LoganLerman, BrandonT.Jackson, AlexandraDaddario, JakeAbel   \n",
              "1       CatherineKeener, AmandaPeet, OliverPlatt, RebeccaHall   \n",
              "2            DudleyMoore, BoDerek, JulieAndrews, RobertWebber   \n",
              "3          MartinBalsam, JohnFiedler, LeeJ.Cobb, E.G.Marshall   \n",
              "4              JamesMason, KirkDouglas, PaulLukas, PeterLorre   \n",
              "\n",
              "                                                                                                                                                                                                                                                                                                                                                                                                                                                                                                                                                                                                                                                       movie_combined  \n",
              "0  Percy Jackson & the Olympians: The Lightning Thief Always trouble-prone, the life of teenager Percy Jackson (Logan Lerman) gets a lot more complicated when he learns he's the son of the Greek god Poseidon. At a training ground for the children of deities, Percy learns to harness his divine powers and prepare for the adventure of a lifetime: he must prevent a feud among the Olympians from erupting into a devastating war on Earth, and rescue his mother from the clutches of Hades, god of the underworld. PG Action & Adventure, Comedy, Drama, Science Fiction & Fantasy ChrisColumbus LoganLerman, BrandonT.Jackson, AlexandraDaddario, JakeAbel  \n",
              "1                                                                  Please Give Kate (Catherine Keener) and her husband Alex (Oliver Platt) are wealthy New Yorkers who prowl estate sales and make a tidy profit reselling items they bought cheaply. They buy the apartment next door and plan to remodel just as soon as its current occupant, a cranky old woman, dies. Kate is troubled by the way she and her husband earn a living, and tries to assuage her guilt by befriending her tenant and the woman's granddaughters, but her overtures lead to unexpected consequences. R Comedy NicoleHolofcener CatherineKeener, AmandaPeet, OliverPlatt, RebeccaHall  \n",
              "2                                                                                                                                                                                                                                                                                          10 A successful, middle-aged Hollywood songwriter falls hopelessly in love with the woman of his dreams, and even follows the girl and her new husband to their Mexican honeymoon resort. While his behavior seems sure to land him in trouble, out of the blue fate plays into his hands. R Comedy, Romance BlakeEdwards DudleyMoore, BoDerek, JulieAndrews, RobertWebber  \n",
              "3                                                                                12 Angry Men (Twelve Angry Men) Following the closing arguments in a murder trial, the 12 members of the jury must deliberate, with a guilty verdict meaning death for the accused, an inner-city teen. As the dozen men try to reach a unanimous decision while sequestered in a room, one juror (Henry Fonda) casts considerable doubt on elements of the case. Personal issues soon rise to the surface, and conflict threatens to derail the delicate process that will decide one boy's fate. NR Classics, Drama SidneyLumet MartinBalsam, JohnFiedler, LeeJ.Cobb, E.G.Marshall  \n",
              "4                   20,000 Leagues Under The Sea In 1866, Professor Pierre M. Aronnax (Paul Lukas) and his assistant Conseil (Peter Lorre), stranded in San Francisco by reports of a giant sea monster attacking ships in the Pacific Ocean, are invited to join an expedition to search for the creature. During the search, they and harpooner Ned Land (Kirk Douglas) are thrown overboard during an attack, eventually discovering that the supposed monster is actually a submarine piloted by the brilliant but haunted Captain Nemo (James Mason). G Action & Adventure, Drama, Kids & Family RichardFleischer JamesMason, KirkDouglas, PaulLukas, PeterLorre  "
            ]
          },
          "execution_count": 28,
          "metadata": {},
          "output_type": "execute_result"
        }
      ],
      "source": [
        "df_cleaned.head(5)"
      ]
    },
    {
      "cell_type": "code",
      "execution_count": 29,
      "metadata": {
        "id": "WkQ-ZZJIfULX"
      },
      "outputs": [],
      "source": [
        "#Function to clean_text\n",
        "def clean_text(text):\n",
        "    lem = WordNetLemmatizer()\n",
        "    stop = set(stopwords.words('english'))\n",
        "    punct = string.punctuation\n",
        "    text = re.sub(r'\\s+', ' ', text)\n",
        "    text = text.translate(str.maketrans('', '', punct)).lower()\n",
        "    tokens = re.split(r'\\W+', text)\n",
        "    tokens = [lem.lemmatize(word) for word in tokens if word not in stop]\n",
        "    return ' '.join(tokens)"
      ]
    },
    {
      "cell_type": "code",
      "execution_count": 30,
      "metadata": {
        "colab": {
          "base_uri": "https://localhost:8080/",
          "height": 481
        },
        "id": "57l4DulLgPq8",
        "outputId": "20ebf529-aaac-4315-9e2c-35482d21fb50"
      },
      "outputs": [
        {
          "data": {
            "text/plain": [
              "0     percy jackson olympian lightning thief always troubleprone life teenager percy jackson logan lerman get lot complicated learns he son greek god poseidon training ground child deity percy learns harness divine power prepare adventure lifetime must prevent feud among olympian erupting devastating war earth rescue mother clutch hades god underworld pg action adventure comedy drama science fiction fantasy chriscolumbus loganlerman brandontjackson alexandradaddario jakeabel\n",
              "1                                              please give kate catherine keener husband alex oliver platt wealthy new yorkers prowl estate sale make tidy profit reselling item bought cheaply buy apartment next door plan remodel soon current occupant cranky old woman dy kate troubled way husband earn living try assuage guilt befriending tenant woman granddaughter overture lead unexpected consequence r comedy nicoleholofcener catherinekeener amandapeet oliverplatt rebeccahall\n",
              "2                                                                                                                                                                                                                        10 successful middleaged hollywood songwriter fall hopelessly love woman dream even follows girl new husband mexican honeymoon resort behavior seems sure land trouble blue fate play hand r comedy romance blakeedwards dudleymoore boderek julieandrews robertwebber\n",
              "3                                         12 angry men twelve angry men following closing argument murder trial 12 member jury must deliberate guilty verdict meaning death accused innercity teen dozen men try reach unanimous decision sequestered room one juror henry fonda cast considerable doubt element case personal issue soon rise surface conflict threatens derail delicate process decide one boy fate nr classic drama sidneylumet martinbalsam johnfiedler leejcobb egmarshall\n",
              "4    20000 league sea 1866 professor pierre aronnax paul lukas assistant conseil peter lorre stranded san francisco report giant sea monster attacking ship pacific ocean invited join expedition search creature search harpooner ned land kirk douglas thrown overboard attack eventually discovering supposed monster actually submarine piloted brilliant haunted captain nemo james mason g action adventure drama kid family richardfleischer jamesmason kirkdouglas paullukas peterlorre\n",
              "Name: movie_combined, dtype: object"
            ]
          },
          "execution_count": 30,
          "metadata": {},
          "output_type": "execute_result"
        }
      ],
      "source": [
        "#Use function to clean the movie_combined column\n",
        "df_cleaned['movie_combined'] = df_cleaned['movie_combined'].apply(clean_text)\n",
        "df_cleaned['movie_combined'].head()"
      ]
    },
    {
      "cell_type": "markdown",
      "metadata": {
        "id": "O1p6plIbII_D"
      },
      "source": [
        "# Shingles Size is Fixed"
      ]
    },
    {
      "cell_type": "code",
      "execution_count": 31,
      "metadata": {
        "id": "F4i4Rwx8IEY_"
      },
      "outputs": [],
      "source": [
        "# Creating function to create shingles\n",
        "def create_shingles(text, shingle_size=6):\n",
        "    return [text[i:i+shingle_size] for i in range(len(text)-shingle_size+1)]"
      ]
    },
    {
      "cell_type": "markdown",
      "metadata": {
        "id": "mKPDnaKjJAXF"
      },
      "source": [
        "# Creating function to generate MinHash Forest (using fixed shingle size)\n",
        "\n",
        "- Initializing number of permutations in MinHash\n",
        "- MinHashing the string on all shingles in each document\n",
        "- Storing the MinHash of the string\n",
        "- Generating a forest of all MinHashed strings\n",
        "- Indexing the forest to make it searchable"
      ]
    },
    {
      "cell_type": "code",
      "execution_count": 32,
      "metadata": {
        "id": "q4fskiwTJYvg"
      },
      "outputs": [],
      "source": [
        "def generate_forest(docs, permutations):\n",
        "    start_time = time.time()\n",
        "\n",
        "    minhash = []\n",
        "\n",
        "    for doc in docs:\n",
        "        shingles = create_shingles(doc)\n",
        "        m = MinHash(num_perm=permutations)\n",
        "        for shingle in shingles:\n",
        "            m.update(shingle.encode('utf8'))\n",
        "        minhash.append(m)\n",
        "\n",
        "    forest = MinHashLSHForest(num_perm=permutations)\n",
        "\n",
        "    for i,m in enumerate(minhash):\n",
        "        forest.add(i,m)\n",
        "\n",
        "    forest.index()\n",
        "\n",
        "    print('It took %s seconds to build forest.' %(time.time()-start_time))\n",
        "\n",
        "    return forest"
      ]
    },
    {
      "cell_type": "markdown",
      "metadata": {
        "id": "1LZ1-X3AKYnd"
      },
      "source": [
        "#Creating a  function to query MinHash Forest (using fixed shingle size)\n",
        "\n",
        "- Preprocessing input text into fixed size shingles\n",
        "- Using the same number of permutations for the MinHash as was used to build the forest\n",
        "- Creating a MinHash on the input text using all shingles\n",
        "- Querying the forest with MinHash and return the number of requested recommendations\n",
        "- Providing the titles of each conference paper recommended"
      ]
    },
    {
      "cell_type": "code",
      "execution_count": 40,
      "metadata": {
        "id": "ub5bqwAZJgli"
      },
      "outputs": [],
      "source": [
        "def predict(idx, df_cleaned, permutations, num_results, forest):\n",
        "    \"\"\"\n",
        "    Find num_results nearest neighbors for the movie at index idx,\n",
        "    excluding the movie itself from the recommendations.\n",
        "    \"\"\"\n",
        "    text = df_cleaned.loc[idx, 'movie_combined']  # or any text field you used for creating shingles\n",
        "    shingles = create_shingles(text)\n",
        "    m = MinHash(num_perm=permutations)\n",
        "    for shingle in shingles:\n",
        "        m.update(shingle.encode('utf8'))\n",
        "\n",
        "    # Query for num_results + 1 because the movie itself will be returned\n",
        "    idx_array = np.array(forest.query(m, num_results + 1))\n",
        "    if len(idx_array) == 0:\n",
        "        return None\n",
        "\n",
        "\n",
        "    # Remove the movie itself from the results\n",
        "    idx_array = idx_array[idx_array != idx]\n",
        "\n",
        "    result = df_cleaned.loc[idx_array][['movie_title', 'content_rating', 'genres', 'directors', 'actors']]\n",
        "    return result\n"
      ]
    },
    {
      "cell_type": "markdown",
      "metadata": {
        "id": "glajImu9Mg-3"
      },
      "source": [
        "# Creating Forest (Using Fixed Shingle Size)"
      ]
    },
    {
      "cell_type": "code",
      "execution_count": 34,
      "metadata": {
        "id": "FSK6Zl8vMhlH"
      },
      "outputs": [],
      "source": [
        "# Set number of Permutations\n",
        "permutations = 128"
      ]
    },
    {
      "cell_type": "code",
      "execution_count": 35,
      "metadata": {
        "colab": {
          "base_uri": "https://localhost:8080/"
        },
        "id": "Vhg14tOOLiz5",
        "outputId": "6e2e4199-3d66-4bb2-a9c4-5e74c469ec83"
      },
      "outputs": [
        {
          "name": "stdout",
          "output_type": "stream",
          "text": [
            "It took 80.93697094917297 seconds to build forest.\n"
          ]
        }
      ],
      "source": [
        "# Creating forest (using fixed shingle size)\n",
        "forest = generate_forest(df_cleaned['movie_combined'], permutations)"
      ]
    },
    {
      "cell_type": "markdown",
      "metadata": {
        "id": "JbAkPAb4Mxir"
      },
      "source": [
        "# Using forest (with fixed shingle size) to make recommendations for one/more movies using 2 approaches. First is index and second is using Movie title"
      ]
    },
    {
      "cell_type": "markdown",
      "metadata": {},
      "source": [
        "## Testing with dynamic approach "
      ]
    },
    {
      "cell_type": "markdown",
      "metadata": {},
      "source": [
        "First lets locate the move record based on the title "
      ]
    },
    {
      "cell_type": "code",
      "execution_count": 36,
      "metadata": {},
      "outputs": [],
      "source": [
        "def search_movies(df, search_string):\n",
        "    \"\"\"\n",
        "    Searches for movie titles containing the given search string (case-insensitive).\n",
        "    Returns a DataFrame with the matching rows and their original indexes.\n",
        "    \"\"\"\n",
        "    mask = df['movie_title'].str.contains(search_string, case=False, na=False)\n",
        "    result_df = df[mask].copy()\n",
        "    return result_df[['movie_title', 'directors']]\n"
      ]
    },
    {
      "cell_type": "code",
      "execution_count": 46,
      "metadata": {},
      "outputs": [
        {
          "data": {
            "text/html": [
              "<div>\n",
              "<style scoped>\n",
              "    .dataframe tbody tr th:only-of-type {\n",
              "        vertical-align: middle;\n",
              "    }\n",
              "\n",
              "    .dataframe tbody tr th {\n",
              "        vertical-align: top;\n",
              "    }\n",
              "\n",
              "    .dataframe thead th {\n",
              "        text-align: right;\n",
              "    }\n",
              "</style>\n",
              "<table border=\"1\" class=\"dataframe\">\n",
              "  <thead>\n",
              "    <tr style=\"text-align: right;\">\n",
              "      <th></th>\n",
              "      <th>movie_title</th>\n",
              "      <th>directors</th>\n",
              "    </tr>\n",
              "  </thead>\n",
              "  <tbody>\n",
              "    <tr>\n",
              "      <th>2931</th>\n",
              "      <td>Avatar</td>\n",
              "      <td>JamesCameron</td>\n",
              "    </tr>\n",
              "  </tbody>\n",
              "</table>\n",
              "</div>"
            ],
            "text/plain": [
              "     movie_title     directors\n",
              "2931      Avatar  JamesCameron"
            ]
          },
          "execution_count": 46,
          "metadata": {},
          "output_type": "execute_result"
        }
      ],
      "source": [
        "search_list = search_movies(df_cleaned, \"avatar\")\n",
        "search_list"
      ]
    },
    {
      "cell_type": "markdown",
      "metadata": {},
      "source": [
        "Now that we know what movie we want to search for, lets do a search for the top 5 recommendations "
      ]
    },
    {
      "cell_type": "code",
      "execution_count": 47,
      "metadata": {},
      "outputs": [
        {
          "name": "stdout",
          "output_type": "stream",
          "text": [
            "Input Movie:\n",
            " movie_title                                                                                                                                                                                                                                                                                                                                                                                                                                                                                                                                  Avatar\n",
            "content_rating                                                                                                                                                                                                                                                                                                                                                                                                                                                                                                                                PG-13\n",
            "genres                                                                                                                                                                                                                                                                                                                                                                                                                                                                    Action & Adventure, Comedy, Mystery & Suspense, Science Fiction & Fantasy\n",
            "directors                                                                                                                                                                                                                                                                                                                                                                                                                                                                                                                              JamesCameron\n",
            "actors                                                                                                                                                                                                                                                                                                                                                                                                                                                                                     ZoeSaldana, SamWorthington, SigourneyWeaver, StephenLang\n",
            "movie_combined    avatar dr richard sturgess ray liotta lead team compassionate doctor veteran hospital along drs morgan kiefer sutherland handleman forest whitaker van dorn lea thompson fight deliver adequate care needy veteran face funding cut corrupt administration succeed staff may bend rule circumvent villainous article 99 bureaucratic loophole prevents veteran receiving benefit deserve pg13 action adventure comedy mystery suspense science fiction fantasy jamescameron zoesaldana samworthington sigourneyweaver stephenlang\n",
            "Name: 2931, dtype: object\n",
            "\n",
            "Top 5 recommendations for [Avatar]:\n"
          ]
        },
        {
          "data": {
            "text/html": [
              "<div>\n",
              "<style scoped>\n",
              "    .dataframe tbody tr th:only-of-type {\n",
              "        vertical-align: middle;\n",
              "    }\n",
              "\n",
              "    .dataframe tbody tr th {\n",
              "        vertical-align: top;\n",
              "    }\n",
              "\n",
              "    .dataframe thead th {\n",
              "        text-align: right;\n",
              "    }\n",
              "</style>\n",
              "<table border=\"1\" class=\"dataframe\">\n",
              "  <thead>\n",
              "    <tr style=\"text-align: right;\">\n",
              "      <th></th>\n",
              "      <th>movie_title</th>\n",
              "      <th>content_rating</th>\n",
              "      <th>genres</th>\n",
              "      <th>directors</th>\n",
              "      <th>actors</th>\n",
              "    </tr>\n",
              "  </thead>\n",
              "  <tbody>\n",
              "    <tr>\n",
              "      <th>11768</th>\n",
              "      <td>Rampart</td>\n",
              "      <td>R</td>\n",
              "      <td>Action &amp; Adventure, Drama, Mystery &amp; Suspense</td>\n",
              "      <td>OrenMoverman</td>\n",
              "      <td>WoodyHarrelson, SigourneyWeaver, RobinWright, NedBeatty</td>\n",
              "    </tr>\n",
              "    <tr>\n",
              "      <th>7498</th>\n",
              "      <td>Holes</td>\n",
              "      <td>PG</td>\n",
              "      <td>Action &amp; Adventure, Comedy, Kids &amp; Family, Mystery &amp; Suspense</td>\n",
              "      <td>AndrewDavis</td>\n",
              "      <td>ShiaLaBeouf, SigourneyWeaver, JonVoight, TimBlakeNelson</td>\n",
              "    </tr>\n",
              "    <tr>\n",
              "      <th>5112</th>\n",
              "      <td>Death and the Maiden</td>\n",
              "      <td>R</td>\n",
              "      <td>Drama, Mystery &amp; Suspense</td>\n",
              "      <td>RomanPolanski</td>\n",
              "      <td>SigourneyWeaver, BenKingsley, StuartWilson, CarlosMoreno</td>\n",
              "    </tr>\n",
              "    <tr>\n",
              "      <th>2428</th>\n",
              "      <td>Alien</td>\n",
              "      <td>R</td>\n",
              "      <td>Drama, Mystery &amp; Suspense, Science Fiction &amp; Fantasy</td>\n",
              "      <td>RidleyScott</td>\n",
              "      <td>SigourneyWeaver, TomSkerritt, VeronicaCartwright, HarryDeanStanton</td>\n",
              "    </tr>\n",
              "    <tr>\n",
              "      <th>829</th>\n",
              "      <td>Narrow Margin</td>\n",
              "      <td>R</td>\n",
              "      <td>Action &amp; Adventure, Mystery &amp; Suspense</td>\n",
              "      <td>PeterHyams</td>\n",
              "      <td>GeneHackman, AnneArcher, JamesB.Sikking, J.T.Walsh</td>\n",
              "    </tr>\n",
              "  </tbody>\n",
              "</table>\n",
              "</div>"
            ],
            "text/plain": [
              "                movie_title content_rating  \\\n",
              "11768               Rampart              R   \n",
              "7498                  Holes             PG   \n",
              "5112   Death and the Maiden              R   \n",
              "2428                  Alien              R   \n",
              "829           Narrow Margin              R   \n",
              "\n",
              "                                                              genres  \\\n",
              "11768                  Action & Adventure, Drama, Mystery & Suspense   \n",
              "7498   Action & Adventure, Comedy, Kids & Family, Mystery & Suspense   \n",
              "5112                                       Drama, Mystery & Suspense   \n",
              "2428            Drama, Mystery & Suspense, Science Fiction & Fantasy   \n",
              "829                           Action & Adventure, Mystery & Suspense   \n",
              "\n",
              "           directors  \\\n",
              "11768   OrenMoverman   \n",
              "7498     AndrewDavis   \n",
              "5112   RomanPolanski   \n",
              "2428     RidleyScott   \n",
              "829       PeterHyams   \n",
              "\n",
              "                                                                   actors  \n",
              "11768             WoodyHarrelson, SigourneyWeaver, RobinWright, NedBeatty  \n",
              "7498              ShiaLaBeouf, SigourneyWeaver, JonVoight, TimBlakeNelson  \n",
              "5112             SigourneyWeaver, BenKingsley, StuartWilson, CarlosMoreno  \n",
              "2428   SigourneyWeaver, TomSkerritt, VeronicaCartwright, HarryDeanStanton  \n",
              "829                    GeneHackman, AnneArcher, JamesB.Sikking, J.T.Walsh  "
            ]
          },
          "execution_count": 47,
          "metadata": {},
          "output_type": "execute_result"
        }
      ],
      "source": [
        "idx = 2931\n",
        "num_recommendations = 5\n",
        "input_title = df_cleaned.loc[idx]['movie_title']\n",
        "input_text = df_cleaned.loc[idx]['movie_combined']\n",
        "results = predict(idx, df_cleaned, permutations, num_recommendations, forest)\n",
        "movie_info = df_cleaned.loc[idx, ['movie_title', 'content_rating', 'genres', 'directors', 'actors', 'movie_combined']]\n",
        "print(\"Input Movie:\\n\", movie_info)\n",
        "print(f'\\nTop {num_recommendations} recommendations for [{input_title}]:')\n",
        "results"
      ]
    }
  ],
  "metadata": {
    "colab": {
      "provenance": []
    },
    "kernelspec": {
      "display_name": "Python 3",
      "name": "python3"
    },
    "language_info": {
      "codemirror_mode": {
        "name": "ipython",
        "version": 3
      },
      "file_extension": ".py",
      "mimetype": "text/x-python",
      "name": "python",
      "nbconvert_exporter": "python",
      "pygments_lexer": "ipython3",
      "version": "3.11.11"
    }
  },
  "nbformat": 4,
  "nbformat_minor": 0
}
