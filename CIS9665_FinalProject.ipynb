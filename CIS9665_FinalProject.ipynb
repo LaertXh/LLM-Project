{
  "cells": [
    {
      "cell_type": "code",
      "execution_count": 1,
      "metadata": {
        "colab": {
          "base_uri": "https://localhost:8080/"
        },
        "id": "d46_GilZeh53",
        "outputId": "48adf437-37df-44e4-9d1d-eddaf67c5607"
      },
      "outputs": [
        {
          "name": "stdout",
          "output_type": "stream",
          "text": [
            "Requirement already satisfied: datasketch in /opt/anaconda3/lib/python3.11/site-packages (1.6.5)\n",
            "Requirement already satisfied: numpy>=1.11 in /opt/anaconda3/lib/python3.11/site-packages (from datasketch) (1.26.4)\n",
            "Requirement already satisfied: scipy>=1.0.0 in /opt/anaconda3/lib/python3.11/site-packages (from datasketch) (1.13.1)\n",
            "CPU times: user 20.2 ms, sys: 12.6 ms, total: 32.9 ms\n",
            "Wall time: 1.94 s\n"
          ]
        }
      ],
      "source": [
        "%%time\n",
        "\n",
        "! pip install datasketch"
      ]
    },
    {
      "cell_type": "code",
      "execution_count": 2,
      "metadata": {
        "id": "fKQfFuzB7oZL"
      },
      "outputs": [],
      "source": [
        "import numpy as np\n",
        "import pandas as pd\n",
        "import time\n",
        "import re\n",
        "import string\n",
        "import nltk\n",
        "from nltk.corpus import stopwords\n",
        "from nltk.stem import WordNetLemmatizer\n",
        "from sklearn.model_selection import train_test_split\n",
        "from datasketch import MinHash\n",
        "from datasketch import MinHashLSHForest\n",
        "from sklearn.feature_extraction.text import TfidfVectorizer"
      ]
    },
    {
      "cell_type": "code",
      "execution_count": 3,
      "metadata": {
        "colab": {
          "base_uri": "https://localhost:8080/"
        },
        "id": "XPuMX5Xbo6IS",
        "outputId": "71b89a03-c4fe-4d8a-c707-a163e2825cf4"
      },
      "outputs": [
        {
          "name": "stderr",
          "output_type": "stream",
          "text": [
            "[nltk_data] Downloading package stopwords to\n",
            "[nltk_data]     /Users/laertxhumari/nltk_data...\n",
            "[nltk_data]   Package stopwords is already up-to-date!\n",
            "[nltk_data] Downloading package punkt to\n",
            "[nltk_data]     /Users/laertxhumari/nltk_data...\n",
            "[nltk_data]   Package punkt is already up-to-date!\n",
            "[nltk_data] Downloading package wordnet to\n",
            "[nltk_data]     /Users/laertxhumari/nltk_data...\n",
            "[nltk_data]   Package wordnet is already up-to-date!\n"
          ]
        },
        {
          "data": {
            "text/plain": [
              "True"
            ]
          },
          "execution_count": 3,
          "metadata": {},
          "output_type": "execute_result"
        }
      ],
      "source": [
        "nltk.download('stopwords')\n",
        "nltk.download('punkt')\n",
        "nltk.download('wordnet')"
      ]
    },
    {
      "cell_type": "code",
      "execution_count": 4,
      "metadata": {
        "id": "N2IbWcgoPVGz"
      },
      "outputs": [],
      "source": [
        "#Import the CSV file\n",
        "df = pd.read_csv(\"https://raw.githubusercontent.com/LaertXh/LLM-Project/refs/heads/main/Data/rotten_tomatoes_movies.csv\")"
      ]
    },
    {
      "cell_type": "code",
      "execution_count": 5,
      "metadata": {
        "colab": {
          "base_uri": "https://localhost:8080/"
        },
        "id": "IIfByPZOPrx0",
        "outputId": "60c28989-27a7-4137-d0a4-44e4a13a1365"
      },
      "outputs": [
        {
          "data": {
            "text/plain": [
              "(17712, 22)"
            ]
          },
          "execution_count": 5,
          "metadata": {},
          "output_type": "execute_result"
        }
      ],
      "source": [
        "df.shape"
      ]
    },
    {
      "cell_type": "code",
      "execution_count": 6,
      "metadata": {
        "colab": {
          "base_uri": "https://localhost:8080/",
          "height": 710
        },
        "id": "1ATVOnrpP133",
        "outputId": "3cec651d-bdb5-42c3-fe86-b1f534b61948"
      },
      "outputs": [
        {
          "data": {
            "text/html": [
              "<div>\n",
              "<style scoped>\n",
              "    .dataframe tbody tr th:only-of-type {\n",
              "        vertical-align: middle;\n",
              "    }\n",
              "\n",
              "    .dataframe tbody tr th {\n",
              "        vertical-align: top;\n",
              "    }\n",
              "\n",
              "    .dataframe thead th {\n",
              "        text-align: right;\n",
              "    }\n",
              "</style>\n",
              "<table border=\"1\" class=\"dataframe\">\n",
              "  <thead>\n",
              "    <tr style=\"text-align: right;\">\n",
              "      <th></th>\n",
              "      <th>rotten_tomatoes_link</th>\n",
              "      <th>movie_title</th>\n",
              "      <th>movie_info</th>\n",
              "      <th>critics_consensus</th>\n",
              "      <th>content_rating</th>\n",
              "      <th>genres</th>\n",
              "      <th>directors</th>\n",
              "      <th>authors</th>\n",
              "      <th>actors</th>\n",
              "      <th>original_release_date</th>\n",
              "      <th>...</th>\n",
              "      <th>production_company</th>\n",
              "      <th>tomatometer_status</th>\n",
              "      <th>tomatometer_rating</th>\n",
              "      <th>tomatometer_count</th>\n",
              "      <th>audience_status</th>\n",
              "      <th>audience_rating</th>\n",
              "      <th>audience_count</th>\n",
              "      <th>tomatometer_top_critics_count</th>\n",
              "      <th>tomatometer_fresh_critics_count</th>\n",
              "      <th>tomatometer_rotten_critics_count</th>\n",
              "    </tr>\n",
              "  </thead>\n",
              "  <tbody>\n",
              "    <tr>\n",
              "      <th>0</th>\n",
              "      <td>m/0814255</td>\n",
              "      <td>Percy Jackson &amp; the Olympians: The Lightning T...</td>\n",
              "      <td>Always trouble-prone, the life of teenager Per...</td>\n",
              "      <td>Though it may seem like just another Harry Pot...</td>\n",
              "      <td>PG</td>\n",
              "      <td>Action &amp; Adventure, Comedy, Drama, Science Fic...</td>\n",
              "      <td>Chris Columbus</td>\n",
              "      <td>Craig Titley, Chris Columbus, Rick Riordan</td>\n",
              "      <td>Logan Lerman, Brandon T. Jackson, Alexandra Da...</td>\n",
              "      <td>2010-02-12</td>\n",
              "      <td>...</td>\n",
              "      <td>20th Century Fox</td>\n",
              "      <td>Rotten</td>\n",
              "      <td>49.0</td>\n",
              "      <td>149.0</td>\n",
              "      <td>Spilled</td>\n",
              "      <td>53.0</td>\n",
              "      <td>254421.0</td>\n",
              "      <td>43</td>\n",
              "      <td>73</td>\n",
              "      <td>76</td>\n",
              "    </tr>\n",
              "    <tr>\n",
              "      <th>1</th>\n",
              "      <td>m/0878835</td>\n",
              "      <td>Please Give</td>\n",
              "      <td>Kate (Catherine Keener) and her husband Alex (...</td>\n",
              "      <td>Nicole Holofcener's newest might seem slight i...</td>\n",
              "      <td>R</td>\n",
              "      <td>Comedy</td>\n",
              "      <td>Nicole Holofcener</td>\n",
              "      <td>Nicole Holofcener</td>\n",
              "      <td>Catherine Keener, Amanda Peet, Oliver Platt, R...</td>\n",
              "      <td>2010-04-30</td>\n",
              "      <td>...</td>\n",
              "      <td>Sony Pictures Classics</td>\n",
              "      <td>Certified-Fresh</td>\n",
              "      <td>87.0</td>\n",
              "      <td>142.0</td>\n",
              "      <td>Upright</td>\n",
              "      <td>64.0</td>\n",
              "      <td>11574.0</td>\n",
              "      <td>44</td>\n",
              "      <td>123</td>\n",
              "      <td>19</td>\n",
              "    </tr>\n",
              "    <tr>\n",
              "      <th>2</th>\n",
              "      <td>m/10</td>\n",
              "      <td>10</td>\n",
              "      <td>A successful, middle-aged Hollywood songwriter...</td>\n",
              "      <td>Blake Edwards' bawdy comedy may not score a pe...</td>\n",
              "      <td>R</td>\n",
              "      <td>Comedy, Romance</td>\n",
              "      <td>Blake Edwards</td>\n",
              "      <td>Blake Edwards</td>\n",
              "      <td>Dudley Moore, Bo Derek, Julie Andrews, Robert ...</td>\n",
              "      <td>1979-10-05</td>\n",
              "      <td>...</td>\n",
              "      <td>Waner Bros.</td>\n",
              "      <td>Fresh</td>\n",
              "      <td>67.0</td>\n",
              "      <td>24.0</td>\n",
              "      <td>Spilled</td>\n",
              "      <td>53.0</td>\n",
              "      <td>14684.0</td>\n",
              "      <td>2</td>\n",
              "      <td>16</td>\n",
              "      <td>8</td>\n",
              "    </tr>\n",
              "    <tr>\n",
              "      <th>3</th>\n",
              "      <td>m/1000013-12_angry_men</td>\n",
              "      <td>12 Angry Men (Twelve Angry Men)</td>\n",
              "      <td>Following the closing arguments in a murder tr...</td>\n",
              "      <td>Sidney Lumet's feature debut is a superbly wri...</td>\n",
              "      <td>NR</td>\n",
              "      <td>Classics, Drama</td>\n",
              "      <td>Sidney Lumet</td>\n",
              "      <td>Reginald Rose</td>\n",
              "      <td>Martin Balsam, John Fiedler, Lee J. Cobb, E.G....</td>\n",
              "      <td>1957-04-13</td>\n",
              "      <td>...</td>\n",
              "      <td>Criterion Collection</td>\n",
              "      <td>Certified-Fresh</td>\n",
              "      <td>100.0</td>\n",
              "      <td>54.0</td>\n",
              "      <td>Upright</td>\n",
              "      <td>97.0</td>\n",
              "      <td>105386.0</td>\n",
              "      <td>6</td>\n",
              "      <td>54</td>\n",
              "      <td>0</td>\n",
              "    </tr>\n",
              "    <tr>\n",
              "      <th>4</th>\n",
              "      <td>m/1000079-20000_leagues_under_the_sea</td>\n",
              "      <td>20,000 Leagues Under The Sea</td>\n",
              "      <td>In 1866, Professor Pierre M. Aronnax (Paul Luk...</td>\n",
              "      <td>One of Disney's finest live-action adventures,...</td>\n",
              "      <td>G</td>\n",
              "      <td>Action &amp; Adventure, Drama, Kids &amp; Family</td>\n",
              "      <td>Richard Fleischer</td>\n",
              "      <td>Earl Felton</td>\n",
              "      <td>James Mason, Kirk Douglas, Paul Lukas, Peter L...</td>\n",
              "      <td>1954-01-01</td>\n",
              "      <td>...</td>\n",
              "      <td>Disney</td>\n",
              "      <td>Fresh</td>\n",
              "      <td>89.0</td>\n",
              "      <td>27.0</td>\n",
              "      <td>Upright</td>\n",
              "      <td>74.0</td>\n",
              "      <td>68918.0</td>\n",
              "      <td>5</td>\n",
              "      <td>24</td>\n",
              "      <td>3</td>\n",
              "    </tr>\n",
              "  </tbody>\n",
              "</table>\n",
              "<p>5 rows × 22 columns</p>\n",
              "</div>"
            ],
            "text/plain": [
              "                    rotten_tomatoes_link  \\\n",
              "0                              m/0814255   \n",
              "1                              m/0878835   \n",
              "2                                   m/10   \n",
              "3                 m/1000013-12_angry_men   \n",
              "4  m/1000079-20000_leagues_under_the_sea   \n",
              "\n",
              "                                         movie_title  \\\n",
              "0  Percy Jackson & the Olympians: The Lightning T...   \n",
              "1                                        Please Give   \n",
              "2                                                 10   \n",
              "3                    12 Angry Men (Twelve Angry Men)   \n",
              "4                       20,000 Leagues Under The Sea   \n",
              "\n",
              "                                          movie_info  \\\n",
              "0  Always trouble-prone, the life of teenager Per...   \n",
              "1  Kate (Catherine Keener) and her husband Alex (...   \n",
              "2  A successful, middle-aged Hollywood songwriter...   \n",
              "3  Following the closing arguments in a murder tr...   \n",
              "4  In 1866, Professor Pierre M. Aronnax (Paul Luk...   \n",
              "\n",
              "                                   critics_consensus content_rating  \\\n",
              "0  Though it may seem like just another Harry Pot...             PG   \n",
              "1  Nicole Holofcener's newest might seem slight i...              R   \n",
              "2  Blake Edwards' bawdy comedy may not score a pe...              R   \n",
              "3  Sidney Lumet's feature debut is a superbly wri...             NR   \n",
              "4  One of Disney's finest live-action adventures,...              G   \n",
              "\n",
              "                                              genres          directors  \\\n",
              "0  Action & Adventure, Comedy, Drama, Science Fic...     Chris Columbus   \n",
              "1                                             Comedy  Nicole Holofcener   \n",
              "2                                    Comedy, Romance      Blake Edwards   \n",
              "3                                    Classics, Drama       Sidney Lumet   \n",
              "4           Action & Adventure, Drama, Kids & Family  Richard Fleischer   \n",
              "\n",
              "                                      authors  \\\n",
              "0  Craig Titley, Chris Columbus, Rick Riordan   \n",
              "1                           Nicole Holofcener   \n",
              "2                               Blake Edwards   \n",
              "3                               Reginald Rose   \n",
              "4                                 Earl Felton   \n",
              "\n",
              "                                              actors original_release_date  \\\n",
              "0  Logan Lerman, Brandon T. Jackson, Alexandra Da...            2010-02-12   \n",
              "1  Catherine Keener, Amanda Peet, Oliver Platt, R...            2010-04-30   \n",
              "2  Dudley Moore, Bo Derek, Julie Andrews, Robert ...            1979-10-05   \n",
              "3  Martin Balsam, John Fiedler, Lee J. Cobb, E.G....            1957-04-13   \n",
              "4  James Mason, Kirk Douglas, Paul Lukas, Peter L...            1954-01-01   \n",
              "\n",
              "   ...      production_company  tomatometer_status tomatometer_rating  \\\n",
              "0  ...        20th Century Fox              Rotten               49.0   \n",
              "1  ...  Sony Pictures Classics     Certified-Fresh               87.0   \n",
              "2  ...             Waner Bros.               Fresh               67.0   \n",
              "3  ...    Criterion Collection     Certified-Fresh              100.0   \n",
              "4  ...                  Disney               Fresh               89.0   \n",
              "\n",
              "  tomatometer_count  audience_status  audience_rating audience_count  \\\n",
              "0             149.0          Spilled             53.0       254421.0   \n",
              "1             142.0          Upright             64.0        11574.0   \n",
              "2              24.0          Spilled             53.0        14684.0   \n",
              "3              54.0          Upright             97.0       105386.0   \n",
              "4              27.0          Upright             74.0        68918.0   \n",
              "\n",
              "   tomatometer_top_critics_count  tomatometer_fresh_critics_count  \\\n",
              "0                             43                               73   \n",
              "1                             44                              123   \n",
              "2                              2                               16   \n",
              "3                              6                               54   \n",
              "4                              5                               24   \n",
              "\n",
              "   tomatometer_rotten_critics_count  \n",
              "0                                76  \n",
              "1                                19  \n",
              "2                                 8  \n",
              "3                                 0  \n",
              "4                                 3  \n",
              "\n",
              "[5 rows x 22 columns]"
            ]
          },
          "execution_count": 6,
          "metadata": {},
          "output_type": "execute_result"
        }
      ],
      "source": [
        "df.head()"
      ]
    },
    {
      "cell_type": "markdown",
      "metadata": {},
      "source": [
        "### Dataset Cleaning"
      ]
    },
    {
      "cell_type": "code",
      "execution_count": 7,
      "metadata": {
        "id": "D6TYspTXQBVD"
      },
      "outputs": [],
      "source": [
        "#Drop unneeded columns\n",
        "df.drop(['rotten_tomatoes_link','critics_consensus', 'original_release_date', 'streaming_release_date', 'runtime', 'authors','production_company', 'tomatometer_status', 'tomatometer_rating', 'tomatometer_count', 'audience_status', 'audience_rating', 'audience_count', 'tomatometer_top_critics_count', 'tomatometer_fresh_critics_count', 'tomatometer_rotten_critics_count'], axis=1, inplace = True)\n"
      ]
    },
    {
      "cell_type": "code",
      "execution_count": 8,
      "metadata": {
        "colab": {
          "base_uri": "https://localhost:8080/",
          "height": 283
        },
        "id": "TQsAofysSQhl",
        "outputId": "284933af-6e6a-4704-f000-c2fa567a0766"
      },
      "outputs": [
        {
          "data": {
            "text/html": [
              "<div>\n",
              "<style scoped>\n",
              "    .dataframe tbody tr th:only-of-type {\n",
              "        vertical-align: middle;\n",
              "    }\n",
              "\n",
              "    .dataframe tbody tr th {\n",
              "        vertical-align: top;\n",
              "    }\n",
              "\n",
              "    .dataframe thead th {\n",
              "        text-align: right;\n",
              "    }\n",
              "</style>\n",
              "<table border=\"1\" class=\"dataframe\">\n",
              "  <thead>\n",
              "    <tr style=\"text-align: right;\">\n",
              "      <th></th>\n",
              "      <th>movie_title</th>\n",
              "      <th>movie_info</th>\n",
              "      <th>content_rating</th>\n",
              "      <th>genres</th>\n",
              "      <th>directors</th>\n",
              "      <th>actors</th>\n",
              "    </tr>\n",
              "  </thead>\n",
              "  <tbody>\n",
              "    <tr>\n",
              "      <th>0</th>\n",
              "      <td>Percy Jackson &amp; the Olympians: The Lightning T...</td>\n",
              "      <td>Always trouble-prone, the life of teenager Per...</td>\n",
              "      <td>PG</td>\n",
              "      <td>Action &amp; Adventure, Comedy, Drama, Science Fic...</td>\n",
              "      <td>Chris Columbus</td>\n",
              "      <td>Logan Lerman, Brandon T. Jackson, Alexandra Da...</td>\n",
              "    </tr>\n",
              "    <tr>\n",
              "      <th>1</th>\n",
              "      <td>Please Give</td>\n",
              "      <td>Kate (Catherine Keener) and her husband Alex (...</td>\n",
              "      <td>R</td>\n",
              "      <td>Comedy</td>\n",
              "      <td>Nicole Holofcener</td>\n",
              "      <td>Catherine Keener, Amanda Peet, Oliver Platt, R...</td>\n",
              "    </tr>\n",
              "    <tr>\n",
              "      <th>2</th>\n",
              "      <td>10</td>\n",
              "      <td>A successful, middle-aged Hollywood songwriter...</td>\n",
              "      <td>R</td>\n",
              "      <td>Comedy, Romance</td>\n",
              "      <td>Blake Edwards</td>\n",
              "      <td>Dudley Moore, Bo Derek, Julie Andrews, Robert ...</td>\n",
              "    </tr>\n",
              "    <tr>\n",
              "      <th>3</th>\n",
              "      <td>12 Angry Men (Twelve Angry Men)</td>\n",
              "      <td>Following the closing arguments in a murder tr...</td>\n",
              "      <td>NR</td>\n",
              "      <td>Classics, Drama</td>\n",
              "      <td>Sidney Lumet</td>\n",
              "      <td>Martin Balsam, John Fiedler, Lee J. Cobb, E.G....</td>\n",
              "    </tr>\n",
              "    <tr>\n",
              "      <th>4</th>\n",
              "      <td>20,000 Leagues Under The Sea</td>\n",
              "      <td>In 1866, Professor Pierre M. Aronnax (Paul Luk...</td>\n",
              "      <td>G</td>\n",
              "      <td>Action &amp; Adventure, Drama, Kids &amp; Family</td>\n",
              "      <td>Richard Fleischer</td>\n",
              "      <td>James Mason, Kirk Douglas, Paul Lukas, Peter L...</td>\n",
              "    </tr>\n",
              "  </tbody>\n",
              "</table>\n",
              "</div>"
            ],
            "text/plain": [
              "                                         movie_title  \\\n",
              "0  Percy Jackson & the Olympians: The Lightning T...   \n",
              "1                                        Please Give   \n",
              "2                                                 10   \n",
              "3                    12 Angry Men (Twelve Angry Men)   \n",
              "4                       20,000 Leagues Under The Sea   \n",
              "\n",
              "                                          movie_info content_rating  \\\n",
              "0  Always trouble-prone, the life of teenager Per...             PG   \n",
              "1  Kate (Catherine Keener) and her husband Alex (...              R   \n",
              "2  A successful, middle-aged Hollywood songwriter...              R   \n",
              "3  Following the closing arguments in a murder tr...             NR   \n",
              "4  In 1866, Professor Pierre M. Aronnax (Paul Luk...              G   \n",
              "\n",
              "                                              genres          directors  \\\n",
              "0  Action & Adventure, Comedy, Drama, Science Fic...     Chris Columbus   \n",
              "1                                             Comedy  Nicole Holofcener   \n",
              "2                                    Comedy, Romance      Blake Edwards   \n",
              "3                                    Classics, Drama       Sidney Lumet   \n",
              "4           Action & Adventure, Drama, Kids & Family  Richard Fleischer   \n",
              "\n",
              "                                              actors  \n",
              "0  Logan Lerman, Brandon T. Jackson, Alexandra Da...  \n",
              "1  Catherine Keener, Amanda Peet, Oliver Platt, R...  \n",
              "2  Dudley Moore, Bo Derek, Julie Andrews, Robert ...  \n",
              "3  Martin Balsam, John Fiedler, Lee J. Cobb, E.G....  \n",
              "4  James Mason, Kirk Douglas, Paul Lukas, Peter L...  "
            ]
          },
          "execution_count": 8,
          "metadata": {},
          "output_type": "execute_result"
        }
      ],
      "source": [
        "df.head()"
      ]
    },
    {
      "cell_type": "markdown",
      "metadata": {},
      "source": [
        "#### Keep only the first director, and the first 4 actors"
      ]
    },
    {
      "cell_type": "code",
      "execution_count": 9,
      "metadata": {
        "id": "oqlZQnwxYAd4"
      },
      "outputs": [],
      "source": [
        "#Limit the number of directors to the first listed director\n",
        "df['directors'] = df['directors'].str.split(',').str[0]"
      ]
    },
    {
      "cell_type": "code",
      "execution_count": 10,
      "metadata": {
        "colab": {
          "base_uri": "https://localhost:8080/",
          "height": 234
        },
        "id": "imJtaJ6QXk6D",
        "outputId": "cbe2e7b6-7064-4cde-abab-486163528cf7"
      },
      "outputs": [
        {
          "data": {
            "text/plain": [
              "0       Chris Columbus\n",
              "1    Nicole Holofcener\n",
              "2        Blake Edwards\n",
              "3         Sidney Lumet\n",
              "4    Richard Fleischer\n",
              "Name: directors, dtype: object"
            ]
          },
          "execution_count": 10,
          "metadata": {},
          "output_type": "execute_result"
        }
      ],
      "source": [
        "df['directors'].head()"
      ]
    },
    {
      "cell_type": "code",
      "execution_count": 11,
      "metadata": {
        "id": "RNVtkOMdYzhn"
      },
      "outputs": [],
      "source": [
        "#Limit the number of actors to the first four listed actors\n",
        "df['actors'] = df['actors'].str.split(',').str[:4].str.join(',')"
      ]
    },
    {
      "cell_type": "code",
      "execution_count": 12,
      "metadata": {
        "colab": {
          "base_uri": "https://localhost:8080/",
          "height": 234
        },
        "id": "bscBBWA9YTNW",
        "outputId": "db7f16a2-b1c2-4c92-b9fa-111c1074865d"
      },
      "outputs": [
        {
          "data": {
            "text/plain": [
              "0    Logan Lerman, Brandon T. Jackson, Alexandra Da...\n",
              "1    Catherine Keener, Amanda Peet, Oliver Platt, R...\n",
              "2    Dudley Moore, Bo Derek, Julie Andrews, Robert ...\n",
              "3    Martin Balsam, John Fiedler, Lee J. Cobb, E.G....\n",
              "4    James Mason, Kirk Douglas, Paul Lukas, Peter L...\n",
              "Name: actors, dtype: object"
            ]
          },
          "execution_count": 12,
          "metadata": {},
          "output_type": "execute_result"
        }
      ],
      "source": [
        "df['actors'].head()"
      ]
    },
    {
      "cell_type": "code",
      "execution_count": 13,
      "metadata": {
        "colab": {
          "base_uri": "https://localhost:8080/",
          "height": 283
        },
        "id": "UWcN20nYYTKw",
        "outputId": "3b2c3b12-0b84-42f5-8a3e-56965278ee16"
      },
      "outputs": [
        {
          "data": {
            "text/html": [
              "<div>\n",
              "<style scoped>\n",
              "    .dataframe tbody tr th:only-of-type {\n",
              "        vertical-align: middle;\n",
              "    }\n",
              "\n",
              "    .dataframe tbody tr th {\n",
              "        vertical-align: top;\n",
              "    }\n",
              "\n",
              "    .dataframe thead th {\n",
              "        text-align: right;\n",
              "    }\n",
              "</style>\n",
              "<table border=\"1\" class=\"dataframe\">\n",
              "  <thead>\n",
              "    <tr style=\"text-align: right;\">\n",
              "      <th></th>\n",
              "      <th>movie_title</th>\n",
              "      <th>movie_info</th>\n",
              "      <th>content_rating</th>\n",
              "      <th>genres</th>\n",
              "      <th>directors</th>\n",
              "      <th>actors</th>\n",
              "    </tr>\n",
              "  </thead>\n",
              "  <tbody>\n",
              "    <tr>\n",
              "      <th>0</th>\n",
              "      <td>Percy Jackson &amp; the Olympians: The Lightning T...</td>\n",
              "      <td>Always trouble-prone, the life of teenager Per...</td>\n",
              "      <td>PG</td>\n",
              "      <td>Action &amp; Adventure, Comedy, Drama, Science Fic...</td>\n",
              "      <td>Chris Columbus</td>\n",
              "      <td>Logan Lerman, Brandon T. Jackson, Alexandra Da...</td>\n",
              "    </tr>\n",
              "    <tr>\n",
              "      <th>1</th>\n",
              "      <td>Please Give</td>\n",
              "      <td>Kate (Catherine Keener) and her husband Alex (...</td>\n",
              "      <td>R</td>\n",
              "      <td>Comedy</td>\n",
              "      <td>Nicole Holofcener</td>\n",
              "      <td>Catherine Keener, Amanda Peet, Oliver Platt, R...</td>\n",
              "    </tr>\n",
              "    <tr>\n",
              "      <th>2</th>\n",
              "      <td>10</td>\n",
              "      <td>A successful, middle-aged Hollywood songwriter...</td>\n",
              "      <td>R</td>\n",
              "      <td>Comedy, Romance</td>\n",
              "      <td>Blake Edwards</td>\n",
              "      <td>Dudley Moore, Bo Derek, Julie Andrews, Robert ...</td>\n",
              "    </tr>\n",
              "    <tr>\n",
              "      <th>3</th>\n",
              "      <td>12 Angry Men (Twelve Angry Men)</td>\n",
              "      <td>Following the closing arguments in a murder tr...</td>\n",
              "      <td>NR</td>\n",
              "      <td>Classics, Drama</td>\n",
              "      <td>Sidney Lumet</td>\n",
              "      <td>Martin Balsam, John Fiedler, Lee J. Cobb, E.G....</td>\n",
              "    </tr>\n",
              "    <tr>\n",
              "      <th>4</th>\n",
              "      <td>20,000 Leagues Under The Sea</td>\n",
              "      <td>In 1866, Professor Pierre M. Aronnax (Paul Luk...</td>\n",
              "      <td>G</td>\n",
              "      <td>Action &amp; Adventure, Drama, Kids &amp; Family</td>\n",
              "      <td>Richard Fleischer</td>\n",
              "      <td>James Mason, Kirk Douglas, Paul Lukas, Peter L...</td>\n",
              "    </tr>\n",
              "  </tbody>\n",
              "</table>\n",
              "</div>"
            ],
            "text/plain": [
              "                                         movie_title  \\\n",
              "0  Percy Jackson & the Olympians: The Lightning T...   \n",
              "1                                        Please Give   \n",
              "2                                                 10   \n",
              "3                    12 Angry Men (Twelve Angry Men)   \n",
              "4                       20,000 Leagues Under The Sea   \n",
              "\n",
              "                                          movie_info content_rating  \\\n",
              "0  Always trouble-prone, the life of teenager Per...             PG   \n",
              "1  Kate (Catherine Keener) and her husband Alex (...              R   \n",
              "2  A successful, middle-aged Hollywood songwriter...              R   \n",
              "3  Following the closing arguments in a murder tr...             NR   \n",
              "4  In 1866, Professor Pierre M. Aronnax (Paul Luk...              G   \n",
              "\n",
              "                                              genres          directors  \\\n",
              "0  Action & Adventure, Comedy, Drama, Science Fic...     Chris Columbus   \n",
              "1                                             Comedy  Nicole Holofcener   \n",
              "2                                    Comedy, Romance      Blake Edwards   \n",
              "3                                    Classics, Drama       Sidney Lumet   \n",
              "4           Action & Adventure, Drama, Kids & Family  Richard Fleischer   \n",
              "\n",
              "                                              actors  \n",
              "0  Logan Lerman, Brandon T. Jackson, Alexandra Da...  \n",
              "1  Catherine Keener, Amanda Peet, Oliver Platt, R...  \n",
              "2  Dudley Moore, Bo Derek, Julie Andrews, Robert ...  \n",
              "3  Martin Balsam, John Fiedler, Lee J. Cobb, E.G....  \n",
              "4  James Mason, Kirk Douglas, Paul Lukas, Peter L...  "
            ]
          },
          "execution_count": 13,
          "metadata": {},
          "output_type": "execute_result"
        }
      ],
      "source": [
        "df.head()"
      ]
    },
    {
      "cell_type": "markdown",
      "metadata": {},
      "source": [
        "#### Check Duplicates and drop all null values"
      ]
    },
    {
      "cell_type": "code",
      "execution_count": 14,
      "metadata": {
        "id": "iytiGFCxbrDy"
      },
      "outputs": [],
      "source": [
        "#Check for duplicate rows\n",
        "duplicate_rows = df[df.duplicated()]"
      ]
    },
    {
      "cell_type": "code",
      "execution_count": 15,
      "metadata": {
        "colab": {
          "base_uri": "https://localhost:8080/"
        },
        "id": "KfbgYrslbq8u",
        "outputId": "99fcf551-fe7f-4f3c-8013-4bdeddec798a"
      },
      "outputs": [
        {
          "name": "stdout",
          "output_type": "stream",
          "text": [
            "Empty DataFrame\n",
            "Columns: [movie_title, movie_info, content_rating, genres, directors, actors]\n",
            "Index: []\n"
          ]
        }
      ],
      "source": [
        "print(duplicate_rows)"
      ]
    },
    {
      "cell_type": "code",
      "execution_count": 16,
      "metadata": {
        "colab": {
          "base_uri": "https://localhost:8080/",
          "height": 294
        },
        "id": "c1Gt44v4T4lf",
        "outputId": "6844ae41-f5d0-4406-be25-82700eacd0dc"
      },
      "outputs": [
        {
          "data": {
            "text/plain": [
              "movie_title         0\n",
              "movie_info        321\n",
              "content_rating      0\n",
              "genres             19\n",
              "directors         194\n",
              "actors            352\n",
              "dtype: int64"
            ]
          },
          "execution_count": 16,
          "metadata": {},
          "output_type": "execute_result"
        }
      ],
      "source": [
        "#Identify null values\n",
        "df.isnull().sum()"
      ]
    },
    {
      "cell_type": "code",
      "execution_count": 17,
      "metadata": {
        "id": "NsoguDQ1UzrY"
      },
      "outputs": [],
      "source": [
        "#Drop rows with null values\n",
        "df_cleaned = df.dropna(subset=['movie_info', 'genres', 'directors', 'actors'])"
      ]
    },
    {
      "cell_type": "code",
      "execution_count": 18,
      "metadata": {
        "colab": {
          "base_uri": "https://localhost:8080/",
          "height": 264
        },
        "id": "skkeHvyWVPgz",
        "outputId": "97caa07c-c7ce-4215-c3b8-b036df148322"
      },
      "outputs": [
        {
          "data": {
            "text/plain": [
              "movie_title       0\n",
              "movie_info        0\n",
              "content_rating    0\n",
              "genres            0\n",
              "directors         0\n",
              "actors            0\n",
              "dtype: int64"
            ]
          },
          "execution_count": 18,
          "metadata": {},
          "output_type": "execute_result"
        }
      ],
      "source": [
        "df_cleaned.isnull().sum()"
      ]
    },
    {
      "cell_type": "code",
      "execution_count": 19,
      "metadata": {
        "colab": {
          "base_uri": "https://localhost:8080/",
          "height": 283
        },
        "id": "4gHa6rutVcbM",
        "outputId": "9347f29f-4d5c-4f9a-e709-f7968eac61bd"
      },
      "outputs": [
        {
          "data": {
            "text/html": [
              "<div>\n",
              "<style scoped>\n",
              "    .dataframe tbody tr th:only-of-type {\n",
              "        vertical-align: middle;\n",
              "    }\n",
              "\n",
              "    .dataframe tbody tr th {\n",
              "        vertical-align: top;\n",
              "    }\n",
              "\n",
              "    .dataframe thead th {\n",
              "        text-align: right;\n",
              "    }\n",
              "</style>\n",
              "<table border=\"1\" class=\"dataframe\">\n",
              "  <thead>\n",
              "    <tr style=\"text-align: right;\">\n",
              "      <th></th>\n",
              "      <th>movie_title</th>\n",
              "      <th>movie_info</th>\n",
              "      <th>content_rating</th>\n",
              "      <th>genres</th>\n",
              "      <th>directors</th>\n",
              "      <th>actors</th>\n",
              "    </tr>\n",
              "  </thead>\n",
              "  <tbody>\n",
              "    <tr>\n",
              "      <th>0</th>\n",
              "      <td>Percy Jackson &amp; the Olympians: The Lightning T...</td>\n",
              "      <td>Always trouble-prone, the life of teenager Per...</td>\n",
              "      <td>PG</td>\n",
              "      <td>Action &amp; Adventure, Comedy, Drama, Science Fic...</td>\n",
              "      <td>Chris Columbus</td>\n",
              "      <td>Logan Lerman, Brandon T. Jackson, Alexandra Da...</td>\n",
              "    </tr>\n",
              "    <tr>\n",
              "      <th>1</th>\n",
              "      <td>Please Give</td>\n",
              "      <td>Kate (Catherine Keener) and her husband Alex (...</td>\n",
              "      <td>R</td>\n",
              "      <td>Comedy</td>\n",
              "      <td>Nicole Holofcener</td>\n",
              "      <td>Catherine Keener, Amanda Peet, Oliver Platt, R...</td>\n",
              "    </tr>\n",
              "    <tr>\n",
              "      <th>2</th>\n",
              "      <td>10</td>\n",
              "      <td>A successful, middle-aged Hollywood songwriter...</td>\n",
              "      <td>R</td>\n",
              "      <td>Comedy, Romance</td>\n",
              "      <td>Blake Edwards</td>\n",
              "      <td>Dudley Moore, Bo Derek, Julie Andrews, Robert ...</td>\n",
              "    </tr>\n",
              "    <tr>\n",
              "      <th>3</th>\n",
              "      <td>12 Angry Men (Twelve Angry Men)</td>\n",
              "      <td>Following the closing arguments in a murder tr...</td>\n",
              "      <td>NR</td>\n",
              "      <td>Classics, Drama</td>\n",
              "      <td>Sidney Lumet</td>\n",
              "      <td>Martin Balsam, John Fiedler, Lee J. Cobb, E.G....</td>\n",
              "    </tr>\n",
              "    <tr>\n",
              "      <th>4</th>\n",
              "      <td>20,000 Leagues Under The Sea</td>\n",
              "      <td>In 1866, Professor Pierre M. Aronnax (Paul Luk...</td>\n",
              "      <td>G</td>\n",
              "      <td>Action &amp; Adventure, Drama, Kids &amp; Family</td>\n",
              "      <td>Richard Fleischer</td>\n",
              "      <td>James Mason, Kirk Douglas, Paul Lukas, Peter L...</td>\n",
              "    </tr>\n",
              "  </tbody>\n",
              "</table>\n",
              "</div>"
            ],
            "text/plain": [
              "                                         movie_title  \\\n",
              "0  Percy Jackson & the Olympians: The Lightning T...   \n",
              "1                                        Please Give   \n",
              "2                                                 10   \n",
              "3                    12 Angry Men (Twelve Angry Men)   \n",
              "4                       20,000 Leagues Under The Sea   \n",
              "\n",
              "                                          movie_info content_rating  \\\n",
              "0  Always trouble-prone, the life of teenager Per...             PG   \n",
              "1  Kate (Catherine Keener) and her husband Alex (...              R   \n",
              "2  A successful, middle-aged Hollywood songwriter...              R   \n",
              "3  Following the closing arguments in a murder tr...             NR   \n",
              "4  In 1866, Professor Pierre M. Aronnax (Paul Luk...              G   \n",
              "\n",
              "                                              genres          directors  \\\n",
              "0  Action & Adventure, Comedy, Drama, Science Fic...     Chris Columbus   \n",
              "1                                             Comedy  Nicole Holofcener   \n",
              "2                                    Comedy, Romance      Blake Edwards   \n",
              "3                                    Classics, Drama       Sidney Lumet   \n",
              "4           Action & Adventure, Drama, Kids & Family  Richard Fleischer   \n",
              "\n",
              "                                              actors  \n",
              "0  Logan Lerman, Brandon T. Jackson, Alexandra Da...  \n",
              "1  Catherine Keener, Amanda Peet, Oliver Platt, R...  \n",
              "2  Dudley Moore, Bo Derek, Julie Andrews, Robert ...  \n",
              "3  Martin Balsam, John Fiedler, Lee J. Cobb, E.G....  \n",
              "4  James Mason, Kirk Douglas, Paul Lukas, Peter L...  "
            ]
          },
          "execution_count": 19,
          "metadata": {},
          "output_type": "execute_result"
        }
      ],
      "source": [
        "df_cleaned.head()"
      ]
    },
    {
      "cell_type": "markdown",
      "metadata": {},
      "source": [
        "#### Reset index, we will use this dataset moving forward "
      ]
    },
    {
      "cell_type": "code",
      "execution_count": 20,
      "metadata": {
        "id": "yltf8XrxeKr-"
      },
      "outputs": [
        {
          "data": {
            "text/html": [
              "<div>\n",
              "<style scoped>\n",
              "    .dataframe tbody tr th:only-of-type {\n",
              "        vertical-align: middle;\n",
              "    }\n",
              "\n",
              "    .dataframe tbody tr th {\n",
              "        vertical-align: top;\n",
              "    }\n",
              "\n",
              "    .dataframe thead th {\n",
              "        text-align: right;\n",
              "    }\n",
              "</style>\n",
              "<table border=\"1\" class=\"dataframe\">\n",
              "  <thead>\n",
              "    <tr style=\"text-align: right;\">\n",
              "      <th></th>\n",
              "      <th>movie_title</th>\n",
              "      <th>movie_info</th>\n",
              "      <th>content_rating</th>\n",
              "      <th>genres</th>\n",
              "      <th>directors</th>\n",
              "      <th>actors</th>\n",
              "    </tr>\n",
              "  </thead>\n",
              "  <tbody>\n",
              "    <tr>\n",
              "      <th>0</th>\n",
              "      <td>Percy Jackson &amp; the Olympians: The Lightning T...</td>\n",
              "      <td>Always trouble-prone, the life of teenager Per...</td>\n",
              "      <td>PG</td>\n",
              "      <td>Action &amp; Adventure, Comedy, Drama, Science Fic...</td>\n",
              "      <td>Chris Columbus</td>\n",
              "      <td>Logan Lerman, Brandon T. Jackson, Alexandra Da...</td>\n",
              "    </tr>\n",
              "    <tr>\n",
              "      <th>1</th>\n",
              "      <td>Please Give</td>\n",
              "      <td>Kate (Catherine Keener) and her husband Alex (...</td>\n",
              "      <td>R</td>\n",
              "      <td>Comedy</td>\n",
              "      <td>Nicole Holofcener</td>\n",
              "      <td>Catherine Keener, Amanda Peet, Oliver Platt, R...</td>\n",
              "    </tr>\n",
              "    <tr>\n",
              "      <th>2</th>\n",
              "      <td>10</td>\n",
              "      <td>A successful, middle-aged Hollywood songwriter...</td>\n",
              "      <td>R</td>\n",
              "      <td>Comedy, Romance</td>\n",
              "      <td>Blake Edwards</td>\n",
              "      <td>Dudley Moore, Bo Derek, Julie Andrews, Robert ...</td>\n",
              "    </tr>\n",
              "    <tr>\n",
              "      <th>3</th>\n",
              "      <td>12 Angry Men (Twelve Angry Men)</td>\n",
              "      <td>Following the closing arguments in a murder tr...</td>\n",
              "      <td>NR</td>\n",
              "      <td>Classics, Drama</td>\n",
              "      <td>Sidney Lumet</td>\n",
              "      <td>Martin Balsam, John Fiedler, Lee J. Cobb, E.G....</td>\n",
              "    </tr>\n",
              "    <tr>\n",
              "      <th>4</th>\n",
              "      <td>20,000 Leagues Under The Sea</td>\n",
              "      <td>In 1866, Professor Pierre M. Aronnax (Paul Luk...</td>\n",
              "      <td>G</td>\n",
              "      <td>Action &amp; Adventure, Drama, Kids &amp; Family</td>\n",
              "      <td>Richard Fleischer</td>\n",
              "      <td>James Mason, Kirk Douglas, Paul Lukas, Peter L...</td>\n",
              "    </tr>\n",
              "    <tr>\n",
              "      <th>...</th>\n",
              "      <td>...</td>\n",
              "      <td>...</td>\n",
              "      <td>...</td>\n",
              "      <td>...</td>\n",
              "      <td>...</td>\n",
              "      <td>...</td>\n",
              "    </tr>\n",
              "    <tr>\n",
              "      <th>16903</th>\n",
              "      <td>Zoom</td>\n",
              "      <td>Capt. Zoom, or Jack (Tim Allen), as he is now ...</td>\n",
              "      <td>PG</td>\n",
              "      <td>Action &amp; Adventure, Comedy, Kids &amp; Family</td>\n",
              "      <td>Peter Hewitt</td>\n",
              "      <td>Tim Allen, Courteney Cox, Chevy Chase, Spencer...</td>\n",
              "    </tr>\n",
              "    <tr>\n",
              "      <th>16904</th>\n",
              "      <td>Zoot Suit</td>\n",
              "      <td>Mexican-American gangster Henry Reyna (Daniel ...</td>\n",
              "      <td>R</td>\n",
              "      <td>Drama, Musical &amp; Performing Arts</td>\n",
              "      <td>Luis Valdez</td>\n",
              "      <td>Daniel Valdez, Edward James Olmos, Charles Aid...</td>\n",
              "    </tr>\n",
              "    <tr>\n",
              "      <th>16905</th>\n",
              "      <td>Zootopia</td>\n",
              "      <td>From the largest elephant to the smallest shre...</td>\n",
              "      <td>PG</td>\n",
              "      <td>Action &amp; Adventure, Animation, Comedy</td>\n",
              "      <td>Byron Howard</td>\n",
              "      <td>J.K. Simmons, Kristen Bell, Octavia Spencer, A...</td>\n",
              "    </tr>\n",
              "    <tr>\n",
              "      <th>16906</th>\n",
              "      <td>Zulu</td>\n",
              "      <td>In 1879, the Zulu nation hands colonial Britis...</td>\n",
              "      <td>PG</td>\n",
              "      <td>Classics, Drama</td>\n",
              "      <td>Cy Endfield</td>\n",
              "      <td>Stanley Baker, Jack Hawkins, Ulla Jacobsson, J...</td>\n",
              "    </tr>\n",
              "    <tr>\n",
              "      <th>16907</th>\n",
              "      <td>Zulu Dawn</td>\n",
              "      <td>Sir Henry Bartle Frere's (John Mills) vastly o...</td>\n",
              "      <td>PG</td>\n",
              "      <td>Action &amp; Adventure, Art House &amp; International,...</td>\n",
              "      <td>Douglas Hickox</td>\n",
              "      <td>Burt Lancaster, Peter O'Toole, Simon Ward, Joh...</td>\n",
              "    </tr>\n",
              "  </tbody>\n",
              "</table>\n",
              "<p>16908 rows × 6 columns</p>\n",
              "</div>"
            ],
            "text/plain": [
              "                                             movie_title  \\\n",
              "0      Percy Jackson & the Olympians: The Lightning T...   \n",
              "1                                            Please Give   \n",
              "2                                                     10   \n",
              "3                        12 Angry Men (Twelve Angry Men)   \n",
              "4                           20,000 Leagues Under The Sea   \n",
              "...                                                  ...   \n",
              "16903                                               Zoom   \n",
              "16904                                          Zoot Suit   \n",
              "16905                                           Zootopia   \n",
              "16906                                               Zulu   \n",
              "16907                                          Zulu Dawn   \n",
              "\n",
              "                                              movie_info content_rating  \\\n",
              "0      Always trouble-prone, the life of teenager Per...             PG   \n",
              "1      Kate (Catherine Keener) and her husband Alex (...              R   \n",
              "2      A successful, middle-aged Hollywood songwriter...              R   \n",
              "3      Following the closing arguments in a murder tr...             NR   \n",
              "4      In 1866, Professor Pierre M. Aronnax (Paul Luk...              G   \n",
              "...                                                  ...            ...   \n",
              "16903  Capt. Zoom, or Jack (Tim Allen), as he is now ...             PG   \n",
              "16904  Mexican-American gangster Henry Reyna (Daniel ...              R   \n",
              "16905  From the largest elephant to the smallest shre...             PG   \n",
              "16906  In 1879, the Zulu nation hands colonial Britis...             PG   \n",
              "16907  Sir Henry Bartle Frere's (John Mills) vastly o...             PG   \n",
              "\n",
              "                                                  genres          directors  \\\n",
              "0      Action & Adventure, Comedy, Drama, Science Fic...     Chris Columbus   \n",
              "1                                                 Comedy  Nicole Holofcener   \n",
              "2                                        Comedy, Romance      Blake Edwards   \n",
              "3                                        Classics, Drama       Sidney Lumet   \n",
              "4               Action & Adventure, Drama, Kids & Family  Richard Fleischer   \n",
              "...                                                  ...                ...   \n",
              "16903          Action & Adventure, Comedy, Kids & Family       Peter Hewitt   \n",
              "16904                   Drama, Musical & Performing Arts        Luis Valdez   \n",
              "16905              Action & Adventure, Animation, Comedy       Byron Howard   \n",
              "16906                                    Classics, Drama        Cy Endfield   \n",
              "16907  Action & Adventure, Art House & International,...     Douglas Hickox   \n",
              "\n",
              "                                                  actors  \n",
              "0      Logan Lerman, Brandon T. Jackson, Alexandra Da...  \n",
              "1      Catherine Keener, Amanda Peet, Oliver Platt, R...  \n",
              "2      Dudley Moore, Bo Derek, Julie Andrews, Robert ...  \n",
              "3      Martin Balsam, John Fiedler, Lee J. Cobb, E.G....  \n",
              "4      James Mason, Kirk Douglas, Paul Lukas, Peter L...  \n",
              "...                                                  ...  \n",
              "16903  Tim Allen, Courteney Cox, Chevy Chase, Spencer...  \n",
              "16904  Daniel Valdez, Edward James Olmos, Charles Aid...  \n",
              "16905  J.K. Simmons, Kristen Bell, Octavia Spencer, A...  \n",
              "16906  Stanley Baker, Jack Hawkins, Ulla Jacobsson, J...  \n",
              "16907  Burt Lancaster, Peter O'Toole, Simon Ward, Joh...  \n",
              "\n",
              "[16908 rows x 6 columns]"
            ]
          },
          "execution_count": 20,
          "metadata": {},
          "output_type": "execute_result"
        }
      ],
      "source": [
        "# reset index \n",
        "df_cleaned = df_cleaned.reset_index(drop=True)\n",
        "df_cleaned_english = df_cleaned.copy()\n",
        "df_cleaned"
      ]
    },
    {
      "cell_type": "code",
      "execution_count": 21,
      "metadata": {
        "id": "UPVBSdzlfYBf"
      },
      "outputs": [],
      "source": [
        "# Display the full contents of each cell \n",
        "pd.set_option('display.max_colwidth', None)"
      ]
    },
    {
      "cell_type": "code",
      "execution_count": 22,
      "metadata": {
        "colab": {
          "base_uri": "https://localhost:8080/",
          "height": 382
        },
        "id": "4-QYHV_8fbA9",
        "outputId": "82fec8fa-e9e4-4dde-8908-d66e53b51bda"
      },
      "outputs": [
        {
          "data": {
            "text/plain": [
              "0                                       Always trouble-prone, the life of teenager Percy Jackson (Logan Lerman) gets a lot more complicated when he learns he's the son of the Greek god Poseidon. At a training ground for the children of deities, Percy learns to harness his divine powers and prepare for the adventure of a lifetime: he must prevent a feud among the Olympians from erupting into a devastating war on Earth, and rescue his mother from the clutches of Hades, god of the underworld.\n",
              "1       Kate (Catherine Keener) and her husband Alex (Oliver Platt) are wealthy New Yorkers who prowl estate sales and make a tidy profit reselling items they bought cheaply. They buy the apartment next door and plan to remodel just as soon as its current occupant, a cranky old woman, dies. Kate is troubled by the way she and her husband earn a living, and tries to assuage her guilt by befriending her tenant and the woman's granddaughters, but her overtures lead to unexpected consequences.\n",
              "2                                                                                                                                                                                                                      A successful, middle-aged Hollywood songwriter falls hopelessly in love with the woman of his dreams, and even follows the girl and her new husband to their Mexican honeymoon resort. While his behavior seems sure to land him in trouble, out of the blue fate plays into his hands.\n",
              "3                                           Following the closing arguments in a murder trial, the 12 members of the jury must deliberate, with a guilty verdict meaning death for the accused, an inner-city teen. As the dozen men try to reach a unanimous decision while sequestered in a room, one juror (Henry Fonda) casts considerable doubt on elements of the case. Personal issues soon rise to the surface, and conflict threatens to derail the delicate process that will decide one boy's fate.\n",
              "4    In 1866, Professor Pierre M. Aronnax (Paul Lukas) and his assistant Conseil (Peter Lorre), stranded in San Francisco by reports of a giant sea monster attacking ships in the Pacific Ocean, are invited to join an expedition to search for the creature. During the search, they and harpooner Ned Land (Kirk Douglas) are thrown overboard during an attack, eventually discovering that the supposed monster is actually a submarine piloted by the brilliant but haunted Captain Nemo (James Mason).\n",
              "Name: movie_info, dtype: object"
            ]
          },
          "execution_count": 22,
          "metadata": {},
          "output_type": "execute_result"
        }
      ],
      "source": [
        "df_cleaned['movie_info'].head()"
      ]
    },
    {
      "cell_type": "code",
      "execution_count": 23,
      "metadata": {
        "colab": {
          "base_uri": "https://localhost:8080/"
        },
        "id": "EHskVxySArPF",
        "outputId": "fc282ee2-d067-4218-f241-edea4cdb8142"
      },
      "outputs": [
        {
          "data": {
            "text/plain": [
              "(16908, 6)"
            ]
          },
          "execution_count": 23,
          "metadata": {},
          "output_type": "execute_result"
        }
      ],
      "source": [
        "df_cleaned.shape"
      ]
    },
    {
      "cell_type": "code",
      "execution_count": 24,
      "metadata": {
        "colab": {
          "base_uri": "https://localhost:8080/"
        },
        "id": "ye77iwjYfHbW",
        "outputId": "ec8412b1-84fb-4a82-fc84-c5b40b3c3994"
      },
      "outputs": [],
      "source": [
        "df_cleaned['movie_info'] = df_cleaned['movie_info'].replace({r'[\\r\\n\\t]+': ' '}, regex=True)"
      ]
    },
    {
      "cell_type": "code",
      "execution_count": 25,
      "metadata": {
        "colab": {
          "base_uri": "https://localhost:8080/",
          "height": 382
        },
        "id": "mL0BDveTfQyt",
        "outputId": "9ce613c0-64a5-4bc8-8b47-63260ce0d454"
      },
      "outputs": [
        {
          "data": {
            "text/plain": [
              "0                                       Always trouble-prone, the life of teenager Percy Jackson (Logan Lerman) gets a lot more complicated when he learns he's the son of the Greek god Poseidon. At a training ground for the children of deities, Percy learns to harness his divine powers and prepare for the adventure of a lifetime: he must prevent a feud among the Olympians from erupting into a devastating war on Earth, and rescue his mother from the clutches of Hades, god of the underworld.\n",
              "1       Kate (Catherine Keener) and her husband Alex (Oliver Platt) are wealthy New Yorkers who prowl estate sales and make a tidy profit reselling items they bought cheaply. They buy the apartment next door and plan to remodel just as soon as its current occupant, a cranky old woman, dies. Kate is troubled by the way she and her husband earn a living, and tries to assuage her guilt by befriending her tenant and the woman's granddaughters, but her overtures lead to unexpected consequences.\n",
              "2                                                                                                                                                                                                                      A successful, middle-aged Hollywood songwriter falls hopelessly in love with the woman of his dreams, and even follows the girl and her new husband to their Mexican honeymoon resort. While his behavior seems sure to land him in trouble, out of the blue fate plays into his hands.\n",
              "3                                           Following the closing arguments in a murder trial, the 12 members of the jury must deliberate, with a guilty verdict meaning death for the accused, an inner-city teen. As the dozen men try to reach a unanimous decision while sequestered in a room, one juror (Henry Fonda) casts considerable doubt on elements of the case. Personal issues soon rise to the surface, and conflict threatens to derail the delicate process that will decide one boy's fate.\n",
              "4    In 1866, Professor Pierre M. Aronnax (Paul Lukas) and his assistant Conseil (Peter Lorre), stranded in San Francisco by reports of a giant sea monster attacking ships in the Pacific Ocean, are invited to join an expedition to search for the creature. During the search, they and harpooner Ned Land (Kirk Douglas) are thrown overboard during an attack, eventually discovering that the supposed monster is actually a submarine piloted by the brilliant but haunted Captain Nemo (James Mason).\n",
              "Name: movie_info, dtype: object"
            ]
          },
          "execution_count": 25,
          "metadata": {},
          "output_type": "execute_result"
        }
      ],
      "source": [
        "df_cleaned['movie_info'].head()"
      ]
    },
    {
      "cell_type": "markdown",
      "metadata": {},
      "source": [
        "### Remove Spaces from names of actors and directors"
      ]
    },
    {
      "cell_type": "code",
      "execution_count": 26,
      "metadata": {},
      "outputs": [],
      "source": [
        "#Function to clean_text\n",
        "def clean_text(text):\n",
        "    lem = WordNetLemmatizer()\n",
        "    stop = set(stopwords.words('english'))\n",
        "    punct = string.punctuation\n",
        "    text = re.sub(r'\\s+', ' ', text)\n",
        "    text = text.translate(str.maketrans('', '', punct)).lower()\n",
        "    tokens = re.split(r'\\W+', text)\n",
        "    tokens = [lem.lemmatize(word) for word in tokens if word not in stop]\n",
        "    return ' '.join(tokens)"
      ]
    },
    {
      "cell_type": "code",
      "execution_count": 27,
      "metadata": {},
      "outputs": [],
      "source": [
        "df_cleaned['directors'] = df_cleaned['directors'].str.replace(' ', '')\n",
        "df_cleaned['actors'] = df_cleaned['actors'].apply(\n",
        "    lambda x: ', '.join(name.replace(' ', '') for name in x.split(','))\n",
        ")\n",
        "df_cleaned['genres'] = df_cleaned['genres'].apply(\n",
        "    lambda x: ', '.join(name.replace(' ', '') for name in x.split(','))\n",
        ")"
      ]
    },
    {
      "cell_type": "code",
      "execution_count": 28,
      "metadata": {},
      "outputs": [],
      "source": [
        "def weight_and_salt_names(name_string, n):\n",
        "    names = [name.strip().replace(' ', '') for name in name_string.split(',')]\n",
        "    salted_names = []\n",
        "\n",
        "    def salt_name(name, weight):\n",
        "        if weight <= 0:\n",
        "            return []\n",
        "        salted = [name]  # first occurrence without salt\n",
        "        salted += [f\"{name}__salt{i}\" for i in range(weight - 1)]\n",
        "        return salted\n",
        "\n",
        "    if len(names) > 0:\n",
        "        salted_names.extend(salt_name(names[0], n))\n",
        "    if len(names) > 1:\n",
        "        salted_names.extend(salt_name(names[1], (n // 2) + 1))\n",
        "    if len(names) > 2:\n",
        "        salted_names.extend(salt_name(names[2], n // 2))\n",
        "    if len(names) > 3:\n",
        "        salted_names.extend(salt_name(names[3], n // 3))\n",
        "\n",
        "    return ' '.join(salted_names)\n",
        "\n",
        "\n",
        "# Apply to actors and directors\n",
        "df_cleaned['actors'] = df_cleaned['actors'].apply(lambda x: weight_and_salt_names(x, n=6))\n",
        "df_cleaned['directors'] = df_cleaned['directors'].apply(lambda x: weight_and_salt_names(x, n=5))\n",
        "\n",
        "\n",
        "df_cleaned['movie_title'] = df_cleaned['movie_title'].apply(clean_text)\n",
        "df_cleaned['movie_title'] = df_cleaned['movie_title'].str.replace(' ', ',', regex=False)\n",
        "df_cleaned['movie_title'] = df_cleaned['movie_title'].apply(lambda x: weight_and_salt_names(x, n=3))\n"
      ]
    },
    {
      "cell_type": "markdown",
      "metadata": {},
      "source": [
        "Get key words from movie_info"
      ]
    },
    {
      "cell_type": "code",
      "execution_count": 29,
      "metadata": {},
      "outputs": [],
      "source": [
        "corpus = df_cleaned['movie_info'].fillna('')\n",
        "\n",
        "vectorizer = TfidfVectorizer(stop_words='english')  # No max_features now\n",
        "X = vectorizer.fit_transform(corpus)\n",
        "features = vectorizer.get_feature_names_out()\n",
        "\n",
        "def extract_keywords(row_index, top_n=8):\n",
        "    row_vector = X[row_index]\n",
        "    sorted_items = zip(row_vector.indices, row_vector.data)\n",
        "    sorted_items = sorted(sorted_items, key=lambda x: -x[1])\n",
        "    keywords = [features[idx] for idx, score in sorted_items[:top_n]]\n",
        "    return \" \".join(keywords)\n",
        "\n",
        "df_cleaned['movie_info_reduced'] = [extract_keywords(i) for i in range(X.shape[0])]\n"
      ]
    },
    {
      "cell_type": "code",
      "execution_count": 30,
      "metadata": {
        "colab": {
          "base_uri": "https://localhost:8080/"
        },
        "id": "RoiVMUBdmPYv",
        "outputId": "d5bc5f6a-c998-49ce-f6c4-adcab2580a64"
      },
      "outputs": [],
      "source": [
        "# Combining relevant columns for cleaning and then LSH model training\n",
        "df_cleaned['movie_combined'] =df_cleaned['movie_title'] + ' ' + df_cleaned['actors']+ ' ' + df_cleaned['directors'] + ' ' + df_cleaned['movie_info_reduced'] + ' ' + df_cleaned['content_rating']"
      ]
    },
    {
      "cell_type": "code",
      "execution_count": 31,
      "metadata": {
        "id": "WkQ-ZZJIfULX"
      },
      "outputs": [],
      "source": [
        "#Function to clean_text\n",
        "def clean_text(text):\n",
        "    lem = WordNetLemmatizer()\n",
        "    stop = set(stopwords.words('english'))\n",
        "    punct = string.punctuation\n",
        "    text = re.sub(r'\\s+', ' ', text)\n",
        "    text = text.translate(str.maketrans('', '', punct)).lower()\n",
        "    tokens = re.split(r'\\W+', text)\n",
        "    tokens = [lem.lemmatize(word) for word in tokens if word not in stop]\n",
        "    return ' '.join(tokens)"
      ]
    },
    {
      "cell_type": "code",
      "execution_count": 32,
      "metadata": {
        "colab": {
          "base_uri": "https://localhost:8080/",
          "height": 481
        },
        "id": "57l4DulLgPq8",
        "outputId": "20ebf529-aaac-4315-9e2c-35482d21fb50"
      },
      "outputs": [
        {
          "data": {
            "text/html": [
              "<div>\n",
              "<style scoped>\n",
              "    .dataframe tbody tr th:only-of-type {\n",
              "        vertical-align: middle;\n",
              "    }\n",
              "\n",
              "    .dataframe tbody tr th {\n",
              "        vertical-align: top;\n",
              "    }\n",
              "\n",
              "    .dataframe thead th {\n",
              "        text-align: right;\n",
              "    }\n",
              "</style>\n",
              "<table border=\"1\" class=\"dataframe\">\n",
              "  <thead>\n",
              "    <tr style=\"text-align: right;\">\n",
              "      <th></th>\n",
              "      <th>movie_title</th>\n",
              "      <th>movie_info</th>\n",
              "      <th>content_rating</th>\n",
              "      <th>genres</th>\n",
              "      <th>directors</th>\n",
              "      <th>actors</th>\n",
              "      <th>movie_info_reduced</th>\n",
              "      <th>movie_combined</th>\n",
              "    </tr>\n",
              "  </thead>\n",
              "  <tbody>\n",
              "    <tr>\n",
              "      <th>0</th>\n",
              "      <td>percy percy__salt0 percy__salt1 jackson jackson__salt0 olympian lightning</td>\n",
              "      <td>Always trouble-prone, the life of teenager Percy Jackson (Logan Lerman) gets a lot more complicated when he learns he's the son of the Greek god Poseidon. At a training ground for the children of deities, Percy learns to harness his divine powers and prepare for the adventure of a lifetime: he must prevent a feud among the Olympians from erupting into a devastating war on Earth, and rescue his mother from the clutches of Hades, god of the underworld.</td>\n",
              "      <td>PG</td>\n",
              "      <td>actionadventure comedy drama sciencefictionfantasy</td>\n",
              "      <td>ChrisColumbus ChrisColumbus__salt0 ChrisColumbus__salt1 ChrisColumbus__salt2 ChrisColumbus__salt3</td>\n",
              "      <td>LoganLerman LoganLerman__salt0 LoganLerman__salt1 LoganLerman__salt2 LoganLerman__salt3 LoganLerman__salt4 BrandonT.Jackson BrandonT.Jackson__salt0 BrandonT.Jackson__salt1 BrandonT.Jackson__salt2 AlexandraDaddario AlexandraDaddario__salt0 AlexandraDaddario__salt1 JakeAbel JakeAbel__salt0</td>\n",
              "      <td>percy god olympians deities erupting learns poseidon hades</td>\n",
              "      <td>percy percysalt0 percysalt1 jackson jacksonsalt0 olympian lightning loganlerman loganlermansalt0 loganlermansalt1 loganlermansalt2 loganlermansalt3 loganlermansalt4 brandontjackson brandontjacksonsalt0 brandontjacksonsalt1 brandontjacksonsalt2 alexandradaddario alexandradaddariosalt0 alexandradaddariosalt1 jakeabel jakeabelsalt0 chriscolumbus chriscolumbussalt0 chriscolumbussalt1 chriscolumbussalt2 chriscolumbussalt3 percy god olympian deity erupting learns poseidon hades pg</td>\n",
              "    </tr>\n",
              "    <tr>\n",
              "      <th>1</th>\n",
              "      <td>please please__salt0 please__salt1 give give__salt0</td>\n",
              "      <td>Kate (Catherine Keener) and her husband Alex (Oliver Platt) are wealthy New Yorkers who prowl estate sales and make a tidy profit reselling items they bought cheaply. They buy the apartment next door and plan to remodel just as soon as its current occupant, a cranky old woman, dies. Kate is troubled by the way she and her husband earn a living, and tries to assuage her guilt by befriending her tenant and the woman's granddaughters, but her overtures lead to unexpected consequences.</td>\n",
              "      <td>R</td>\n",
              "      <td>comedy</td>\n",
              "      <td>NicoleHolofcener NicoleHolofcener__salt0 NicoleHolofcener__salt1 NicoleHolofcener__salt2 NicoleHolofcener__salt3</td>\n",
              "      <td>CatherineKeener CatherineKeener__salt0 CatherineKeener__salt1 CatherineKeener__salt2 CatherineKeener__salt3 CatherineKeener__salt4 AmandaPeet AmandaPeet__salt0 AmandaPeet__salt1 AmandaPeet__salt2 OliverPlatt OliverPlatt__salt0 OliverPlatt__salt1 RebeccaHall RebeccaHall__salt0</td>\n",
              "      <td>kate tidy reselling cheaply remodel occupant granddaughters assuage</td>\n",
              "      <td>please pleasesalt0 pleasesalt1 give givesalt0 catherinekeener catherinekeenersalt0 catherinekeenersalt1 catherinekeenersalt2 catherinekeenersalt3 catherinekeenersalt4 amandapeet amandapeetsalt0 amandapeetsalt1 amandapeetsalt2 oliverplatt oliverplattsalt0 oliverplattsalt1 rebeccahall rebeccahallsalt0 nicoleholofcener nicoleholofcenersalt0 nicoleholofcenersalt1 nicoleholofcenersalt2 nicoleholofcenersalt3 kate tidy reselling cheaply remodel occupant granddaughter assuage r</td>\n",
              "    </tr>\n",
              "    <tr>\n",
              "      <th>2</th>\n",
              "      <td>10 10__salt0 10__salt1</td>\n",
              "      <td>A successful, middle-aged Hollywood songwriter falls hopelessly in love with the woman of his dreams, and even follows the girl and her new husband to their Mexican honeymoon resort. While his behavior seems sure to land him in trouble, out of the blue fate plays into his hands.</td>\n",
              "      <td>R</td>\n",
              "      <td>comedy romance</td>\n",
              "      <td>BlakeEdwards BlakeEdwards__salt0 BlakeEdwards__salt1 BlakeEdwards__salt2 BlakeEdwards__salt3</td>\n",
              "      <td>DudleyMoore DudleyMoore__salt0 DudleyMoore__salt1 DudleyMoore__salt2 DudleyMoore__salt3 DudleyMoore__salt4 BoDerek BoDerek__salt0 BoDerek__salt1 BoDerek__salt2 JulieAndrews JulieAndrews__salt0 JulieAndrews__salt1 RobertWebber RobertWebber__salt0</td>\n",
              "      <td>hopelessly honeymoon songwriter sure blue aged resort plays</td>\n",
              "      <td>10 10salt0 10salt1 dudleymoore dudleymooresalt0 dudleymooresalt1 dudleymooresalt2 dudleymooresalt3 dudleymooresalt4 boderek bodereksalt0 bodereksalt1 bodereksalt2 julieandrews julieandrewssalt0 julieandrewssalt1 robertwebber robertwebbersalt0 blakeedwards blakeedwardssalt0 blakeedwardssalt1 blakeedwardssalt2 blakeedwardssalt3 hopelessly honeymoon songwriter sure blue aged resort play r</td>\n",
              "    </tr>\n",
              "    <tr>\n",
              "      <th>3</th>\n",
              "      <td>12 12__salt0 12__salt1 angry angry__salt0 men twelve</td>\n",
              "      <td>Following the closing arguments in a murder trial, the 12 members of the jury must deliberate, with a guilty verdict meaning death for the accused, an inner-city teen. As the dozen men try to reach a unanimous decision while sequestered in a room, one juror (Henry Fonda) casts considerable doubt on elements of the case. Personal issues soon rise to the surface, and conflict threatens to derail the delicate process that will decide one boy's fate.</td>\n",
              "      <td>NR</td>\n",
              "      <td>classic drama</td>\n",
              "      <td>SidneyLumet SidneyLumet__salt0 SidneyLumet__salt1 SidneyLumet__salt2 SidneyLumet__salt3</td>\n",
              "      <td>MartinBalsam MartinBalsam__salt0 MartinBalsam__salt1 MartinBalsam__salt2 MartinBalsam__salt3 MartinBalsam__salt4 JohnFiedler JohnFiedler__salt0 JohnFiedler__salt1 JohnFiedler__salt2 LeeJ.Cobb LeeJ.Cobb__salt0 LeeJ.Cobb__salt1 E.G.Marshall E.G.Marshall__salt0</td>\n",
              "      <td>unanimous sequestered arguments juror deliberate verdict delicate dozen</td>\n",
              "      <td>12 12salt0 12salt1 angry angrysalt0 men twelve martinbalsam martinbalsamsalt0 martinbalsamsalt1 martinbalsamsalt2 martinbalsamsalt3 martinbalsamsalt4 johnfiedler johnfiedlersalt0 johnfiedlersalt1 johnfiedlersalt2 leejcobb leejcobbsalt0 leejcobbsalt1 egmarshall egmarshallsalt0 sidneylumet sidneylumetsalt0 sidneylumetsalt1 sidneylumetsalt2 sidneylumetsalt3 unanimous sequestered argument juror deliberate verdict delicate dozen nr</td>\n",
              "    </tr>\n",
              "    <tr>\n",
              "      <th>4</th>\n",
              "      <td>20000 20000__salt0 20000__salt1 league league__salt0 sea</td>\n",
              "      <td>In 1866, Professor Pierre M. Aronnax (Paul Lukas) and his assistant Conseil (Peter Lorre), stranded in San Francisco by reports of a giant sea monster attacking ships in the Pacific Ocean, are invited to join an expedition to search for the creature. During the search, they and harpooner Ned Land (Kirk Douglas) are thrown overboard during an attack, eventually discovering that the supposed monster is actually a submarine piloted by the brilliant but haunted Captain Nemo (James Mason).</td>\n",
              "      <td>G</td>\n",
              "      <td>actionadventure drama kidsfamily</td>\n",
              "      <td>RichardFleischer RichardFleischer__salt0 RichardFleischer__salt1 RichardFleischer__salt2 RichardFleischer__salt3</td>\n",
              "      <td>JamesMason JamesMason__salt0 JamesMason__salt1 JamesMason__salt2 JamesMason__salt3 JamesMason__salt4 KirkDouglas KirkDouglas__salt0 KirkDouglas__salt1 KirkDouglas__salt2 PaulLukas PaulLukas__salt0 PaulLukas__salt1 PeterLorre PeterLorre__salt0</td>\n",
              "      <td>monster search 1866 aronnax conseil harpooner nemo lorre</td>\n",
              "      <td>20000 20000salt0 20000salt1 league leaguesalt0 sea jamesmason jamesmasonsalt0 jamesmasonsalt1 jamesmasonsalt2 jamesmasonsalt3 jamesmasonsalt4 kirkdouglas kirkdouglassalt0 kirkdouglassalt1 kirkdouglassalt2 paullukas paullukassalt0 paullukassalt1 peterlorre peterlorresalt0 richardfleischer richardfleischersalt0 richardfleischersalt1 richardfleischersalt2 richardfleischersalt3 monster search 1866 aronnax conseil harpooner nemo lorre g</td>\n",
              "    </tr>\n",
              "  </tbody>\n",
              "</table>\n",
              "</div>"
            ],
            "text/plain": [
              "                                                                 movie_title  \\\n",
              "0  percy percy__salt0 percy__salt1 jackson jackson__salt0 olympian lightning   \n",
              "1                        please please__salt0 please__salt1 give give__salt0   \n",
              "2                                                     10 10__salt0 10__salt1   \n",
              "3                       12 12__salt0 12__salt1 angry angry__salt0 men twelve   \n",
              "4                   20000 20000__salt0 20000__salt1 league league__salt0 sea   \n",
              "\n",
              "                                                                                                                                                                                                                                                                                                                                                                                                                                                                                                  movie_info  \\\n",
              "0                                     Always trouble-prone, the life of teenager Percy Jackson (Logan Lerman) gets a lot more complicated when he learns he's the son of the Greek god Poseidon. At a training ground for the children of deities, Percy learns to harness his divine powers and prepare for the adventure of a lifetime: he must prevent a feud among the Olympians from erupting into a devastating war on Earth, and rescue his mother from the clutches of Hades, god of the underworld.   \n",
              "1     Kate (Catherine Keener) and her husband Alex (Oliver Platt) are wealthy New Yorkers who prowl estate sales and make a tidy profit reselling items they bought cheaply. They buy the apartment next door and plan to remodel just as soon as its current occupant, a cranky old woman, dies. Kate is troubled by the way she and her husband earn a living, and tries to assuage her guilt by befriending her tenant and the woman's granddaughters, but her overtures lead to unexpected consequences.   \n",
              "2                                                                                                                                                                                                                    A successful, middle-aged Hollywood songwriter falls hopelessly in love with the woman of his dreams, and even follows the girl and her new husband to their Mexican honeymoon resort. While his behavior seems sure to land him in trouble, out of the blue fate plays into his hands.   \n",
              "3                                         Following the closing arguments in a murder trial, the 12 members of the jury must deliberate, with a guilty verdict meaning death for the accused, an inner-city teen. As the dozen men try to reach a unanimous decision while sequestered in a room, one juror (Henry Fonda) casts considerable doubt on elements of the case. Personal issues soon rise to the surface, and conflict threatens to derail the delicate process that will decide one boy's fate.   \n",
              "4  In 1866, Professor Pierre M. Aronnax (Paul Lukas) and his assistant Conseil (Peter Lorre), stranded in San Francisco by reports of a giant sea monster attacking ships in the Pacific Ocean, are invited to join an expedition to search for the creature. During the search, they and harpooner Ned Land (Kirk Douglas) are thrown overboard during an attack, eventually discovering that the supposed monster is actually a submarine piloted by the brilliant but haunted Captain Nemo (James Mason).   \n",
              "\n",
              "  content_rating                                              genres  \\\n",
              "0             PG  actionadventure comedy drama sciencefictionfantasy   \n",
              "1              R                                              comedy   \n",
              "2              R                                      comedy romance   \n",
              "3             NR                                       classic drama   \n",
              "4              G                    actionadventure drama kidsfamily   \n",
              "\n",
              "                                                                                                          directors  \\\n",
              "0                 ChrisColumbus ChrisColumbus__salt0 ChrisColumbus__salt1 ChrisColumbus__salt2 ChrisColumbus__salt3   \n",
              "1  NicoleHolofcener NicoleHolofcener__salt0 NicoleHolofcener__salt1 NicoleHolofcener__salt2 NicoleHolofcener__salt3   \n",
              "2                      BlakeEdwards BlakeEdwards__salt0 BlakeEdwards__salt1 BlakeEdwards__salt2 BlakeEdwards__salt3   \n",
              "3                           SidneyLumet SidneyLumet__salt0 SidneyLumet__salt1 SidneyLumet__salt2 SidneyLumet__salt3   \n",
              "4  RichardFleischer RichardFleischer__salt0 RichardFleischer__salt1 RichardFleischer__salt2 RichardFleischer__salt3   \n",
              "\n",
              "                                                                                                                                                                                                                                                                                             actors  \\\n",
              "0  LoganLerman LoganLerman__salt0 LoganLerman__salt1 LoganLerman__salt2 LoganLerman__salt3 LoganLerman__salt4 BrandonT.Jackson BrandonT.Jackson__salt0 BrandonT.Jackson__salt1 BrandonT.Jackson__salt2 AlexandraDaddario AlexandraDaddario__salt0 AlexandraDaddario__salt1 JakeAbel JakeAbel__salt0   \n",
              "1              CatherineKeener CatherineKeener__salt0 CatherineKeener__salt1 CatherineKeener__salt2 CatherineKeener__salt3 CatherineKeener__salt4 AmandaPeet AmandaPeet__salt0 AmandaPeet__salt1 AmandaPeet__salt2 OliverPlatt OliverPlatt__salt0 OliverPlatt__salt1 RebeccaHall RebeccaHall__salt0   \n",
              "2                                             DudleyMoore DudleyMoore__salt0 DudleyMoore__salt1 DudleyMoore__salt2 DudleyMoore__salt3 DudleyMoore__salt4 BoDerek BoDerek__salt0 BoDerek__salt1 BoDerek__salt2 JulieAndrews JulieAndrews__salt0 JulieAndrews__salt1 RobertWebber RobertWebber__salt0   \n",
              "3                                MartinBalsam MartinBalsam__salt0 MartinBalsam__salt1 MartinBalsam__salt2 MartinBalsam__salt3 MartinBalsam__salt4 JohnFiedler JohnFiedler__salt0 JohnFiedler__salt1 JohnFiedler__salt2 LeeJ.Cobb LeeJ.Cobb__salt0 LeeJ.Cobb__salt1 E.G.Marshall E.G.Marshall__salt0   \n",
              "4                                                JamesMason JamesMason__salt0 JamesMason__salt1 JamesMason__salt2 JamesMason__salt3 JamesMason__salt4 KirkDouglas KirkDouglas__salt0 KirkDouglas__salt1 KirkDouglas__salt2 PaulLukas PaulLukas__salt0 PaulLukas__salt1 PeterLorre PeterLorre__salt0   \n",
              "\n",
              "                                                        movie_info_reduced  \\\n",
              "0               percy god olympians deities erupting learns poseidon hades   \n",
              "1      kate tidy reselling cheaply remodel occupant granddaughters assuage   \n",
              "2              hopelessly honeymoon songwriter sure blue aged resort plays   \n",
              "3  unanimous sequestered arguments juror deliberate verdict delicate dozen   \n",
              "4                 monster search 1866 aronnax conseil harpooner nemo lorre   \n",
              "\n",
              "                                                                                                                                                                                                                                                                                                                                                                                                                                                                                    movie_combined  \n",
              "0  percy percysalt0 percysalt1 jackson jacksonsalt0 olympian lightning loganlerman loganlermansalt0 loganlermansalt1 loganlermansalt2 loganlermansalt3 loganlermansalt4 brandontjackson brandontjacksonsalt0 brandontjacksonsalt1 brandontjacksonsalt2 alexandradaddario alexandradaddariosalt0 alexandradaddariosalt1 jakeabel jakeabelsalt0 chriscolumbus chriscolumbussalt0 chriscolumbussalt1 chriscolumbussalt2 chriscolumbussalt3 percy god olympian deity erupting learns poseidon hades pg  \n",
              "1       please pleasesalt0 pleasesalt1 give givesalt0 catherinekeener catherinekeenersalt0 catherinekeenersalt1 catherinekeenersalt2 catherinekeenersalt3 catherinekeenersalt4 amandapeet amandapeetsalt0 amandapeetsalt1 amandapeetsalt2 oliverplatt oliverplattsalt0 oliverplattsalt1 rebeccahall rebeccahallsalt0 nicoleholofcener nicoleholofcenersalt0 nicoleholofcenersalt1 nicoleholofcenersalt2 nicoleholofcenersalt3 kate tidy reselling cheaply remodel occupant granddaughter assuage r  \n",
              "2                                                                                             10 10salt0 10salt1 dudleymoore dudleymooresalt0 dudleymooresalt1 dudleymooresalt2 dudleymooresalt3 dudleymooresalt4 boderek bodereksalt0 bodereksalt1 bodereksalt2 julieandrews julieandrewssalt0 julieandrewssalt1 robertwebber robertwebbersalt0 blakeedwards blakeedwardssalt0 blakeedwardssalt1 blakeedwardssalt2 blakeedwardssalt3 hopelessly honeymoon songwriter sure blue aged resort play r  \n",
              "3                                                   12 12salt0 12salt1 angry angrysalt0 men twelve martinbalsam martinbalsamsalt0 martinbalsamsalt1 martinbalsamsalt2 martinbalsamsalt3 martinbalsamsalt4 johnfiedler johnfiedlersalt0 johnfiedlersalt1 johnfiedlersalt2 leejcobb leejcobbsalt0 leejcobbsalt1 egmarshall egmarshallsalt0 sidneylumet sidneylumetsalt0 sidneylumetsalt1 sidneylumetsalt2 sidneylumetsalt3 unanimous sequestered argument juror deliberate verdict delicate dozen nr  \n",
              "4                                              20000 20000salt0 20000salt1 league leaguesalt0 sea jamesmason jamesmasonsalt0 jamesmasonsalt1 jamesmasonsalt2 jamesmasonsalt3 jamesmasonsalt4 kirkdouglas kirkdouglassalt0 kirkdouglassalt1 kirkdouglassalt2 paullukas paullukassalt0 paullukassalt1 peterlorre peterlorresalt0 richardfleischer richardfleischersalt0 richardfleischersalt1 richardfleischersalt2 richardfleischersalt3 monster search 1866 aronnax conseil harpooner nemo lorre g  "
            ]
          },
          "execution_count": 32,
          "metadata": {},
          "output_type": "execute_result"
        }
      ],
      "source": [
        "#Use function to clean the movie_combined column\n",
        "df_cleaned['movie_combined'] = df_cleaned['movie_combined'].apply(clean_text)\n",
        "df_cleaned['genres'] = df_cleaned['genres'].apply(clean_text)\n",
        "df_cleaned.head(5)"
      ]
    },
    {
      "cell_type": "markdown",
      "metadata": {
        "id": "O1p6plIbII_D"
      },
      "source": [
        "# Shingles Size is Fixed"
      ]
    },
    {
      "cell_type": "code",
      "execution_count": 33,
      "metadata": {},
      "outputs": [],
      "source": [
        "import itertools\n",
        "\n",
        "def create_genre_guided_shingles(genre_text, movie_text, k):\n",
        "    genre_tokens = genre_text.split()\n",
        "    movie_tokens = movie_text.split()\n",
        "\n",
        "    if k <= 1:\n",
        "        return genre_tokens\n",
        "\n",
        "    if len(movie_tokens) < (k - 1):\n",
        "        movie_combinations = [' '.join(movie_tokens)] if movie_tokens else []\n",
        "    else:\n",
        "        movie_combinations = [' '.join(comb) for comb in itertools.combinations(movie_tokens, k - 1)]\n",
        "\n",
        "    shingles = []\n",
        "    for genre_token in genre_tokens:\n",
        "        for movie_comb in movie_combinations:\n",
        "            shingles.append(f\"{genre_token} {movie_comb}\")\n",
        "\n",
        "    return shingles\n"
      ]
    },
    {
      "cell_type": "markdown",
      "metadata": {
        "id": "mKPDnaKjJAXF"
      },
      "source": [
        "# Creating function to generate MinHash Forest (using fixed shingle size)\n",
        "\n",
        "- Initializing number of permutations in MinHash\n",
        "- MinHashing the string on all shingles in each document\n",
        "- Storing the MinHash of the string\n",
        "- Generating a forest of all MinHashed strings\n",
        "- Indexing the forest to make it searchable"
      ]
    },
    {
      "cell_type": "code",
      "execution_count": 34,
      "metadata": {
        "id": "q4fskiwTJYvg"
      },
      "outputs": [],
      "source": [
        "import time\n",
        "from joblib import Parallel, delayed\n",
        "from datasketch import MinHash, MinHashLSHForest\n",
        "import multiprocessing\n",
        "\n",
        "def minhash_worker(genre_text, movie_text, permutations, k):\n",
        "    shingles = create_genre_guided_shingles(genre_text, movie_text, k)\n",
        "    m = MinHash(num_perm=permutations)\n",
        "    for shingle in shingles:\n",
        "        m.update(shingle.encode('utf8'))\n",
        "    return m\n",
        "\n",
        "def generate_forest(genre_texts, movie_texts, permutations, k):\n",
        "    \"\"\"\n",
        "    genre_texts: list of genre strings (same length as movie_texts)\n",
        "    movie_texts: list of combined movie metadata strings\n",
        "    permutations: number of MinHash permutations\n",
        "    k: shingle size (total words per shingle)\n",
        "    \"\"\"\n",
        "\n",
        "    start_time = time.time()\n",
        "\n",
        "    num_cores = max(1, multiprocessing.cpu_count() - 1)\n",
        "    print(f\"Using {num_cores} cores for parallel MinHash creation...\")\n",
        "\n",
        "    # Parallel MinHash creation (note: inputs must be paired genre/movie for each record)\n",
        "    minhash_list = Parallel(n_jobs=num_cores)(\n",
        "        delayed(minhash_worker)(genre_texts[i], movie_texts[i], permutations, k) \n",
        "        for i in range(len(genre_texts))\n",
        "    )\n",
        "\n",
        "    # Build the LSH Forest\n",
        "    forest = MinHashLSHForest(num_perm=permutations)\n",
        "\n",
        "    for idx, m in enumerate(minhash_list):\n",
        "        forest.add(idx, m)\n",
        "\n",
        "    forest.index()\n",
        "\n",
        "    print('It took %.2f seconds to build forest.' % (time.time() - start_time))\n",
        "\n",
        "    return forest\n"
      ]
    },
    {
      "cell_type": "markdown",
      "metadata": {
        "id": "1LZ1-X3AKYnd"
      },
      "source": [
        "#Creating a  function to query MinHash Forest (using fixed shingle size)\n",
        "\n",
        "- Preprocessing input text into fixed size shingles\n",
        "- Using the same number of permutations for the MinHash as was used to build the forest\n",
        "- Creating a MinHash on the input text using all shingles\n",
        "- Querying the forest with MinHash and return the number of requested recommendations\n",
        "- Providing the titles of each conference paper recommended"
      ]
    },
    {
      "cell_type": "code",
      "execution_count": 35,
      "metadata": {
        "id": "ub5bqwAZJgli"
      },
      "outputs": [],
      "source": [
        "def predict(idx, df_cleaned, permutations, num_results, forest, k):\n",
        "    \"\"\"\n",
        "    Find num_results nearest neighbors for the movie at index idx,\n",
        "    excluding the movie itself from the recommendations.\n",
        "    Also returns the shingles used for the query.\n",
        "    \"\"\"\n",
        "    genre_text = df_cleaned.loc[idx, 'genres']  # Or whatever your genre column is named\n",
        "    movie_text = df_cleaned.loc[idx, 'movie_combined']\n",
        "\n",
        "    shingles = create_genre_guided_shingles(genre_text, movie_text, k)\n",
        "\n",
        "    m = MinHash(num_perm=permutations)\n",
        "    for shingle in shingles:\n",
        "        m.update(shingle.encode('utf8'))\n",
        "\n",
        "    # Query for num_results + 1 to account for the movie itself\n",
        "    idx_array = np.array(forest.query(m, num_results + 1))\n",
        "\n",
        "    if len(idx_array) == 0:\n",
        "        return None, shingles\n",
        "\n",
        "    # Remove the movie itself from the results\n",
        "    idx_array = idx_array[idx_array != idx]\n",
        "\n",
        "    result = df_cleaned_english.loc[idx_array][['movie_title', 'content_rating', 'genres', 'directors', 'actors']]\n",
        "    return result, shingles\n"
      ]
    },
    {
      "cell_type": "markdown",
      "metadata": {
        "id": "JbAkPAb4Mxir"
      },
      "source": [
        "# Using forest (with fixed shingle size) to make recommendations for one/more movies using 2 approaches. First is index and second is using Movie title"
      ]
    },
    {
      "cell_type": "markdown",
      "metadata": {},
      "source": [
        "## Testing with dynamic approach "
      ]
    },
    {
      "cell_type": "markdown",
      "metadata": {},
      "source": [
        "First lets locate the move record based on the title "
      ]
    },
    {
      "cell_type": "code",
      "execution_count": 36,
      "metadata": {},
      "outputs": [],
      "source": [
        "def search_movies(df, search_string):\n",
        "    \"\"\"\n",
        "    Searches for movie titles containing the given search string (case-insensitive).\n",
        "    Returns a DataFrame with the matching rows and their original indexes.\n",
        "    \"\"\"\n",
        "    mask = df['movie_title'].str.contains(search_string, case=False, na=False)\n",
        "    result_df = df[mask].copy()\n",
        "    return result_df[['movie_title', 'directors']]\n"
      ]
    },
    {
      "cell_type": "code",
      "execution_count": 37,
      "metadata": {},
      "outputs": [
        {
          "data": {
            "text/html": [
              "<div>\n",
              "<style scoped>\n",
              "    .dataframe tbody tr th:only-of-type {\n",
              "        vertical-align: middle;\n",
              "    }\n",
              "\n",
              "    .dataframe tbody tr th {\n",
              "        vertical-align: top;\n",
              "    }\n",
              "\n",
              "    .dataframe thead th {\n",
              "        text-align: right;\n",
              "    }\n",
              "</style>\n",
              "<table border=\"1\" class=\"dataframe\">\n",
              "  <thead>\n",
              "    <tr style=\"text-align: right;\">\n",
              "      <th></th>\n",
              "      <th>movie_title</th>\n",
              "      <th>directors</th>\n",
              "    </tr>\n",
              "  </thead>\n",
              "  <tbody>\n",
              "    <tr>\n",
              "      <th>1179</th>\n",
              "      <td>The Avengers</td>\n",
              "      <td>Jeremiah S. Chechik</td>\n",
              "    </tr>\n",
              "    <tr>\n",
              "      <th>2934</th>\n",
              "      <td>Avengers: Age of Ultron</td>\n",
              "      <td>Joss Whedon</td>\n",
              "    </tr>\n",
              "    <tr>\n",
              "      <th>2935</th>\n",
              "      <td>Avengers: Endgame</td>\n",
              "      <td>Anthony Russo</td>\n",
              "    </tr>\n",
              "    <tr>\n",
              "      <th>2936</th>\n",
              "      <td>Avengers: Infinity War</td>\n",
              "      <td>Anthony Russo</td>\n",
              "    </tr>\n",
              "    <tr>\n",
              "      <th>4137</th>\n",
              "      <td>Captain America: The First Avenger</td>\n",
              "      <td>Joe Johnston</td>\n",
              "    </tr>\n",
              "    <tr>\n",
              "      <th>15211</th>\n",
              "      <td>The Toxic Avenger: Part II</td>\n",
              "      <td>Michael Herz</td>\n",
              "    </tr>\n",
              "    <tr>\n",
              "      <th>15670</th>\n",
              "      <td>The Toxic Avenger</td>\n",
              "      <td>Michael Herz</td>\n",
              "    </tr>\n",
              "    <tr>\n",
              "      <th>15671</th>\n",
              "      <td>Citizen Toxie: The Toxic Avenger IV</td>\n",
              "      <td>Lloyd Kaufman</td>\n",
              "    </tr>\n",
              "  </tbody>\n",
              "</table>\n",
              "</div>"
            ],
            "text/plain": [
              "                               movie_title            directors\n",
              "1179                          The Avengers  Jeremiah S. Chechik\n",
              "2934               Avengers: Age of Ultron          Joss Whedon\n",
              "2935                     Avengers: Endgame        Anthony Russo\n",
              "2936                Avengers: Infinity War        Anthony Russo\n",
              "4137    Captain America: The First Avenger         Joe Johnston\n",
              "15211           The Toxic Avenger: Part II         Michael Herz\n",
              "15670                    The Toxic Avenger         Michael Herz\n",
              "15671  Citizen Toxie: The Toxic Avenger IV        Lloyd Kaufman"
            ]
          },
          "execution_count": 37,
          "metadata": {},
          "output_type": "execute_result"
        }
      ],
      "source": [
        "search_list = search_movies(df_cleaned_english, \"avenger\")\n",
        "search_list"
      ]
    },
    {
      "cell_type": "markdown",
      "metadata": {
        "id": "glajImu9Mg-3"
      },
      "source": [
        "# Creating Forest (Using Fixed Shingle Size)"
      ]
    },
    {
      "cell_type": "code",
      "execution_count": 38,
      "metadata": {},
      "outputs": [],
      "source": [
        "# Set number of Permutations\n",
        "permutations = 512\n",
        "k = 2"
      ]
    },
    {
      "cell_type": "code",
      "execution_count": 39,
      "metadata": {},
      "outputs": [
        {
          "name": "stdout",
          "output_type": "stream",
          "text": [
            "Using 11 cores for parallel MinHash creation...\n",
            "It took 17.44 seconds to build forest.\n"
          ]
        }
      ],
      "source": [
        "forest = generate_forest(\n",
        "    genre_texts = df_cleaned['genres'].tolist(),\n",
        "    movie_texts = df_cleaned['movie_combined'].tolist(),\n",
        "    permutations = permutations,\n",
        "    k = k\n",
        ")"
      ]
    },
    {
      "cell_type": "markdown",
      "metadata": {},
      "source": [
        "Now that we know what movie we want to search for, lets do a search for the top 5 recommendations "
      ]
    },
    {
      "cell_type": "code",
      "execution_count": 40,
      "metadata": {},
      "outputs": [
        {
          "name": "stdout",
          "output_type": "stream",
          "text": [
            "Input Movie:\n",
            " movie_title                                             Avengers: Age of Ultron\n",
            "content_rating                                                            PG-13\n",
            "genres                            Action & Adventure, Science Fiction & Fantasy\n",
            "directors                                                           Joss Whedon\n",
            "actors            Robert Downey Jr., Chris Evans, Mark Ruffalo, Chris Hemsworth\n",
            "Name: 2934, dtype: object\n",
            "\n",
            "Top 10 recommendations for [Avengers: Age of Ultron]:\n"
          ]
        },
        {
          "data": {
            "text/html": [
              "<div>\n",
              "<style scoped>\n",
              "    .dataframe tbody tr th:only-of-type {\n",
              "        vertical-align: middle;\n",
              "    }\n",
              "\n",
              "    .dataframe tbody tr th {\n",
              "        vertical-align: top;\n",
              "    }\n",
              "\n",
              "    .dataframe thead th {\n",
              "        text-align: right;\n",
              "    }\n",
              "</style>\n",
              "<table border=\"1\" class=\"dataframe\">\n",
              "  <thead>\n",
              "    <tr style=\"text-align: right;\">\n",
              "      <th></th>\n",
              "      <th>movie_title</th>\n",
              "      <th>content_rating</th>\n",
              "      <th>genres</th>\n",
              "      <th>directors</th>\n",
              "      <th>actors</th>\n",
              "    </tr>\n",
              "  </thead>\n",
              "  <tbody>\n",
              "    <tr>\n",
              "      <th>4136</th>\n",
              "      <td>Captain America: Civil War</td>\n",
              "      <td>PG-13</td>\n",
              "      <td>Action &amp; Adventure, Science Fiction &amp; Fantasy</td>\n",
              "      <td>Anthony Russo</td>\n",
              "      <td>Chris Evans, Robert Downey Jr., Scarlett Johansson, Sebastian Stan</td>\n",
              "    </tr>\n",
              "    <tr>\n",
              "      <th>4137</th>\n",
              "      <td>Captain America: The First Avenger</td>\n",
              "      <td>PG-13</td>\n",
              "      <td>Action &amp; Adventure, Mystery &amp; Suspense</td>\n",
              "      <td>Joe Johnston</td>\n",
              "      <td>Chris Evans, Tommy Lee Jones, Hugo Weaving, Hayley Atwell</td>\n",
              "    </tr>\n",
              "    <tr>\n",
              "      <th>7977</th>\n",
              "      <td>In the Heart of the Sea</td>\n",
              "      <td>PG-13</td>\n",
              "      <td>Action &amp; Adventure, Drama</td>\n",
              "      <td>Ron Howard</td>\n",
              "      <td>Chris Hemsworth, Benjamin Walker, Cillian Murphy, Ben Whishaw</td>\n",
              "    </tr>\n",
              "    <tr>\n",
              "      <th>14538</th>\n",
              "      <td>The Huntsman: Winter's War</td>\n",
              "      <td>PG-13</td>\n",
              "      <td>Action &amp; Adventure, Drama, Science Fiction &amp; Fantasy</td>\n",
              "      <td>Cedric Nicolas-Troyan</td>\n",
              "      <td>Chris Hemsworth, Charlize Theron, Emily Blunt, Jessica Chastain</td>\n",
              "    </tr>\n",
              "    <tr>\n",
              "      <th>9872</th>\n",
              "      <td>Men in Black International</td>\n",
              "      <td>PG-13</td>\n",
              "      <td>Action &amp; Adventure, Comedy, Science Fiction &amp; Fantasy</td>\n",
              "      <td>F. Gary Gray</td>\n",
              "      <td>Chris Hemsworth, Tessa Thompson, Rebecca Ferguson, Kumail Nanjiani</td>\n",
              "    </tr>\n",
              "    <tr>\n",
              "      <th>5970</th>\n",
              "      <td>Extraction</td>\n",
              "      <td>R</td>\n",
              "      <td>Action &amp; Adventure, Drama, Mystery &amp; Suspense</td>\n",
              "      <td>Sam Hargrave</td>\n",
              "      <td>Chris Hemsworth, David Harbour, Derek Luke, Nico Pimparé Gaetan</td>\n",
              "    </tr>\n",
              "    <tr>\n",
              "      <th>15475</th>\n",
              "      <td>Thor</td>\n",
              "      <td>PG-13</td>\n",
              "      <td>Action &amp; Adventure, Drama, Science Fiction &amp; Fantasy</td>\n",
              "      <td>Kenneth Branagh</td>\n",
              "      <td>Chris Hemsworth, Natalie Portman, Anthony Hopkins, Tom Hiddleston</td>\n",
              "    </tr>\n",
              "    <tr>\n",
              "      <th>15477</th>\n",
              "      <td>Thor: The Dark World</td>\n",
              "      <td>PG-13</td>\n",
              "      <td>Action &amp; Adventure, Science Fiction &amp; Fantasy</td>\n",
              "      <td>Alan Taylor</td>\n",
              "      <td>Chris Hemsworth, Natalie Portman, Tom Hiddleston, Stellan Skarsgård</td>\n",
              "    </tr>\n",
              "    <tr>\n",
              "      <th>2936</th>\n",
              "      <td>Avengers: Infinity War</td>\n",
              "      <td>PG-13</td>\n",
              "      <td>Action &amp; Adventure, Science Fiction &amp; Fantasy</td>\n",
              "      <td>Anthony Russo</td>\n",
              "      <td>Robert Downey Jr., Chris Hemsworth, Mark Ruffalo, Chris Evans</td>\n",
              "    </tr>\n",
              "    <tr>\n",
              "      <th>12504</th>\n",
              "      <td>Serenity</td>\n",
              "      <td>PG-13</td>\n",
              "      <td>Action &amp; Adventure, Science Fiction &amp; Fantasy</td>\n",
              "      <td>Joss Whedon</td>\n",
              "      <td>Nathan Fillion, Gina Torres, Alan Tudyk, Morena Baccarin</td>\n",
              "    </tr>\n",
              "  </tbody>\n",
              "</table>\n",
              "</div>"
            ],
            "text/plain": [
              "                              movie_title content_rating  \\\n",
              "4136           Captain America: Civil War          PG-13   \n",
              "4137   Captain America: The First Avenger          PG-13   \n",
              "7977              In the Heart of the Sea          PG-13   \n",
              "14538          The Huntsman: Winter's War          PG-13   \n",
              "9872           Men in Black International          PG-13   \n",
              "5970                           Extraction              R   \n",
              "15475                                Thor          PG-13   \n",
              "15477                Thor: The Dark World          PG-13   \n",
              "2936               Avengers: Infinity War          PG-13   \n",
              "12504                            Serenity          PG-13   \n",
              "\n",
              "                                                      genres  \\\n",
              "4136           Action & Adventure, Science Fiction & Fantasy   \n",
              "4137                  Action & Adventure, Mystery & Suspense   \n",
              "7977                               Action & Adventure, Drama   \n",
              "14538   Action & Adventure, Drama, Science Fiction & Fantasy   \n",
              "9872   Action & Adventure, Comedy, Science Fiction & Fantasy   \n",
              "5970           Action & Adventure, Drama, Mystery & Suspense   \n",
              "15475   Action & Adventure, Drama, Science Fiction & Fantasy   \n",
              "15477          Action & Adventure, Science Fiction & Fantasy   \n",
              "2936           Action & Adventure, Science Fiction & Fantasy   \n",
              "12504          Action & Adventure, Science Fiction & Fantasy   \n",
              "\n",
              "                   directors  \\\n",
              "4136           Anthony Russo   \n",
              "4137            Joe Johnston   \n",
              "7977              Ron Howard   \n",
              "14538  Cedric Nicolas-Troyan   \n",
              "9872            F. Gary Gray   \n",
              "5970            Sam Hargrave   \n",
              "15475        Kenneth Branagh   \n",
              "15477            Alan Taylor   \n",
              "2936           Anthony Russo   \n",
              "12504            Joss Whedon   \n",
              "\n",
              "                                                                    actors  \n",
              "4136    Chris Evans, Robert Downey Jr., Scarlett Johansson, Sebastian Stan  \n",
              "4137             Chris Evans, Tommy Lee Jones, Hugo Weaving, Hayley Atwell  \n",
              "7977         Chris Hemsworth, Benjamin Walker, Cillian Murphy, Ben Whishaw  \n",
              "14538      Chris Hemsworth, Charlize Theron, Emily Blunt, Jessica Chastain  \n",
              "9872    Chris Hemsworth, Tessa Thompson, Rebecca Ferguson, Kumail Nanjiani  \n",
              "5970       Chris Hemsworth, David Harbour, Derek Luke, Nico Pimparé Gaetan  \n",
              "15475    Chris Hemsworth, Natalie Portman, Anthony Hopkins, Tom Hiddleston  \n",
              "15477  Chris Hemsworth, Natalie Portman, Tom Hiddleston, Stellan Skarsgård  \n",
              "2936         Robert Downey Jr., Chris Hemsworth, Mark Ruffalo, Chris Evans  \n",
              "12504             Nathan Fillion, Gina Torres, Alan Tudyk, Morena Baccarin  "
            ]
          },
          "execution_count": 40,
          "metadata": {},
          "output_type": "execute_result"
        }
      ],
      "source": [
        "idx = 2934\n",
        "num_recommendations = 10\n",
        "input_title = df_cleaned_english.loc[idx]['movie_title']\n",
        "input_text = df_cleaned.loc[idx]['movie_combined']\n",
        "results, test_shingles = predict(idx, df_cleaned, permutations, num_recommendations, forest, k)\n",
        "movie_info = df_cleaned_english.loc[idx, ['movie_title', 'content_rating', 'genres', 'directors', 'actors']]\n",
        "print(\"Input Movie:\\n\", movie_info)\n",
        "print(f'\\nTop {num_recommendations} recommendations for [{input_title}]:')\n",
        "results "
      ]
    },
    {
      "cell_type": "code",
      "execution_count": 41,
      "metadata": {},
      "outputs": [
        {
          "data": {
            "text/plain": [
              "['actionadventure avenger',\n",
              " 'actionadventure avengersalt0',\n",
              " 'actionadventure avengersalt1',\n",
              " 'actionadventure age',\n",
              " 'actionadventure agesalt0',\n",
              " 'actionadventure ultron',\n",
              " 'actionadventure robertdowneyjr',\n",
              " 'actionadventure robertdowneyjrsalt0',\n",
              " 'actionadventure robertdowneyjrsalt1',\n",
              " 'actionadventure robertdowneyjrsalt2',\n",
              " 'actionadventure robertdowneyjrsalt3',\n",
              " 'actionadventure robertdowneyjrsalt4',\n",
              " 'actionadventure chrisevans',\n",
              " 'actionadventure chrisevanssalt0',\n",
              " 'actionadventure chrisevanssalt1',\n",
              " 'actionadventure chrisevanssalt2',\n",
              " 'actionadventure markruffalo',\n",
              " 'actionadventure markruffalosalt0',\n",
              " 'actionadventure markruffalosalt1',\n",
              " 'actionadventure chrishemsworth',\n",
              " 'actionadventure chrishemsworthsalt0',\n",
              " 'actionadventure josswhedon',\n",
              " 'actionadventure josswhedonsalt0',\n",
              " 'actionadventure josswhedonsalt1',\n",
              " 'actionadventure josswhedonsalt2',\n",
              " 'actionadventure josswhedonsalt3',\n",
              " 'actionadventure ultron',\n",
              " 'actionadventure maximoff',\n",
              " 'actionadventure peacekeeping',\n",
              " 'actionadventure reassemble',\n",
              " 'actionadventure newcomer',\n",
              " 'actionadventure pietro',\n",
              " 'actionadventure wanda',\n",
              " 'actionadventure avenger',\n",
              " 'actionadventure pg13',\n",
              " 'sciencefictionfantasy avenger',\n",
              " 'sciencefictionfantasy avengersalt0',\n",
              " 'sciencefictionfantasy avengersalt1',\n",
              " 'sciencefictionfantasy age',\n",
              " 'sciencefictionfantasy agesalt0',\n",
              " 'sciencefictionfantasy ultron',\n",
              " 'sciencefictionfantasy robertdowneyjr',\n",
              " 'sciencefictionfantasy robertdowneyjrsalt0',\n",
              " 'sciencefictionfantasy robertdowneyjrsalt1',\n",
              " 'sciencefictionfantasy robertdowneyjrsalt2',\n",
              " 'sciencefictionfantasy robertdowneyjrsalt3',\n",
              " 'sciencefictionfantasy robertdowneyjrsalt4',\n",
              " 'sciencefictionfantasy chrisevans',\n",
              " 'sciencefictionfantasy chrisevanssalt0',\n",
              " 'sciencefictionfantasy chrisevanssalt1',\n",
              " 'sciencefictionfantasy chrisevanssalt2',\n",
              " 'sciencefictionfantasy markruffalo',\n",
              " 'sciencefictionfantasy markruffalosalt0',\n",
              " 'sciencefictionfantasy markruffalosalt1',\n",
              " 'sciencefictionfantasy chrishemsworth',\n",
              " 'sciencefictionfantasy chrishemsworthsalt0',\n",
              " 'sciencefictionfantasy josswhedon',\n",
              " 'sciencefictionfantasy josswhedonsalt0',\n",
              " 'sciencefictionfantasy josswhedonsalt1',\n",
              " 'sciencefictionfantasy josswhedonsalt2',\n",
              " 'sciencefictionfantasy josswhedonsalt3',\n",
              " 'sciencefictionfantasy ultron',\n",
              " 'sciencefictionfantasy maximoff',\n",
              " 'sciencefictionfantasy peacekeeping',\n",
              " 'sciencefictionfantasy reassemble',\n",
              " 'sciencefictionfantasy newcomer',\n",
              " 'sciencefictionfantasy pietro',\n",
              " 'sciencefictionfantasy wanda',\n",
              " 'sciencefictionfantasy avenger',\n",
              " 'sciencefictionfantasy pg13']"
            ]
          },
          "execution_count": 41,
          "metadata": {},
          "output_type": "execute_result"
        }
      ],
      "source": [
        "test_shingles"
      ]
    }
  ],
  "metadata": {
    "colab": {
      "provenance": []
    },
    "kernelspec": {
      "display_name": "Python 3",
      "name": "python3"
    },
    "language_info": {
      "codemirror_mode": {
        "name": "ipython",
        "version": 3
      },
      "file_extension": ".py",
      "mimetype": "text/x-python",
      "name": "python",
      "nbconvert_exporter": "python",
      "pygments_lexer": "ipython3",
      "version": "3.11.11"
    }
  },
  "nbformat": 4,
  "nbformat_minor": 0
}
