{
  "cells": [
    {
      "cell_type": "code",
      "execution_count": 1,
      "metadata": {
        "colab": {
          "base_uri": "https://localhost:8080/"
        },
        "id": "d46_GilZeh53",
        "outputId": "48adf437-37df-44e4-9d1d-eddaf67c5607"
      },
      "outputs": [
        {
          "name": "stdout",
          "output_type": "stream",
          "text": [
            "Defaulting to user installation because normal site-packages is not writeable\n",
            "Requirement already satisfied: datasketch in c:\\users\\main\\appdata\\roaming\\python\\python312\\site-packages (1.6.5)\n",
            "Requirement already satisfied: numpy>=1.11 in c:\\users\\main\\appdata\\roaming\\python\\python312\\site-packages (from datasketch) (1.26.4)\n",
            "Requirement already satisfied: scipy>=1.0.0 in c:\\users\\main\\appdata\\roaming\\python\\python312\\site-packages (from datasketch) (1.11.4)\n",
            "CPU times: total: 0 ns\n",
            "Wall time: 1.19 s\n"
          ]
        },
        {
          "name": "stderr",
          "output_type": "stream",
          "text": [
            "\n",
            "[notice] A new release of pip is available: 25.0.1 -> 25.1\n",
            "[notice] To update, run: python.exe -m pip install --upgrade pip\n"
          ]
        }
      ],
      "source": [
        "%%time\n",
        "\n",
        "! pip install datasketch"
      ]
    },
    {
      "cell_type": "code",
      "execution_count": 2,
      "metadata": {
        "id": "fKQfFuzB7oZL"
      },
      "outputs": [],
      "source": [
        "import numpy as np\n",
        "import pandas as pd\n",
        "import time\n",
        "import re\n",
        "import string\n",
        "import nltk\n",
        "from nltk.corpus import stopwords\n",
        "from nltk.stem import WordNetLemmatizer\n",
        "from sklearn.model_selection import train_test_split\n",
        "from datasketch import MinHash\n",
        "from datasketch import MinHashLSHForest"
      ]
    },
    {
      "cell_type": "code",
      "execution_count": 3,
      "metadata": {
        "colab": {
          "base_uri": "https://localhost:8080/"
        },
        "id": "XPuMX5Xbo6IS",
        "outputId": "71b89a03-c4fe-4d8a-c707-a163e2825cf4"
      },
      "outputs": [
        {
          "name": "stderr",
          "output_type": "stream",
          "text": [
            "[nltk_data] Downloading package stopwords to\n",
            "[nltk_data]     C:\\Users\\Main\\AppData\\Roaming\\nltk_data...\n",
            "[nltk_data]   Package stopwords is already up-to-date!\n",
            "[nltk_data] Downloading package punkt to\n",
            "[nltk_data]     C:\\Users\\Main\\AppData\\Roaming\\nltk_data...\n",
            "[nltk_data]   Package punkt is already up-to-date!\n",
            "[nltk_data] Downloading package wordnet to\n",
            "[nltk_data]     C:\\Users\\Main\\AppData\\Roaming\\nltk_data...\n",
            "[nltk_data]   Package wordnet is already up-to-date!\n"
          ]
        },
        {
          "data": {
            "text/plain": [
              "True"
            ]
          },
          "execution_count": 3,
          "metadata": {},
          "output_type": "execute_result"
        }
      ],
      "source": [
        "nltk.download('stopwords')\n",
        "nltk.download('punkt')\n",
        "nltk.download('wordnet')"
      ]
    },
    {
      "cell_type": "code",
      "execution_count": 4,
      "metadata": {
        "id": "N2IbWcgoPVGz"
      },
      "outputs": [],
      "source": [
        "#Import the CSV file\n",
        "df = pd.read_csv(\"https://raw.githubusercontent.com/LaertXh/LLM-Project/refs/heads/main/Data/rotten_tomatoes_movies.csv\")"
      ]
    },
    {
      "cell_type": "code",
      "execution_count": 5,
      "metadata": {
        "colab": {
          "base_uri": "https://localhost:8080/"
        },
        "id": "IIfByPZOPrx0",
        "outputId": "60c28989-27a7-4137-d0a4-44e4a13a1365"
      },
      "outputs": [
        {
          "data": {
            "text/plain": [
              "(17712, 22)"
            ]
          },
          "execution_count": 5,
          "metadata": {},
          "output_type": "execute_result"
        }
      ],
      "source": [
        "df.shape"
      ]
    },
    {
      "cell_type": "code",
      "execution_count": 6,
      "metadata": {
        "colab": {
          "base_uri": "https://localhost:8080/",
          "height": 710
        },
        "id": "1ATVOnrpP133",
        "outputId": "3cec651d-bdb5-42c3-fe86-b1f534b61948"
      },
      "outputs": [
        {
          "data": {
            "text/html": [
              "<div>\n",
              "<style scoped>\n",
              "    .dataframe tbody tr th:only-of-type {\n",
              "        vertical-align: middle;\n",
              "    }\n",
              "\n",
              "    .dataframe tbody tr th {\n",
              "        vertical-align: top;\n",
              "    }\n",
              "\n",
              "    .dataframe thead th {\n",
              "        text-align: right;\n",
              "    }\n",
              "</style>\n",
              "<table border=\"1\" class=\"dataframe\">\n",
              "  <thead>\n",
              "    <tr style=\"text-align: right;\">\n",
              "      <th></th>\n",
              "      <th>rotten_tomatoes_link</th>\n",
              "      <th>movie_title</th>\n",
              "      <th>movie_info</th>\n",
              "      <th>critics_consensus</th>\n",
              "      <th>content_rating</th>\n",
              "      <th>genres</th>\n",
              "      <th>directors</th>\n",
              "      <th>authors</th>\n",
              "      <th>actors</th>\n",
              "      <th>original_release_date</th>\n",
              "      <th>...</th>\n",
              "      <th>production_company</th>\n",
              "      <th>tomatometer_status</th>\n",
              "      <th>tomatometer_rating</th>\n",
              "      <th>tomatometer_count</th>\n",
              "      <th>audience_status</th>\n",
              "      <th>audience_rating</th>\n",
              "      <th>audience_count</th>\n",
              "      <th>tomatometer_top_critics_count</th>\n",
              "      <th>tomatometer_fresh_critics_count</th>\n",
              "      <th>tomatometer_rotten_critics_count</th>\n",
              "    </tr>\n",
              "  </thead>\n",
              "  <tbody>\n",
              "    <tr>\n",
              "      <th>0</th>\n",
              "      <td>m/0814255</td>\n",
              "      <td>Percy Jackson &amp; the Olympians: The Lightning T...</td>\n",
              "      <td>Always trouble-prone, the life of teenager Per...</td>\n",
              "      <td>Though it may seem like just another Harry Pot...</td>\n",
              "      <td>PG</td>\n",
              "      <td>Action &amp; Adventure, Comedy, Drama, Science Fic...</td>\n",
              "      <td>Chris Columbus</td>\n",
              "      <td>Craig Titley, Chris Columbus, Rick Riordan</td>\n",
              "      <td>Logan Lerman, Brandon T. Jackson, Alexandra Da...</td>\n",
              "      <td>2010-02-12</td>\n",
              "      <td>...</td>\n",
              "      <td>20th Century Fox</td>\n",
              "      <td>Rotten</td>\n",
              "      <td>49.0</td>\n",
              "      <td>149.0</td>\n",
              "      <td>Spilled</td>\n",
              "      <td>53.0</td>\n",
              "      <td>254421.0</td>\n",
              "      <td>43</td>\n",
              "      <td>73</td>\n",
              "      <td>76</td>\n",
              "    </tr>\n",
              "    <tr>\n",
              "      <th>1</th>\n",
              "      <td>m/0878835</td>\n",
              "      <td>Please Give</td>\n",
              "      <td>Kate (Catherine Keener) and her husband Alex (...</td>\n",
              "      <td>Nicole Holofcener's newest might seem slight i...</td>\n",
              "      <td>R</td>\n",
              "      <td>Comedy</td>\n",
              "      <td>Nicole Holofcener</td>\n",
              "      <td>Nicole Holofcener</td>\n",
              "      <td>Catherine Keener, Amanda Peet, Oliver Platt, R...</td>\n",
              "      <td>2010-04-30</td>\n",
              "      <td>...</td>\n",
              "      <td>Sony Pictures Classics</td>\n",
              "      <td>Certified-Fresh</td>\n",
              "      <td>87.0</td>\n",
              "      <td>142.0</td>\n",
              "      <td>Upright</td>\n",
              "      <td>64.0</td>\n",
              "      <td>11574.0</td>\n",
              "      <td>44</td>\n",
              "      <td>123</td>\n",
              "      <td>19</td>\n",
              "    </tr>\n",
              "    <tr>\n",
              "      <th>2</th>\n",
              "      <td>m/10</td>\n",
              "      <td>10</td>\n",
              "      <td>A successful, middle-aged Hollywood songwriter...</td>\n",
              "      <td>Blake Edwards' bawdy comedy may not score a pe...</td>\n",
              "      <td>R</td>\n",
              "      <td>Comedy, Romance</td>\n",
              "      <td>Blake Edwards</td>\n",
              "      <td>Blake Edwards</td>\n",
              "      <td>Dudley Moore, Bo Derek, Julie Andrews, Robert ...</td>\n",
              "      <td>1979-10-05</td>\n",
              "      <td>...</td>\n",
              "      <td>Waner Bros.</td>\n",
              "      <td>Fresh</td>\n",
              "      <td>67.0</td>\n",
              "      <td>24.0</td>\n",
              "      <td>Spilled</td>\n",
              "      <td>53.0</td>\n",
              "      <td>14684.0</td>\n",
              "      <td>2</td>\n",
              "      <td>16</td>\n",
              "      <td>8</td>\n",
              "    </tr>\n",
              "    <tr>\n",
              "      <th>3</th>\n",
              "      <td>m/1000013-12_angry_men</td>\n",
              "      <td>12 Angry Men (Twelve Angry Men)</td>\n",
              "      <td>Following the closing arguments in a murder tr...</td>\n",
              "      <td>Sidney Lumet's feature debut is a superbly wri...</td>\n",
              "      <td>NR</td>\n",
              "      <td>Classics, Drama</td>\n",
              "      <td>Sidney Lumet</td>\n",
              "      <td>Reginald Rose</td>\n",
              "      <td>Martin Balsam, John Fiedler, Lee J. Cobb, E.G....</td>\n",
              "      <td>1957-04-13</td>\n",
              "      <td>...</td>\n",
              "      <td>Criterion Collection</td>\n",
              "      <td>Certified-Fresh</td>\n",
              "      <td>100.0</td>\n",
              "      <td>54.0</td>\n",
              "      <td>Upright</td>\n",
              "      <td>97.0</td>\n",
              "      <td>105386.0</td>\n",
              "      <td>6</td>\n",
              "      <td>54</td>\n",
              "      <td>0</td>\n",
              "    </tr>\n",
              "    <tr>\n",
              "      <th>4</th>\n",
              "      <td>m/1000079-20000_leagues_under_the_sea</td>\n",
              "      <td>20,000 Leagues Under The Sea</td>\n",
              "      <td>In 1866, Professor Pierre M. Aronnax (Paul Luk...</td>\n",
              "      <td>One of Disney's finest live-action adventures,...</td>\n",
              "      <td>G</td>\n",
              "      <td>Action &amp; Adventure, Drama, Kids &amp; Family</td>\n",
              "      <td>Richard Fleischer</td>\n",
              "      <td>Earl Felton</td>\n",
              "      <td>James Mason, Kirk Douglas, Paul Lukas, Peter L...</td>\n",
              "      <td>1954-01-01</td>\n",
              "      <td>...</td>\n",
              "      <td>Disney</td>\n",
              "      <td>Fresh</td>\n",
              "      <td>89.0</td>\n",
              "      <td>27.0</td>\n",
              "      <td>Upright</td>\n",
              "      <td>74.0</td>\n",
              "      <td>68918.0</td>\n",
              "      <td>5</td>\n",
              "      <td>24</td>\n",
              "      <td>3</td>\n",
              "    </tr>\n",
              "  </tbody>\n",
              "</table>\n",
              "<p>5 rows × 22 columns</p>\n",
              "</div>"
            ],
            "text/plain": [
              "                    rotten_tomatoes_link  \\\n",
              "0                              m/0814255   \n",
              "1                              m/0878835   \n",
              "2                                   m/10   \n",
              "3                 m/1000013-12_angry_men   \n",
              "4  m/1000079-20000_leagues_under_the_sea   \n",
              "\n",
              "                                         movie_title  \\\n",
              "0  Percy Jackson & the Olympians: The Lightning T...   \n",
              "1                                        Please Give   \n",
              "2                                                 10   \n",
              "3                    12 Angry Men (Twelve Angry Men)   \n",
              "4                       20,000 Leagues Under The Sea   \n",
              "\n",
              "                                          movie_info  \\\n",
              "0  Always trouble-prone, the life of teenager Per...   \n",
              "1  Kate (Catherine Keener) and her husband Alex (...   \n",
              "2  A successful, middle-aged Hollywood songwriter...   \n",
              "3  Following the closing arguments in a murder tr...   \n",
              "4  In 1866, Professor Pierre M. Aronnax (Paul Luk...   \n",
              "\n",
              "                                   critics_consensus content_rating  \\\n",
              "0  Though it may seem like just another Harry Pot...             PG   \n",
              "1  Nicole Holofcener's newest might seem slight i...              R   \n",
              "2  Blake Edwards' bawdy comedy may not score a pe...              R   \n",
              "3  Sidney Lumet's feature debut is a superbly wri...             NR   \n",
              "4  One of Disney's finest live-action adventures,...              G   \n",
              "\n",
              "                                              genres          directors  \\\n",
              "0  Action & Adventure, Comedy, Drama, Science Fic...     Chris Columbus   \n",
              "1                                             Comedy  Nicole Holofcener   \n",
              "2                                    Comedy, Romance      Blake Edwards   \n",
              "3                                    Classics, Drama       Sidney Lumet   \n",
              "4           Action & Adventure, Drama, Kids & Family  Richard Fleischer   \n",
              "\n",
              "                                      authors  \\\n",
              "0  Craig Titley, Chris Columbus, Rick Riordan   \n",
              "1                           Nicole Holofcener   \n",
              "2                               Blake Edwards   \n",
              "3                               Reginald Rose   \n",
              "4                                 Earl Felton   \n",
              "\n",
              "                                              actors original_release_date  \\\n",
              "0  Logan Lerman, Brandon T. Jackson, Alexandra Da...            2010-02-12   \n",
              "1  Catherine Keener, Amanda Peet, Oliver Platt, R...            2010-04-30   \n",
              "2  Dudley Moore, Bo Derek, Julie Andrews, Robert ...            1979-10-05   \n",
              "3  Martin Balsam, John Fiedler, Lee J. Cobb, E.G....            1957-04-13   \n",
              "4  James Mason, Kirk Douglas, Paul Lukas, Peter L...            1954-01-01   \n",
              "\n",
              "   ...      production_company  tomatometer_status tomatometer_rating  \\\n",
              "0  ...        20th Century Fox              Rotten               49.0   \n",
              "1  ...  Sony Pictures Classics     Certified-Fresh               87.0   \n",
              "2  ...             Waner Bros.               Fresh               67.0   \n",
              "3  ...    Criterion Collection     Certified-Fresh              100.0   \n",
              "4  ...                  Disney               Fresh               89.0   \n",
              "\n",
              "  tomatometer_count  audience_status  audience_rating audience_count  \\\n",
              "0             149.0          Spilled             53.0       254421.0   \n",
              "1             142.0          Upright             64.0        11574.0   \n",
              "2              24.0          Spilled             53.0        14684.0   \n",
              "3              54.0          Upright             97.0       105386.0   \n",
              "4              27.0          Upright             74.0        68918.0   \n",
              "\n",
              "   tomatometer_top_critics_count  tomatometer_fresh_critics_count  \\\n",
              "0                             43                               73   \n",
              "1                             44                              123   \n",
              "2                              2                               16   \n",
              "3                              6                               54   \n",
              "4                              5                               24   \n",
              "\n",
              "   tomatometer_rotten_critics_count  \n",
              "0                                76  \n",
              "1                                19  \n",
              "2                                 8  \n",
              "3                                 0  \n",
              "4                                 3  \n",
              "\n",
              "[5 rows x 22 columns]"
            ]
          },
          "execution_count": 6,
          "metadata": {},
          "output_type": "execute_result"
        }
      ],
      "source": [
        "df.head()"
      ]
    },
    {
      "cell_type": "code",
      "execution_count": 7,
      "metadata": {
        "id": "IKYVk2gLeFk4"
      },
      "outputs": [],
      "source": [
        "#DATASET CLEANING"
      ]
    },
    {
      "cell_type": "code",
      "execution_count": 8,
      "metadata": {
        "id": "D6TYspTXQBVD"
      },
      "outputs": [],
      "source": [
        "#Drop unneeded columns\n",
        "df.drop(['rotten_tomatoes_link', 'original_release_date', 'streaming_release_date', 'runtime', 'authors','production_company', 'tomatometer_status', 'tomatometer_rating', 'tomatometer_count', 'audience_status', 'audience_rating', 'audience_count', 'tomatometer_top_critics_count', 'tomatometer_fresh_critics_count', 'tomatometer_rotten_critics_count'], axis=1, inplace = True)\n"
      ]
    },
    {
      "cell_type": "code",
      "execution_count": 9,
      "metadata": {
        "colab": {
          "base_uri": "https://localhost:8080/",
          "height": 283
        },
        "id": "TQsAofysSQhl",
        "outputId": "284933af-6e6a-4704-f000-c2fa567a0766"
      },
      "outputs": [
        {
          "data": {
            "text/html": [
              "<div>\n",
              "<style scoped>\n",
              "    .dataframe tbody tr th:only-of-type {\n",
              "        vertical-align: middle;\n",
              "    }\n",
              "\n",
              "    .dataframe tbody tr th {\n",
              "        vertical-align: top;\n",
              "    }\n",
              "\n",
              "    .dataframe thead th {\n",
              "        text-align: right;\n",
              "    }\n",
              "</style>\n",
              "<table border=\"1\" class=\"dataframe\">\n",
              "  <thead>\n",
              "    <tr style=\"text-align: right;\">\n",
              "      <th></th>\n",
              "      <th>movie_title</th>\n",
              "      <th>movie_info</th>\n",
              "      <th>critics_consensus</th>\n",
              "      <th>content_rating</th>\n",
              "      <th>genres</th>\n",
              "      <th>directors</th>\n",
              "      <th>actors</th>\n",
              "    </tr>\n",
              "  </thead>\n",
              "  <tbody>\n",
              "    <tr>\n",
              "      <th>0</th>\n",
              "      <td>Percy Jackson &amp; the Olympians: The Lightning T...</td>\n",
              "      <td>Always trouble-prone, the life of teenager Per...</td>\n",
              "      <td>Though it may seem like just another Harry Pot...</td>\n",
              "      <td>PG</td>\n",
              "      <td>Action &amp; Adventure, Comedy, Drama, Science Fic...</td>\n",
              "      <td>Chris Columbus</td>\n",
              "      <td>Logan Lerman, Brandon T. Jackson, Alexandra Da...</td>\n",
              "    </tr>\n",
              "    <tr>\n",
              "      <th>1</th>\n",
              "      <td>Please Give</td>\n",
              "      <td>Kate (Catherine Keener) and her husband Alex (...</td>\n",
              "      <td>Nicole Holofcener's newest might seem slight i...</td>\n",
              "      <td>R</td>\n",
              "      <td>Comedy</td>\n",
              "      <td>Nicole Holofcener</td>\n",
              "      <td>Catherine Keener, Amanda Peet, Oliver Platt, R...</td>\n",
              "    </tr>\n",
              "    <tr>\n",
              "      <th>2</th>\n",
              "      <td>10</td>\n",
              "      <td>A successful, middle-aged Hollywood songwriter...</td>\n",
              "      <td>Blake Edwards' bawdy comedy may not score a pe...</td>\n",
              "      <td>R</td>\n",
              "      <td>Comedy, Romance</td>\n",
              "      <td>Blake Edwards</td>\n",
              "      <td>Dudley Moore, Bo Derek, Julie Andrews, Robert ...</td>\n",
              "    </tr>\n",
              "    <tr>\n",
              "      <th>3</th>\n",
              "      <td>12 Angry Men (Twelve Angry Men)</td>\n",
              "      <td>Following the closing arguments in a murder tr...</td>\n",
              "      <td>Sidney Lumet's feature debut is a superbly wri...</td>\n",
              "      <td>NR</td>\n",
              "      <td>Classics, Drama</td>\n",
              "      <td>Sidney Lumet</td>\n",
              "      <td>Martin Balsam, John Fiedler, Lee J. Cobb, E.G....</td>\n",
              "    </tr>\n",
              "    <tr>\n",
              "      <th>4</th>\n",
              "      <td>20,000 Leagues Under The Sea</td>\n",
              "      <td>In 1866, Professor Pierre M. Aronnax (Paul Luk...</td>\n",
              "      <td>One of Disney's finest live-action adventures,...</td>\n",
              "      <td>G</td>\n",
              "      <td>Action &amp; Adventure, Drama, Kids &amp; Family</td>\n",
              "      <td>Richard Fleischer</td>\n",
              "      <td>James Mason, Kirk Douglas, Paul Lukas, Peter L...</td>\n",
              "    </tr>\n",
              "  </tbody>\n",
              "</table>\n",
              "</div>"
            ],
            "text/plain": [
              "                                         movie_title  \\\n",
              "0  Percy Jackson & the Olympians: The Lightning T...   \n",
              "1                                        Please Give   \n",
              "2                                                 10   \n",
              "3                    12 Angry Men (Twelve Angry Men)   \n",
              "4                       20,000 Leagues Under The Sea   \n",
              "\n",
              "                                          movie_info  \\\n",
              "0  Always trouble-prone, the life of teenager Per...   \n",
              "1  Kate (Catherine Keener) and her husband Alex (...   \n",
              "2  A successful, middle-aged Hollywood songwriter...   \n",
              "3  Following the closing arguments in a murder tr...   \n",
              "4  In 1866, Professor Pierre M. Aronnax (Paul Luk...   \n",
              "\n",
              "                                   critics_consensus content_rating  \\\n",
              "0  Though it may seem like just another Harry Pot...             PG   \n",
              "1  Nicole Holofcener's newest might seem slight i...              R   \n",
              "2  Blake Edwards' bawdy comedy may not score a pe...              R   \n",
              "3  Sidney Lumet's feature debut is a superbly wri...             NR   \n",
              "4  One of Disney's finest live-action adventures,...              G   \n",
              "\n",
              "                                              genres          directors  \\\n",
              "0  Action & Adventure, Comedy, Drama, Science Fic...     Chris Columbus   \n",
              "1                                             Comedy  Nicole Holofcener   \n",
              "2                                    Comedy, Romance      Blake Edwards   \n",
              "3                                    Classics, Drama       Sidney Lumet   \n",
              "4           Action & Adventure, Drama, Kids & Family  Richard Fleischer   \n",
              "\n",
              "                                              actors  \n",
              "0  Logan Lerman, Brandon T. Jackson, Alexandra Da...  \n",
              "1  Catherine Keener, Amanda Peet, Oliver Platt, R...  \n",
              "2  Dudley Moore, Bo Derek, Julie Andrews, Robert ...  \n",
              "3  Martin Balsam, John Fiedler, Lee J. Cobb, E.G....  \n",
              "4  James Mason, Kirk Douglas, Paul Lukas, Peter L...  "
            ]
          },
          "execution_count": 9,
          "metadata": {},
          "output_type": "execute_result"
        }
      ],
      "source": [
        "df.head()"
      ]
    },
    {
      "cell_type": "code",
      "execution_count": 10,
      "metadata": {
        "id": "oqlZQnwxYAd4"
      },
      "outputs": [],
      "source": [
        "#Limit the number of directors to the first listed director\n",
        "df['directors'] = df['directors'].str.split(',').str[0]"
      ]
    },
    {
      "cell_type": "code",
      "execution_count": 11,
      "metadata": {
        "colab": {
          "base_uri": "https://localhost:8080/",
          "height": 234
        },
        "id": "imJtaJ6QXk6D",
        "outputId": "cbe2e7b6-7064-4cde-abab-486163528cf7"
      },
      "outputs": [
        {
          "data": {
            "text/plain": [
              "0       Chris Columbus\n",
              "1    Nicole Holofcener\n",
              "2        Blake Edwards\n",
              "3         Sidney Lumet\n",
              "4    Richard Fleischer\n",
              "Name: directors, dtype: object"
            ]
          },
          "execution_count": 11,
          "metadata": {},
          "output_type": "execute_result"
        }
      ],
      "source": [
        "df['directors'].head()"
      ]
    },
    {
      "cell_type": "code",
      "execution_count": 12,
      "metadata": {
        "id": "RNVtkOMdYzhn"
      },
      "outputs": [],
      "source": [
        "#Limit the number of actors to the first four listed actors\n",
        "df['actors'] = df['actors'].str.split(',').str[:4].str.join(',')"
      ]
    },
    {
      "cell_type": "code",
      "execution_count": 13,
      "metadata": {
        "colab": {
          "base_uri": "https://localhost:8080/",
          "height": 234
        },
        "id": "bscBBWA9YTNW",
        "outputId": "db7f16a2-b1c2-4c92-b9fa-111c1074865d"
      },
      "outputs": [
        {
          "data": {
            "text/plain": [
              "0    Logan Lerman, Brandon T. Jackson, Alexandra Da...\n",
              "1    Catherine Keener, Amanda Peet, Oliver Platt, R...\n",
              "2    Dudley Moore, Bo Derek, Julie Andrews, Robert ...\n",
              "3    Martin Balsam, John Fiedler, Lee J. Cobb, E.G....\n",
              "4    James Mason, Kirk Douglas, Paul Lukas, Peter L...\n",
              "Name: actors, dtype: object"
            ]
          },
          "execution_count": 13,
          "metadata": {},
          "output_type": "execute_result"
        }
      ],
      "source": [
        "df['actors'].head()"
      ]
    },
    {
      "cell_type": "code",
      "execution_count": 14,
      "metadata": {
        "colab": {
          "base_uri": "https://localhost:8080/",
          "height": 283
        },
        "id": "UWcN20nYYTKw",
        "outputId": "3b2c3b12-0b84-42f5-8a3e-56965278ee16"
      },
      "outputs": [
        {
          "data": {
            "text/html": [
              "<div>\n",
              "<style scoped>\n",
              "    .dataframe tbody tr th:only-of-type {\n",
              "        vertical-align: middle;\n",
              "    }\n",
              "\n",
              "    .dataframe tbody tr th {\n",
              "        vertical-align: top;\n",
              "    }\n",
              "\n",
              "    .dataframe thead th {\n",
              "        text-align: right;\n",
              "    }\n",
              "</style>\n",
              "<table border=\"1\" class=\"dataframe\">\n",
              "  <thead>\n",
              "    <tr style=\"text-align: right;\">\n",
              "      <th></th>\n",
              "      <th>movie_title</th>\n",
              "      <th>movie_info</th>\n",
              "      <th>critics_consensus</th>\n",
              "      <th>content_rating</th>\n",
              "      <th>genres</th>\n",
              "      <th>directors</th>\n",
              "      <th>actors</th>\n",
              "    </tr>\n",
              "  </thead>\n",
              "  <tbody>\n",
              "    <tr>\n",
              "      <th>0</th>\n",
              "      <td>Percy Jackson &amp; the Olympians: The Lightning T...</td>\n",
              "      <td>Always trouble-prone, the life of teenager Per...</td>\n",
              "      <td>Though it may seem like just another Harry Pot...</td>\n",
              "      <td>PG</td>\n",
              "      <td>Action &amp; Adventure, Comedy, Drama, Science Fic...</td>\n",
              "      <td>Chris Columbus</td>\n",
              "      <td>Logan Lerman, Brandon T. Jackson, Alexandra Da...</td>\n",
              "    </tr>\n",
              "    <tr>\n",
              "      <th>1</th>\n",
              "      <td>Please Give</td>\n",
              "      <td>Kate (Catherine Keener) and her husband Alex (...</td>\n",
              "      <td>Nicole Holofcener's newest might seem slight i...</td>\n",
              "      <td>R</td>\n",
              "      <td>Comedy</td>\n",
              "      <td>Nicole Holofcener</td>\n",
              "      <td>Catherine Keener, Amanda Peet, Oliver Platt, R...</td>\n",
              "    </tr>\n",
              "    <tr>\n",
              "      <th>2</th>\n",
              "      <td>10</td>\n",
              "      <td>A successful, middle-aged Hollywood songwriter...</td>\n",
              "      <td>Blake Edwards' bawdy comedy may not score a pe...</td>\n",
              "      <td>R</td>\n",
              "      <td>Comedy, Romance</td>\n",
              "      <td>Blake Edwards</td>\n",
              "      <td>Dudley Moore, Bo Derek, Julie Andrews, Robert ...</td>\n",
              "    </tr>\n",
              "    <tr>\n",
              "      <th>3</th>\n",
              "      <td>12 Angry Men (Twelve Angry Men)</td>\n",
              "      <td>Following the closing arguments in a murder tr...</td>\n",
              "      <td>Sidney Lumet's feature debut is a superbly wri...</td>\n",
              "      <td>NR</td>\n",
              "      <td>Classics, Drama</td>\n",
              "      <td>Sidney Lumet</td>\n",
              "      <td>Martin Balsam, John Fiedler, Lee J. Cobb, E.G....</td>\n",
              "    </tr>\n",
              "    <tr>\n",
              "      <th>4</th>\n",
              "      <td>20,000 Leagues Under The Sea</td>\n",
              "      <td>In 1866, Professor Pierre M. Aronnax (Paul Luk...</td>\n",
              "      <td>One of Disney's finest live-action adventures,...</td>\n",
              "      <td>G</td>\n",
              "      <td>Action &amp; Adventure, Drama, Kids &amp; Family</td>\n",
              "      <td>Richard Fleischer</td>\n",
              "      <td>James Mason, Kirk Douglas, Paul Lukas, Peter L...</td>\n",
              "    </tr>\n",
              "  </tbody>\n",
              "</table>\n",
              "</div>"
            ],
            "text/plain": [
              "                                         movie_title  \\\n",
              "0  Percy Jackson & the Olympians: The Lightning T...   \n",
              "1                                        Please Give   \n",
              "2                                                 10   \n",
              "3                    12 Angry Men (Twelve Angry Men)   \n",
              "4                       20,000 Leagues Under The Sea   \n",
              "\n",
              "                                          movie_info  \\\n",
              "0  Always trouble-prone, the life of teenager Per...   \n",
              "1  Kate (Catherine Keener) and her husband Alex (...   \n",
              "2  A successful, middle-aged Hollywood songwriter...   \n",
              "3  Following the closing arguments in a murder tr...   \n",
              "4  In 1866, Professor Pierre M. Aronnax (Paul Luk...   \n",
              "\n",
              "                                   critics_consensus content_rating  \\\n",
              "0  Though it may seem like just another Harry Pot...             PG   \n",
              "1  Nicole Holofcener's newest might seem slight i...              R   \n",
              "2  Blake Edwards' bawdy comedy may not score a pe...              R   \n",
              "3  Sidney Lumet's feature debut is a superbly wri...             NR   \n",
              "4  One of Disney's finest live-action adventures,...              G   \n",
              "\n",
              "                                              genres          directors  \\\n",
              "0  Action & Adventure, Comedy, Drama, Science Fic...     Chris Columbus   \n",
              "1                                             Comedy  Nicole Holofcener   \n",
              "2                                    Comedy, Romance      Blake Edwards   \n",
              "3                                    Classics, Drama       Sidney Lumet   \n",
              "4           Action & Adventure, Drama, Kids & Family  Richard Fleischer   \n",
              "\n",
              "                                              actors  \n",
              "0  Logan Lerman, Brandon T. Jackson, Alexandra Da...  \n",
              "1  Catherine Keener, Amanda Peet, Oliver Platt, R...  \n",
              "2  Dudley Moore, Bo Derek, Julie Andrews, Robert ...  \n",
              "3  Martin Balsam, John Fiedler, Lee J. Cobb, E.G....  \n",
              "4  James Mason, Kirk Douglas, Paul Lukas, Peter L...  "
            ]
          },
          "execution_count": 14,
          "metadata": {},
          "output_type": "execute_result"
        }
      ],
      "source": [
        "df.head()"
      ]
    },
    {
      "cell_type": "code",
      "execution_count": 15,
      "metadata": {
        "id": "iytiGFCxbrDy"
      },
      "outputs": [],
      "source": [
        "#Check for duplicate rows\n",
        "duplicate_rows = df[df.duplicated()]"
      ]
    },
    {
      "cell_type": "code",
      "execution_count": 16,
      "metadata": {
        "colab": {
          "base_uri": "https://localhost:8080/"
        },
        "id": "KfbgYrslbq8u",
        "outputId": "99fcf551-fe7f-4f3c-8013-4bdeddec798a"
      },
      "outputs": [
        {
          "name": "stdout",
          "output_type": "stream",
          "text": [
            "Empty DataFrame\n",
            "Columns: [movie_title, movie_info, critics_consensus, content_rating, genres, directors, actors]\n",
            "Index: []\n"
          ]
        }
      ],
      "source": [
        "print(duplicate_rows)"
      ]
    },
    {
      "cell_type": "code",
      "execution_count": 17,
      "metadata": {
        "colab": {
          "base_uri": "https://localhost:8080/",
          "height": 294
        },
        "id": "c1Gt44v4T4lf",
        "outputId": "6844ae41-f5d0-4406-be25-82700eacd0dc"
      },
      "outputs": [
        {
          "data": {
            "text/plain": [
              "movie_title             0\n",
              "movie_info            321\n",
              "critics_consensus    8578\n",
              "content_rating          0\n",
              "genres                 19\n",
              "directors             194\n",
              "actors                352\n",
              "dtype: int64"
            ]
          },
          "execution_count": 17,
          "metadata": {},
          "output_type": "execute_result"
        }
      ],
      "source": [
        "#Identify null values\n",
        "df.isnull().sum()"
      ]
    },
    {
      "cell_type": "code",
      "execution_count": 18,
      "metadata": {
        "id": "NsoguDQ1UzrY"
      },
      "outputs": [],
      "source": [
        "#Drop rows with null values\n",
        "df_cleaned = df.dropna(subset=['movie_info', 'genres', 'directors', 'actors'])"
      ]
    },
    {
      "cell_type": "code",
      "execution_count": 19,
      "metadata": {
        "colab": {
          "base_uri": "https://localhost:8080/"
        },
        "id": "IeSGENpmhXZm",
        "outputId": "89681447-8db2-42ba-ff26-a5a21e6b23e8"
      },
      "outputs": [
        {
          "name": "stderr",
          "output_type": "stream",
          "text": [
            "C:\\Users\\Main\\AppData\\Local\\Temp\\ipykernel_22868\\3888570728.py:2: SettingWithCopyWarning: \n",
            "A value is trying to be set on a copy of a slice from a DataFrame\n",
            "\n",
            "See the caveats in the documentation: https://pandas.pydata.org/pandas-docs/stable/user_guide/indexing.html#returning-a-view-versus-a-copy\n",
            "  df_cleaned.drop(['critics_consensus'], axis=1, inplace = True)\n"
          ]
        }
      ],
      "source": [
        "#Drop the critics_consensus column\n",
        "df_cleaned.drop(['critics_consensus'], axis=1, inplace = True)"
      ]
    },
    {
      "cell_type": "code",
      "execution_count": 20,
      "metadata": {
        "colab": {
          "base_uri": "https://localhost:8080/",
          "height": 264
        },
        "id": "skkeHvyWVPgz",
        "outputId": "97caa07c-c7ce-4215-c3b8-b036df148322"
      },
      "outputs": [
        {
          "data": {
            "text/plain": [
              "movie_title       0\n",
              "movie_info        0\n",
              "content_rating    0\n",
              "genres            0\n",
              "directors         0\n",
              "actors            0\n",
              "dtype: int64"
            ]
          },
          "execution_count": 20,
          "metadata": {},
          "output_type": "execute_result"
        }
      ],
      "source": [
        "df_cleaned.isnull().sum()"
      ]
    },
    {
      "cell_type": "code",
      "execution_count": 21,
      "metadata": {
        "colab": {
          "base_uri": "https://localhost:8080/",
          "height": 283
        },
        "id": "4gHa6rutVcbM",
        "outputId": "9347f29f-4d5c-4f9a-e709-f7968eac61bd"
      },
      "outputs": [
        {
          "data": {
            "text/html": [
              "<div>\n",
              "<style scoped>\n",
              "    .dataframe tbody tr th:only-of-type {\n",
              "        vertical-align: middle;\n",
              "    }\n",
              "\n",
              "    .dataframe tbody tr th {\n",
              "        vertical-align: top;\n",
              "    }\n",
              "\n",
              "    .dataframe thead th {\n",
              "        text-align: right;\n",
              "    }\n",
              "</style>\n",
              "<table border=\"1\" class=\"dataframe\">\n",
              "  <thead>\n",
              "    <tr style=\"text-align: right;\">\n",
              "      <th></th>\n",
              "      <th>movie_title</th>\n",
              "      <th>movie_info</th>\n",
              "      <th>content_rating</th>\n",
              "      <th>genres</th>\n",
              "      <th>directors</th>\n",
              "      <th>actors</th>\n",
              "    </tr>\n",
              "  </thead>\n",
              "  <tbody>\n",
              "    <tr>\n",
              "      <th>0</th>\n",
              "      <td>Percy Jackson &amp; the Olympians: The Lightning T...</td>\n",
              "      <td>Always trouble-prone, the life of teenager Per...</td>\n",
              "      <td>PG</td>\n",
              "      <td>Action &amp; Adventure, Comedy, Drama, Science Fic...</td>\n",
              "      <td>Chris Columbus</td>\n",
              "      <td>Logan Lerman, Brandon T. Jackson, Alexandra Da...</td>\n",
              "    </tr>\n",
              "    <tr>\n",
              "      <th>1</th>\n",
              "      <td>Please Give</td>\n",
              "      <td>Kate (Catherine Keener) and her husband Alex (...</td>\n",
              "      <td>R</td>\n",
              "      <td>Comedy</td>\n",
              "      <td>Nicole Holofcener</td>\n",
              "      <td>Catherine Keener, Amanda Peet, Oliver Platt, R...</td>\n",
              "    </tr>\n",
              "    <tr>\n",
              "      <th>2</th>\n",
              "      <td>10</td>\n",
              "      <td>A successful, middle-aged Hollywood songwriter...</td>\n",
              "      <td>R</td>\n",
              "      <td>Comedy, Romance</td>\n",
              "      <td>Blake Edwards</td>\n",
              "      <td>Dudley Moore, Bo Derek, Julie Andrews, Robert ...</td>\n",
              "    </tr>\n",
              "    <tr>\n",
              "      <th>3</th>\n",
              "      <td>12 Angry Men (Twelve Angry Men)</td>\n",
              "      <td>Following the closing arguments in a murder tr...</td>\n",
              "      <td>NR</td>\n",
              "      <td>Classics, Drama</td>\n",
              "      <td>Sidney Lumet</td>\n",
              "      <td>Martin Balsam, John Fiedler, Lee J. Cobb, E.G....</td>\n",
              "    </tr>\n",
              "    <tr>\n",
              "      <th>4</th>\n",
              "      <td>20,000 Leagues Under The Sea</td>\n",
              "      <td>In 1866, Professor Pierre M. Aronnax (Paul Luk...</td>\n",
              "      <td>G</td>\n",
              "      <td>Action &amp; Adventure, Drama, Kids &amp; Family</td>\n",
              "      <td>Richard Fleischer</td>\n",
              "      <td>James Mason, Kirk Douglas, Paul Lukas, Peter L...</td>\n",
              "    </tr>\n",
              "  </tbody>\n",
              "</table>\n",
              "</div>"
            ],
            "text/plain": [
              "                                         movie_title  \\\n",
              "0  Percy Jackson & the Olympians: The Lightning T...   \n",
              "1                                        Please Give   \n",
              "2                                                 10   \n",
              "3                    12 Angry Men (Twelve Angry Men)   \n",
              "4                       20,000 Leagues Under The Sea   \n",
              "\n",
              "                                          movie_info content_rating  \\\n",
              "0  Always trouble-prone, the life of teenager Per...             PG   \n",
              "1  Kate (Catherine Keener) and her husband Alex (...              R   \n",
              "2  A successful, middle-aged Hollywood songwriter...              R   \n",
              "3  Following the closing arguments in a murder tr...             NR   \n",
              "4  In 1866, Professor Pierre M. Aronnax (Paul Luk...              G   \n",
              "\n",
              "                                              genres          directors  \\\n",
              "0  Action & Adventure, Comedy, Drama, Science Fic...     Chris Columbus   \n",
              "1                                             Comedy  Nicole Holofcener   \n",
              "2                                    Comedy, Romance      Blake Edwards   \n",
              "3                                    Classics, Drama       Sidney Lumet   \n",
              "4           Action & Adventure, Drama, Kids & Family  Richard Fleischer   \n",
              "\n",
              "                                              actors  \n",
              "0  Logan Lerman, Brandon T. Jackson, Alexandra Da...  \n",
              "1  Catherine Keener, Amanda Peet, Oliver Platt, R...  \n",
              "2  Dudley Moore, Bo Derek, Julie Andrews, Robert ...  \n",
              "3  Martin Balsam, John Fiedler, Lee J. Cobb, E.G....  \n",
              "4  James Mason, Kirk Douglas, Paul Lukas, Peter L...  "
            ]
          },
          "execution_count": 21,
          "metadata": {},
          "output_type": "execute_result"
        }
      ],
      "source": [
        "df_cleaned.head()"
      ]
    },
    {
      "cell_type": "code",
      "execution_count": 22,
      "metadata": {
        "id": "yltf8XrxeKr-"
      },
      "outputs": [],
      "source": [
        "#LSH CLEANING"
      ]
    },
    {
      "cell_type": "code",
      "execution_count": 23,
      "metadata": {
        "id": "vC5HevYTeKld"
      },
      "outputs": [],
      "source": [
        "#MOVIE_INFO CLEANING"
      ]
    },
    {
      "cell_type": "code",
      "execution_count": 24,
      "metadata": {
        "id": "UPVBSdzlfYBf"
      },
      "outputs": [],
      "source": [
        "pd.set_option('display.max_colwidth', None)"
      ]
    },
    {
      "cell_type": "code",
      "execution_count": 25,
      "metadata": {
        "colab": {
          "base_uri": "https://localhost:8080/",
          "height": 382
        },
        "id": "4-QYHV_8fbA9",
        "outputId": "82fec8fa-e9e4-4dde-8908-d66e53b51bda"
      },
      "outputs": [
        {
          "data": {
            "text/plain": [
              "0                                       Always trouble-prone, the life of teenager Percy Jackson (Logan Lerman) gets a lot more complicated when he learns he's the son of the Greek god Poseidon. At a training ground for the children of deities, Percy learns to harness his divine powers and prepare for the adventure of a lifetime: he must prevent a feud among the Olympians from erupting into a devastating war on Earth, and rescue his mother from the clutches of Hades, god of the underworld.\n",
              "1       Kate (Catherine Keener) and her husband Alex (Oliver Platt) are wealthy New Yorkers who prowl estate sales and make a tidy profit reselling items they bought cheaply. They buy the apartment next door and plan to remodel just as soon as its current occupant, a cranky old woman, dies. Kate is troubled by the way she and her husband earn a living, and tries to assuage her guilt by befriending her tenant and the woman's granddaughters, but her overtures lead to unexpected consequences.\n",
              "2                                                                                                                                                                                                                      A successful, middle-aged Hollywood songwriter falls hopelessly in love with the woman of his dreams, and even follows the girl and her new husband to their Mexican honeymoon resort. While his behavior seems sure to land him in trouble, out of the blue fate plays into his hands.\n",
              "3                                           Following the closing arguments in a murder trial, the 12 members of the jury must deliberate, with a guilty verdict meaning death for the accused, an inner-city teen. As the dozen men try to reach a unanimous decision while sequestered in a room, one juror (Henry Fonda) casts considerable doubt on elements of the case. Personal issues soon rise to the surface, and conflict threatens to derail the delicate process that will decide one boy's fate.\n",
              "4    In 1866, Professor Pierre M. Aronnax (Paul Lukas) and his assistant Conseil (Peter Lorre), stranded in San Francisco by reports of a giant sea monster attacking ships in the Pacific Ocean, are invited to join an expedition to search for the creature. During the search, they and harpooner Ned Land (Kirk Douglas) are thrown overboard during an attack, eventually discovering that the supposed monster is actually a submarine piloted by the brilliant but haunted Captain Nemo (James Mason).\n",
              "Name: movie_info, dtype: object"
            ]
          },
          "execution_count": 25,
          "metadata": {},
          "output_type": "execute_result"
        }
      ],
      "source": [
        "df_cleaned['movie_info'].head()"
      ]
    },
    {
      "cell_type": "code",
      "execution_count": 26,
      "metadata": {
        "colab": {
          "base_uri": "https://localhost:8080/"
        },
        "id": "EHskVxySArPF",
        "outputId": "fc282ee2-d067-4218-f241-edea4cdb8142"
      },
      "outputs": [
        {
          "data": {
            "text/plain": [
              "(16908, 6)"
            ]
          },
          "execution_count": 26,
          "metadata": {},
          "output_type": "execute_result"
        }
      ],
      "source": [
        "df_cleaned.shape"
      ]
    },
    {
      "cell_type": "code",
      "execution_count": 27,
      "metadata": {
        "colab": {
          "base_uri": "https://localhost:8080/"
        },
        "id": "ye77iwjYfHbW",
        "outputId": "ec8412b1-84fb-4a82-fc84-c5b40b3c3994"
      },
      "outputs": [
        {
          "name": "stderr",
          "output_type": "stream",
          "text": [
            "C:\\Users\\Main\\AppData\\Local\\Temp\\ipykernel_22868\\3008832946.py:2: SettingWithCopyWarning: \n",
            "A value is trying to be set on a copy of a slice from a DataFrame.\n",
            "Try using .loc[row_indexer,col_indexer] = value instead\n",
            "\n",
            "See the caveats in the documentation: https://pandas.pydata.org/pandas-docs/stable/user_guide/indexing.html#returning-a-view-versus-a-copy\n",
            "  df_cleaned['movie_info'] = df['movie_info'].str.replace('\\r', ' ').str.replace('\\n', ' ').astype(str)\n"
          ]
        }
      ],
      "source": [
        "# Remove newline characters ('\\r', '\\n')\n",
        "df_cleaned['movie_info'] = df['movie_info'].str.replace('\\r', ' ').str.replace('\\n', ' ').astype(str)"
      ]
    },
    {
      "cell_type": "code",
      "execution_count": 28,
      "metadata": {
        "colab": {
          "base_uri": "https://localhost:8080/",
          "height": 382
        },
        "id": "mL0BDveTfQyt",
        "outputId": "9ce613c0-64a5-4bc8-8b47-63260ce0d454"
      },
      "outputs": [
        {
          "data": {
            "text/plain": [
              "0                                       Always trouble-prone, the life of teenager Percy Jackson (Logan Lerman) gets a lot more complicated when he learns he's the son of the Greek god Poseidon. At a training ground for the children of deities, Percy learns to harness his divine powers and prepare for the adventure of a lifetime: he must prevent a feud among the Olympians from erupting into a devastating war on Earth, and rescue his mother from the clutches of Hades, god of the underworld.\n",
              "1       Kate (Catherine Keener) and her husband Alex (Oliver Platt) are wealthy New Yorkers who prowl estate sales and make a tidy profit reselling items they bought cheaply. They buy the apartment next door and plan to remodel just as soon as its current occupant, a cranky old woman, dies. Kate is troubled by the way she and her husband earn a living, and tries to assuage her guilt by befriending her tenant and the woman's granddaughters, but her overtures lead to unexpected consequences.\n",
              "2                                                                                                                                                                                                                      A successful, middle-aged Hollywood songwriter falls hopelessly in love with the woman of his dreams, and even follows the girl and her new husband to their Mexican honeymoon resort. While his behavior seems sure to land him in trouble, out of the blue fate plays into his hands.\n",
              "3                                           Following the closing arguments in a murder trial, the 12 members of the jury must deliberate, with a guilty verdict meaning death for the accused, an inner-city teen. As the dozen men try to reach a unanimous decision while sequestered in a room, one juror (Henry Fonda) casts considerable doubt on elements of the case. Personal issues soon rise to the surface, and conflict threatens to derail the delicate process that will decide one boy's fate.\n",
              "4    In 1866, Professor Pierre M. Aronnax (Paul Lukas) and his assistant Conseil (Peter Lorre), stranded in San Francisco by reports of a giant sea monster attacking ships in the Pacific Ocean, are invited to join an expedition to search for the creature. During the search, they and harpooner Ned Land (Kirk Douglas) are thrown overboard during an attack, eventually discovering that the supposed monster is actually a submarine piloted by the brilliant but haunted Captain Nemo (James Mason).\n",
              "Name: movie_info, dtype: object"
            ]
          },
          "execution_count": 28,
          "metadata": {},
          "output_type": "execute_result"
        }
      ],
      "source": [
        "df_cleaned['movie_info'].head()"
      ]
    },
    {
      "cell_type": "code",
      "execution_count": 29,
      "metadata": {
        "id": "uw11WnrmpW9T"
      },
      "outputs": [],
      "source": [
        "#df_cleaned"
      ]
    },
    {
      "cell_type": "code",
      "execution_count": 30,
      "metadata": {
        "colab": {
          "base_uri": "https://localhost:8080/"
        },
        "id": "RoiVMUBdmPYv",
        "outputId": "d5bc5f6a-c998-49ce-f6c4-adcab2580a64"
      },
      "outputs": [
        {
          "name": "stderr",
          "output_type": "stream",
          "text": [
            "C:\\Users\\Main\\AppData\\Local\\Temp\\ipykernel_22868\\4072557775.py:2: SettingWithCopyWarning: \n",
            "A value is trying to be set on a copy of a slice from a DataFrame.\n",
            "Try using .loc[row_indexer,col_indexer] = value instead\n",
            "\n",
            "See the caveats in the documentation: https://pandas.pydata.org/pandas-docs/stable/user_guide/indexing.html#returning-a-view-versus-a-copy\n",
            "  df_cleaned['movie_combined'] = df['movie_title'] + ' ' + df['movie_info']+ ' ' + df['content_rating']+ ' ' + df['genres']+ ' ' + df['directors']+ ' ' + df['actors']\n"
          ]
        }
      ],
      "source": [
        "# Combining relevant columns for cleaning and then LSH model training\n",
        "df_cleaned['movie_combined'] = df['movie_title'] + ' ' + df['movie_info']+ ' ' + df['content_rating']+ ' ' + df['genres']+ ' ' + df['directors']+ ' ' + df['actors']"
      ]
    },
    {
      "cell_type": "code",
      "execution_count": 31,
      "metadata": {
        "colab": {
          "base_uri": "https://localhost:8080/",
          "height": 1000
        },
        "id": "VLFOSIrEqBah",
        "outputId": "f1431d4f-5b1c-4961-b1c6-abe8eaccee8b"
      },
      "outputs": [
        {
          "data": {
            "text/html": [
              "<div>\n",
              "<style scoped>\n",
              "    .dataframe tbody tr th:only-of-type {\n",
              "        vertical-align: middle;\n",
              "    }\n",
              "\n",
              "    .dataframe tbody tr th {\n",
              "        vertical-align: top;\n",
              "    }\n",
              "\n",
              "    .dataframe thead th {\n",
              "        text-align: right;\n",
              "    }\n",
              "</style>\n",
              "<table border=\"1\" class=\"dataframe\">\n",
              "  <thead>\n",
              "    <tr style=\"text-align: right;\">\n",
              "      <th></th>\n",
              "      <th>movie_title</th>\n",
              "      <th>movie_info</th>\n",
              "      <th>content_rating</th>\n",
              "      <th>genres</th>\n",
              "      <th>directors</th>\n",
              "      <th>actors</th>\n",
              "      <th>movie_combined</th>\n",
              "    </tr>\n",
              "  </thead>\n",
              "  <tbody>\n",
              "    <tr>\n",
              "      <th>0</th>\n",
              "      <td>Percy Jackson &amp; the Olympians: The Lightning Thief</td>\n",
              "      <td>Always trouble-prone, the life of teenager Percy Jackson (Logan Lerman) gets a lot more complicated when he learns he's the son of the Greek god Poseidon. At a training ground for the children of deities, Percy learns to harness his divine powers and prepare for the adventure of a lifetime: he must prevent a feud among the Olympians from erupting into a devastating war on Earth, and rescue his mother from the clutches of Hades, god of the underworld.</td>\n",
              "      <td>PG</td>\n",
              "      <td>Action &amp; Adventure, Comedy, Drama, Science Fiction &amp; Fantasy</td>\n",
              "      <td>Chris Columbus</td>\n",
              "      <td>Logan Lerman, Brandon T. Jackson, Alexandra Daddario, Jake Abel</td>\n",
              "      <td>Percy Jackson &amp; the Olympians: The Lightning Thief Always trouble-prone, the life of teenager Percy Jackson (Logan Lerman) gets a lot more complicated when he learns he's the son of the Greek god Poseidon. At a training ground for the children of deities, Percy learns to harness his divine powers and prepare for the adventure of a lifetime: he must prevent a feud among the Olympians from erupting into a devastating war on Earth, and rescue his mother from the clutches of Hades, god of the underworld. PG Action &amp; Adventure, Comedy, Drama, Science Fiction &amp; Fantasy Chris Columbus Logan Lerman, Brandon T. Jackson, Alexandra Daddario, Jake Abel</td>\n",
              "    </tr>\n",
              "    <tr>\n",
              "      <th>1</th>\n",
              "      <td>Please Give</td>\n",
              "      <td>Kate (Catherine Keener) and her husband Alex (Oliver Platt) are wealthy New Yorkers who prowl estate sales and make a tidy profit reselling items they bought cheaply. They buy the apartment next door and plan to remodel just as soon as its current occupant, a cranky old woman, dies. Kate is troubled by the way she and her husband earn a living, and tries to assuage her guilt by befriending her tenant and the woman's granddaughters, but her overtures lead to unexpected consequences.</td>\n",
              "      <td>R</td>\n",
              "      <td>Comedy</td>\n",
              "      <td>Nicole Holofcener</td>\n",
              "      <td>Catherine Keener, Amanda Peet, Oliver Platt, Rebecca Hall</td>\n",
              "      <td>Please Give Kate (Catherine Keener) and her husband Alex (Oliver Platt) are wealthy New Yorkers who prowl estate sales and make a tidy profit reselling items they bought cheaply. They buy the apartment next door and plan to remodel just as soon as its current occupant, a cranky old woman, dies. Kate is troubled by the way she and her husband earn a living, and tries to assuage her guilt by befriending her tenant and the woman's granddaughters, but her overtures lead to unexpected consequences. R Comedy Nicole Holofcener Catherine Keener, Amanda Peet, Oliver Platt, Rebecca Hall</td>\n",
              "    </tr>\n",
              "    <tr>\n",
              "      <th>2</th>\n",
              "      <td>10</td>\n",
              "      <td>A successful, middle-aged Hollywood songwriter falls hopelessly in love with the woman of his dreams, and even follows the girl and her new husband to their Mexican honeymoon resort. While his behavior seems sure to land him in trouble, out of the blue fate plays into his hands.</td>\n",
              "      <td>R</td>\n",
              "      <td>Comedy, Romance</td>\n",
              "      <td>Blake Edwards</td>\n",
              "      <td>Dudley Moore, Bo Derek, Julie Andrews, Robert Webber</td>\n",
              "      <td>10 A successful, middle-aged Hollywood songwriter falls hopelessly in love with the woman of his dreams, and even follows the girl and her new husband to their Mexican honeymoon resort. While his behavior seems sure to land him in trouble, out of the blue fate plays into his hands. R Comedy, Romance Blake Edwards Dudley Moore, Bo Derek, Julie Andrews, Robert Webber</td>\n",
              "    </tr>\n",
              "    <tr>\n",
              "      <th>3</th>\n",
              "      <td>12 Angry Men (Twelve Angry Men)</td>\n",
              "      <td>Following the closing arguments in a murder trial, the 12 members of the jury must deliberate, with a guilty verdict meaning death for the accused, an inner-city teen. As the dozen men try to reach a unanimous decision while sequestered in a room, one juror (Henry Fonda) casts considerable doubt on elements of the case. Personal issues soon rise to the surface, and conflict threatens to derail the delicate process that will decide one boy's fate.</td>\n",
              "      <td>NR</td>\n",
              "      <td>Classics, Drama</td>\n",
              "      <td>Sidney Lumet</td>\n",
              "      <td>Martin Balsam, John Fiedler, Lee J. Cobb, E.G. Marshall</td>\n",
              "      <td>12 Angry Men (Twelve Angry Men) Following the closing arguments in a murder trial, the 12 members of the jury must deliberate, with a guilty verdict meaning death for the accused, an inner-city teen. As the dozen men try to reach a unanimous decision while sequestered in a room, one juror (Henry Fonda) casts considerable doubt on elements of the case. Personal issues soon rise to the surface, and conflict threatens to derail the delicate process that will decide one boy's fate. NR Classics, Drama Sidney Lumet Martin Balsam, John Fiedler, Lee J. Cobb, E.G. Marshall</td>\n",
              "    </tr>\n",
              "    <tr>\n",
              "      <th>4</th>\n",
              "      <td>20,000 Leagues Under The Sea</td>\n",
              "      <td>In 1866, Professor Pierre M. Aronnax (Paul Lukas) and his assistant Conseil (Peter Lorre), stranded in San Francisco by reports of a giant sea monster attacking ships in the Pacific Ocean, are invited to join an expedition to search for the creature. During the search, they and harpooner Ned Land (Kirk Douglas) are thrown overboard during an attack, eventually discovering that the supposed monster is actually a submarine piloted by the brilliant but haunted Captain Nemo (James Mason).</td>\n",
              "      <td>G</td>\n",
              "      <td>Action &amp; Adventure, Drama, Kids &amp; Family</td>\n",
              "      <td>Richard Fleischer</td>\n",
              "      <td>James Mason, Kirk Douglas, Paul Lukas, Peter Lorre</td>\n",
              "      <td>20,000 Leagues Under The Sea In 1866, Professor Pierre M. Aronnax (Paul Lukas) and his assistant Conseil (Peter Lorre), stranded in San Francisco by reports of a giant sea monster attacking ships in the Pacific Ocean, are invited to join an expedition to search for the creature. During the search, they and harpooner Ned Land (Kirk Douglas) are thrown overboard during an attack, eventually discovering that the supposed monster is actually a submarine piloted by the brilliant but haunted Captain Nemo (James Mason). G Action &amp; Adventure, Drama, Kids &amp; Family Richard Fleischer James Mason, Kirk Douglas, Paul Lukas, Peter Lorre</td>\n",
              "    </tr>\n",
              "    <tr>\n",
              "      <th>...</th>\n",
              "      <td>...</td>\n",
              "      <td>...</td>\n",
              "      <td>...</td>\n",
              "      <td>...</td>\n",
              "      <td>...</td>\n",
              "      <td>...</td>\n",
              "      <td>...</td>\n",
              "    </tr>\n",
              "    <tr>\n",
              "      <th>17706</th>\n",
              "      <td>Zoom</td>\n",
              "      <td>Capt. Zoom, or Jack (Tim Allen), as he is now known, has long since given up his career of fighting evil and protecting the defenseless. The former superhero gets back into the game when he takes a job at a private academy, where he must whip into shape a ragtag group of heroes-in-training.</td>\n",
              "      <td>PG</td>\n",
              "      <td>Action &amp; Adventure, Comedy, Kids &amp; Family</td>\n",
              "      <td>Peter Hewitt</td>\n",
              "      <td>Tim Allen, Courteney Cox, Chevy Chase, Spencer Breslin</td>\n",
              "      <td>Zoom Capt. Zoom, or Jack (Tim Allen), as he is now known, has long since given up his career of fighting evil and protecting the defenseless. The former superhero gets back into the game when he takes a job at a private academy, where he must whip into shape a ragtag group of heroes-in-training. PG Action &amp; Adventure, Comedy, Kids &amp; Family Peter Hewitt Tim Allen, Courteney Cox, Chevy Chase, Spencer Breslin</td>\n",
              "    </tr>\n",
              "    <tr>\n",
              "      <th>17707</th>\n",
              "      <td>Zoot Suit</td>\n",
              "      <td>Mexican-American gangster Henry Reyna (Daniel Valdez) and others in his group are accused of a murder in which they had no part. They are then rounded up by the police because of their race and their choice of clothing. The gang members are thrown into prison and put through a racist trial. As Henry considers his fate, he has a conversation with El Pachuco (Edward James Olmos), a figure from his own conscience who makes him contemplate a choice between his heritage and his home country.</td>\n",
              "      <td>R</td>\n",
              "      <td>Drama, Musical &amp; Performing Arts</td>\n",
              "      <td>Luis Valdez</td>\n",
              "      <td>Daniel Valdez, Edward James Olmos, Charles Aidman, Tyne Daly</td>\n",
              "      <td>Zoot Suit Mexican-American gangster Henry Reyna (Daniel Valdez) and others in his group are accused of a murder in which they had no part. They are then rounded up by the police because of their race and their choice of clothing. The gang members are thrown into prison and put through a racist trial. As Henry considers his fate, he has a conversation with El Pachuco (Edward James Olmos), a figure from his own conscience who makes him contemplate a choice between his heritage and his home country. R Drama, Musical &amp; Performing Arts Luis Valdez Daniel Valdez, Edward James Olmos, Charles Aidman, Tyne Daly</td>\n",
              "    </tr>\n",
              "    <tr>\n",
              "      <th>17708</th>\n",
              "      <td>Zootopia</td>\n",
              "      <td>From the largest elephant to the smallest shrew, the city of Zootopia is a mammal metropolis where various animals live and thrive. When Judy Hopps (Ginnifer Goodwin) becomes the first rabbit to join the police force, she quickly learns how tough it is to enforce the law. Determined to prove herself, Judy jumps at the opportunity to solve a mysterious case. Unfortunately, that means working with Nick Wilde (Jason Bateman), a wily fox who makes her job even harder.</td>\n",
              "      <td>PG</td>\n",
              "      <td>Action &amp; Adventure, Animation, Comedy</td>\n",
              "      <td>Byron Howard</td>\n",
              "      <td>J.K. Simmons, Kristen Bell, Octavia Spencer, Alan Tudyk</td>\n",
              "      <td>Zootopia From the largest elephant to the smallest shrew, the city of Zootopia is a mammal metropolis where various animals live and thrive. When Judy Hopps (Ginnifer Goodwin) becomes the first rabbit to join the police force, she quickly learns how tough it is to enforce the law. Determined to prove herself, Judy jumps at the opportunity to solve a mysterious case. Unfortunately, that means working with Nick Wilde (Jason Bateman), a wily fox who makes her job even harder. PG Action &amp; Adventure, Animation, Comedy Byron Howard J.K. Simmons, Kristen Bell, Octavia Spencer, Alan Tudyk</td>\n",
              "    </tr>\n",
              "    <tr>\n",
              "      <th>17710</th>\n",
              "      <td>Zulu</td>\n",
              "      <td>In 1879, the Zulu nation hands colonial British forces a resounding defeat in battle. A nearby regiment of the British Army takes over a station run by a missionary (Jack Hawkins) and his daughter (Ulla Jacobsson) as a supply depot and hospital under the command of Lieutenant John Chard (Stanley Baker) and his subordinate Gonville Bromhead (Michael Caine). Unable to abandon their wounded soldiers even in dire circumstances, the regiment defend their station against the Zulu warriors.</td>\n",
              "      <td>PG</td>\n",
              "      <td>Classics, Drama</td>\n",
              "      <td>Cy Endfield</td>\n",
              "      <td>Stanley Baker, Jack Hawkins, Ulla Jacobsson, James Booth</td>\n",
              "      <td>Zulu In 1879, the Zulu nation hands colonial British forces a resounding defeat in battle. A nearby regiment of the British Army takes over a station run by a missionary (Jack Hawkins) and his daughter (Ulla Jacobsson) as a supply depot and hospital under the command of Lieutenant John Chard (Stanley Baker) and his subordinate Gonville Bromhead (Michael Caine). Unable to abandon their wounded soldiers even in dire circumstances, the regiment defend their station against the Zulu warriors. PG Classics, Drama Cy Endfield Stanley Baker, Jack Hawkins, Ulla Jacobsson, James Booth</td>\n",
              "    </tr>\n",
              "    <tr>\n",
              "      <th>17711</th>\n",
              "      <td>Zulu Dawn</td>\n",
              "      <td>Sir Henry Bartle Frere's (John Mills) vastly outnumbered garrison makes a stand against natives at Isandhlwana in 1879.</td>\n",
              "      <td>PG</td>\n",
              "      <td>Action &amp; Adventure, Art House &amp; International, Drama</td>\n",
              "      <td>Douglas Hickox</td>\n",
              "      <td>Burt Lancaster, Peter O'Toole, Simon Ward, John Mills</td>\n",
              "      <td>Zulu Dawn Sir Henry Bartle Frere's (John Mills) vastly outnumbered garrison makes a stand against natives at Isandhlwana in 1879. PG Action &amp; Adventure, Art House &amp; International, Drama Douglas Hickox Burt Lancaster, Peter O'Toole, Simon Ward, John Mills</td>\n",
              "    </tr>\n",
              "  </tbody>\n",
              "</table>\n",
              "<p>16908 rows × 7 columns</p>\n",
              "</div>"
            ],
            "text/plain": [
              "                                              movie_title  \\\n",
              "0      Percy Jackson & the Olympians: The Lightning Thief   \n",
              "1                                             Please Give   \n",
              "2                                                      10   \n",
              "3                         12 Angry Men (Twelve Angry Men)   \n",
              "4                            20,000 Leagues Under The Sea   \n",
              "...                                                   ...   \n",
              "17706                                                Zoom   \n",
              "17707                                           Zoot Suit   \n",
              "17708                                            Zootopia   \n",
              "17710                                                Zulu   \n",
              "17711                                           Zulu Dawn   \n",
              "\n",
              "                                                                                                                                                                                                                                                                                                                                                                                                                                                                                                        movie_info  \\\n",
              "0                                           Always trouble-prone, the life of teenager Percy Jackson (Logan Lerman) gets a lot more complicated when he learns he's the son of the Greek god Poseidon. At a training ground for the children of deities, Percy learns to harness his divine powers and prepare for the adventure of a lifetime: he must prevent a feud among the Olympians from erupting into a devastating war on Earth, and rescue his mother from the clutches of Hades, god of the underworld.   \n",
              "1           Kate (Catherine Keener) and her husband Alex (Oliver Platt) are wealthy New Yorkers who prowl estate sales and make a tidy profit reselling items they bought cheaply. They buy the apartment next door and plan to remodel just as soon as its current occupant, a cranky old woman, dies. Kate is troubled by the way she and her husband earn a living, and tries to assuage her guilt by befriending her tenant and the woman's granddaughters, but her overtures lead to unexpected consequences.   \n",
              "2                                                                                                                                                                                                                          A successful, middle-aged Hollywood songwriter falls hopelessly in love with the woman of his dreams, and even follows the girl and her new husband to their Mexican honeymoon resort. While his behavior seems sure to land him in trouble, out of the blue fate plays into his hands.   \n",
              "3                                               Following the closing arguments in a murder trial, the 12 members of the jury must deliberate, with a guilty verdict meaning death for the accused, an inner-city teen. As the dozen men try to reach a unanimous decision while sequestered in a room, one juror (Henry Fonda) casts considerable doubt on elements of the case. Personal issues soon rise to the surface, and conflict threatens to derail the delicate process that will decide one boy's fate.   \n",
              "4        In 1866, Professor Pierre M. Aronnax (Paul Lukas) and his assistant Conseil (Peter Lorre), stranded in San Francisco by reports of a giant sea monster attacking ships in the Pacific Ocean, are invited to join an expedition to search for the creature. During the search, they and harpooner Ned Land (Kirk Douglas) are thrown overboard during an attack, eventually discovering that the supposed monster is actually a submarine piloted by the brilliant but haunted Captain Nemo (James Mason).   \n",
              "...                                                                                                                                                                                                                                                                                                                                                                                                                                                                                                            ...   \n",
              "17706                                                                                                                                                                                                          Capt. Zoom, or Jack (Tim Allen), as he is now known, has long since given up his career of fighting evil and protecting the defenseless. The former superhero gets back into the game when he takes a job at a private academy, where he must whip into shape a ragtag group of heroes-in-training.   \n",
              "17707  Mexican-American gangster Henry Reyna (Daniel Valdez) and others in his group are accused of a murder in which they had no part. They are then rounded up by the police because of their race and their choice of clothing. The gang members are thrown into prison and put through a racist trial. As Henry considers his fate, he has a conversation with El Pachuco (Edward James Olmos), a figure from his own conscience who makes him contemplate a choice between his heritage and his home country.   \n",
              "17708                         From the largest elephant to the smallest shrew, the city of Zootopia is a mammal metropolis where various animals live and thrive. When Judy Hopps (Ginnifer Goodwin) becomes the first rabbit to join the police force, she quickly learns how tough it is to enforce the law. Determined to prove herself, Judy jumps at the opportunity to solve a mysterious case. Unfortunately, that means working with Nick Wilde (Jason Bateman), a wily fox who makes her job even harder.   \n",
              "17710     In 1879, the Zulu nation hands colonial British forces a resounding defeat in battle. A nearby regiment of the British Army takes over a station run by a missionary (Jack Hawkins) and his daughter (Ulla Jacobsson) as a supply depot and hospital under the command of Lieutenant John Chard (Stanley Baker) and his subordinate Gonville Bromhead (Michael Caine). Unable to abandon their wounded soldiers even in dire circumstances, the regiment defend their station against the Zulu warriors.   \n",
              "17711                                                                                                                                                                                                                                                                                                                                                                                      Sir Henry Bartle Frere's (John Mills) vastly outnumbered garrison makes a stand against natives at Isandhlwana in 1879.   \n",
              "\n",
              "      content_rating  \\\n",
              "0                 PG   \n",
              "1                  R   \n",
              "2                  R   \n",
              "3                 NR   \n",
              "4                  G   \n",
              "...              ...   \n",
              "17706             PG   \n",
              "17707              R   \n",
              "17708             PG   \n",
              "17710             PG   \n",
              "17711             PG   \n",
              "\n",
              "                                                             genres  \\\n",
              "0      Action & Adventure, Comedy, Drama, Science Fiction & Fantasy   \n",
              "1                                                            Comedy   \n",
              "2                                                   Comedy, Romance   \n",
              "3                                                   Classics, Drama   \n",
              "4                          Action & Adventure, Drama, Kids & Family   \n",
              "...                                                             ...   \n",
              "17706                     Action & Adventure, Comedy, Kids & Family   \n",
              "17707                              Drama, Musical & Performing Arts   \n",
              "17708                         Action & Adventure, Animation, Comedy   \n",
              "17710                                               Classics, Drama   \n",
              "17711          Action & Adventure, Art House & International, Drama   \n",
              "\n",
              "               directors  \\\n",
              "0         Chris Columbus   \n",
              "1      Nicole Holofcener   \n",
              "2          Blake Edwards   \n",
              "3           Sidney Lumet   \n",
              "4      Richard Fleischer   \n",
              "...                  ...   \n",
              "17706       Peter Hewitt   \n",
              "17707        Luis Valdez   \n",
              "17708       Byron Howard   \n",
              "17710        Cy Endfield   \n",
              "17711     Douglas Hickox   \n",
              "\n",
              "                                                                actors  \\\n",
              "0      Logan Lerman, Brandon T. Jackson, Alexandra Daddario, Jake Abel   \n",
              "1            Catherine Keener, Amanda Peet, Oliver Platt, Rebecca Hall   \n",
              "2                 Dudley Moore, Bo Derek, Julie Andrews, Robert Webber   \n",
              "3              Martin Balsam, John Fiedler, Lee J. Cobb, E.G. Marshall   \n",
              "4                   James Mason, Kirk Douglas, Paul Lukas, Peter Lorre   \n",
              "...                                                                ...   \n",
              "17706           Tim Allen, Courteney Cox, Chevy Chase, Spencer Breslin   \n",
              "17707     Daniel Valdez, Edward James Olmos, Charles Aidman, Tyne Daly   \n",
              "17708          J.K. Simmons, Kristen Bell, Octavia Spencer, Alan Tudyk   \n",
              "17710         Stanley Baker, Jack Hawkins, Ulla Jacobsson, James Booth   \n",
              "17711            Burt Lancaster, Peter O'Toole, Simon Ward, John Mills   \n",
              "\n",
              "                                                                                                                                                                                                                                                                                                                                                                                                                                                                                                                                                                                                                                                                 movie_combined  \n",
              "0      Percy Jackson & the Olympians: The Lightning Thief Always trouble-prone, the life of teenager Percy Jackson (Logan Lerman) gets a lot more complicated when he learns he's the son of the Greek god Poseidon. At a training ground for the children of deities, Percy learns to harness his divine powers and prepare for the adventure of a lifetime: he must prevent a feud among the Olympians from erupting into a devastating war on Earth, and rescue his mother from the clutches of Hades, god of the underworld. PG Action & Adventure, Comedy, Drama, Science Fiction & Fantasy Chris Columbus Logan Lerman, Brandon T. Jackson, Alexandra Daddario, Jake Abel  \n",
              "1                                                                       Please Give Kate (Catherine Keener) and her husband Alex (Oliver Platt) are wealthy New Yorkers who prowl estate sales and make a tidy profit reselling items they bought cheaply. They buy the apartment next door and plan to remodel just as soon as its current occupant, a cranky old woman, dies. Kate is troubled by the way she and her husband earn a living, and tries to assuage her guilt by befriending her tenant and the woman's granddaughters, but her overtures lead to unexpected consequences. R Comedy Nicole Holofcener Catherine Keener, Amanda Peet, Oliver Platt, Rebecca Hall  \n",
              "2                                                                                                                                                                                                                                                                                               10 A successful, middle-aged Hollywood songwriter falls hopelessly in love with the woman of his dreams, and even follows the girl and her new husband to their Mexican honeymoon resort. While his behavior seems sure to land him in trouble, out of the blue fate plays into his hands. R Comedy, Romance Blake Edwards Dudley Moore, Bo Derek, Julie Andrews, Robert Webber  \n",
              "3                                                                                    12 Angry Men (Twelve Angry Men) Following the closing arguments in a murder trial, the 12 members of the jury must deliberate, with a guilty verdict meaning death for the accused, an inner-city teen. As the dozen men try to reach a unanimous decision while sequestered in a room, one juror (Henry Fonda) casts considerable doubt on elements of the case. Personal issues soon rise to the surface, and conflict threatens to derail the delicate process that will decide one boy's fate. NR Classics, Drama Sidney Lumet Martin Balsam, John Fiedler, Lee J. Cobb, E.G. Marshall  \n",
              "4                        20,000 Leagues Under The Sea In 1866, Professor Pierre M. Aronnax (Paul Lukas) and his assistant Conseil (Peter Lorre), stranded in San Francisco by reports of a giant sea monster attacking ships in the Pacific Ocean, are invited to join an expedition to search for the creature. During the search, they and harpooner Ned Land (Kirk Douglas) are thrown overboard during an attack, eventually discovering that the supposed monster is actually a submarine piloted by the brilliant but haunted Captain Nemo (James Mason). G Action & Adventure, Drama, Kids & Family Richard Fleischer James Mason, Kirk Douglas, Paul Lukas, Peter Lorre  \n",
              "...                                                                                                                                                                                                                                                                                                                                                                                                                                                                                                                                                                                                                                                                         ...  \n",
              "17706                                                                                                                                                                                                                                                 Zoom Capt. Zoom, or Jack (Tim Allen), as he is now known, has long since given up his career of fighting evil and protecting the defenseless. The former superhero gets back into the game when he takes a job at a private academy, where he must whip into shape a ragtag group of heroes-in-training. PG Action & Adventure, Comedy, Kids & Family Peter Hewitt Tim Allen, Courteney Cox, Chevy Chase, Spencer Breslin  \n",
              "17707                                         Zoot Suit Mexican-American gangster Henry Reyna (Daniel Valdez) and others in his group are accused of a murder in which they had no part. They are then rounded up by the police because of their race and their choice of clothing. The gang members are thrown into prison and put through a racist trial. As Henry considers his fate, he has a conversation with El Pachuco (Edward James Olmos), a figure from his own conscience who makes him contemplate a choice between his heritage and his home country. R Drama, Musical & Performing Arts Luis Valdez Daniel Valdez, Edward James Olmos, Charles Aidman, Tyne Daly  \n",
              "17708                                                               Zootopia From the largest elephant to the smallest shrew, the city of Zootopia is a mammal metropolis where various animals live and thrive. When Judy Hopps (Ginnifer Goodwin) becomes the first rabbit to join the police force, she quickly learns how tough it is to enforce the law. Determined to prove herself, Judy jumps at the opportunity to solve a mysterious case. Unfortunately, that means working with Nick Wilde (Jason Bateman), a wily fox who makes her job even harder. PG Action & Adventure, Animation, Comedy Byron Howard J.K. Simmons, Kristen Bell, Octavia Spencer, Alan Tudyk  \n",
              "17710                                                                     Zulu In 1879, the Zulu nation hands colonial British forces a resounding defeat in battle. A nearby regiment of the British Army takes over a station run by a missionary (Jack Hawkins) and his daughter (Ulla Jacobsson) as a supply depot and hospital under the command of Lieutenant John Chard (Stanley Baker) and his subordinate Gonville Bromhead (Michael Caine). Unable to abandon their wounded soldiers even in dire circumstances, the regiment defend their station against the Zulu warriors. PG Classics, Drama Cy Endfield Stanley Baker, Jack Hawkins, Ulla Jacobsson, James Booth  \n",
              "17711                                                                                                                                                                                                                                                                                                                                                                                                            Zulu Dawn Sir Henry Bartle Frere's (John Mills) vastly outnumbered garrison makes a stand against natives at Isandhlwana in 1879. PG Action & Adventure, Art House & International, Drama Douglas Hickox Burt Lancaster, Peter O'Toole, Simon Ward, John Mills  \n",
              "\n",
              "[16908 rows x 7 columns]"
            ]
          },
          "execution_count": 31,
          "metadata": {},
          "output_type": "execute_result"
        }
      ],
      "source": [
        "df_cleaned"
      ]
    },
    {
      "cell_type": "code",
      "execution_count": 32,
      "metadata": {
        "id": "WkQ-ZZJIfULX"
      },
      "outputs": [],
      "source": [
        "#Function to clean_text\n",
        "def clean_text(text):\n",
        "    lem = WordNetLemmatizer()\n",
        "    stop = set(stopwords.words('english'))\n",
        "    punct = string.punctuation\n",
        "    text = re.sub(r'\\s+', ' ', text)\n",
        "    text = text.translate(str.maketrans('', '', punct)).lower()\n",
        "    tokens = re.split(r'\\W+', text)\n",
        "    tokens = [lem.lemmatize(word) for word in tokens if word not in stop]\n",
        "    return ' '.join(tokens)"
      ]
    },
    {
      "cell_type": "code",
      "execution_count": 33,
      "metadata": {
        "colab": {
          "base_uri": "https://localhost:8080/",
          "height": 481
        },
        "id": "57l4DulLgPq8",
        "outputId": "20ebf529-aaac-4315-9e2c-35482d21fb50"
      },
      "outputs": [
        {
          "name": "stderr",
          "output_type": "stream",
          "text": [
            "C:\\Users\\Main\\AppData\\Local\\Temp\\ipykernel_22868\\821419756.py:2: SettingWithCopyWarning: \n",
            "A value is trying to be set on a copy of a slice from a DataFrame.\n",
            "Try using .loc[row_indexer,col_indexer] = value instead\n",
            "\n",
            "See the caveats in the documentation: https://pandas.pydata.org/pandas-docs/stable/user_guide/indexing.html#returning-a-view-versus-a-copy\n",
            "  df_cleaned['movie_combined'] = df_cleaned['movie_combined'].apply(clean_text)\n"
          ]
        },
        {
          "data": {
            "text/plain": [
              "0      percy jackson olympian lightning thief always troubleprone life teenager percy jackson logan lerman get lot complicated learns he son greek god poseidon training ground child deity percy learns harness divine power prepare adventure lifetime must prevent feud among olympian erupting devastating war earth rescue mother clutch hades god underworld pg action adventure comedy drama science fiction fantasy chris columbus logan lerman brandon jackson alexandra daddario jake abel\n",
              "1                                              please give kate catherine keener husband alex oliver platt wealthy new yorkers prowl estate sale make tidy profit reselling item bought cheaply buy apartment next door plan remodel soon current occupant cranky old woman dy kate troubled way husband earn living try assuage guilt befriending tenant woman granddaughter overture lead unexpected consequence r comedy nicole holofcener catherine keener amanda peet oliver platt rebecca hall\n",
              "2                                                                                                                                                                                                                          10 successful middleaged hollywood songwriter fall hopelessly love woman dream even follows girl new husband mexican honeymoon resort behavior seems sure land trouble blue fate play hand r comedy romance blake edward dudley moore bo derek julie andrew robert webber\n",
              "3                                        12 angry men twelve angry men following closing argument murder trial 12 member jury must deliberate guilty verdict meaning death accused innercity teen dozen men try reach unanimous decision sequestered room one juror henry fonda cast considerable doubt element case personal issue soon rise surface conflict threatens derail delicate process decide one boy fate nr classic drama sidney lumet martin balsam john fiedler lee j cobb eg marshall\n",
              "4    20000 league sea 1866 professor pierre aronnax paul lukas assistant conseil peter lorre stranded san francisco report giant sea monster attacking ship pacific ocean invited join expedition search creature search harpooner ned land kirk douglas thrown overboard attack eventually discovering supposed monster actually submarine piloted brilliant haunted captain nemo james mason g action adventure drama kid family richard fleischer james mason kirk douglas paul lukas peter lorre\n",
              "Name: movie_combined, dtype: object"
            ]
          },
          "execution_count": 33,
          "metadata": {},
          "output_type": "execute_result"
        }
      ],
      "source": [
        "#Use function to clean the movie_combined column\n",
        "df_cleaned['movie_combined'] = df_cleaned['movie_combined'].apply(clean_text)\n",
        "df_cleaned['movie_combined'].head()"
      ]
    },
    {
      "cell_type": "markdown",
      "metadata": {
        "id": "O1p6plIbII_D"
      },
      "source": [
        "# Shingles Size is Fixed"
      ]
    },
    {
      "cell_type": "code",
      "execution_count": 34,
      "metadata": {
        "id": "F4i4Rwx8IEY_"
      },
      "outputs": [],
      "source": [
        "# Creating function to create shingles\n",
        "def create_shingles(text, shingle_size=6):\n",
        "    return [text[i:i+shingle_size] for i in range(len(text)-shingle_size+1)]"
      ]
    },
    {
      "cell_type": "markdown",
      "metadata": {
        "id": "mKPDnaKjJAXF"
      },
      "source": [
        "# Creating function to generate MinHash Forest (using fixed shingle size)\n",
        "\n",
        "- Initializing number of permutations in MinHash\n",
        "- MinHashing the string on all shingles in each document\n",
        "- Storing the MinHash of the string\n",
        "- Generating a forest of all MinHashed strings\n",
        "- Indexing the forest to make it searchable"
      ]
    },
    {
      "cell_type": "code",
      "execution_count": 35,
      "metadata": {
        "id": "q4fskiwTJYvg"
      },
      "outputs": [],
      "source": [
        "def generate_forest(docs, permutations):\n",
        "    start_time = time.time()\n",
        "\n",
        "    minhash = []\n",
        "\n",
        "    for doc in docs:\n",
        "        shingles = create_shingles(doc)\n",
        "        m = MinHash(num_perm=permutations)\n",
        "        for shingle in shingles:\n",
        "            m.update(shingle.encode('utf8'))\n",
        "        minhash.append(m)\n",
        "\n",
        "    forest = MinHashLSHForest(num_perm=permutations)\n",
        "\n",
        "    for i,m in enumerate(minhash):\n",
        "        forest.add(i,m)\n",
        "\n",
        "    forest.index()\n",
        "\n",
        "    print('It took %s seconds to build forest.' %(time.time()-start_time))\n",
        "\n",
        "    return forest"
      ]
    },
    {
      "cell_type": "markdown",
      "metadata": {
        "id": "1LZ1-X3AKYnd"
      },
      "source": [
        "#Creating a  function to query MinHash Forest (using fixed shingle size)\n",
        "\n",
        "- Preprocessing input text into fixed size shingles\n",
        "- Using the same number of permutations for the MinHash as was used to build the forest\n",
        "- Creating a MinHash on the input text using all shingles\n",
        "- Querying the forest with MinHash and return the number of requested recommendations\n",
        "- Providing the titles of each conference paper recommended"
      ]
    },
    {
      "cell_type": "code",
      "execution_count": 53,
      "metadata": {
        "id": "ub5bqwAZJgli"
      },
      "outputs": [],
      "source": [
        "def predict(idx, df_cleaned, permutations, num_results, forest):\n",
        "    \"\"\"\n",
        "    Find num_results nearest neighbors for the movie at index idx,\n",
        "    excluding the movie itself from the recommendations.\n",
        "    \"\"\"\n",
        "    text = df_cleaned.loc[idx, 'movie_combined']  # or any text field you used for creating shingles\n",
        "    shingles = create_shingles(text)\n",
        "    m = MinHash(num_perm=permutations)\n",
        "    for shingle in shingles:\n",
        "        m.update(shingle.encode('utf8'))\n",
        "\n",
        "    # Query for num_results + 1 because the movie itself will be returned\n",
        "    idx_array = np.array(forest.query(m, num_results + 1))\n",
        "    if len(idx_array) == 0:\n",
        "        return None\n",
        "\n",
        "\n",
        "    # Remove the movie itself from the results\n",
        "    idx_array = idx_array[idx_array != idx]\n",
        "\n",
        "    result = df_cleaned.iloc[idx_array][['movie_title', 'content_rating', 'genres', 'directors', 'actors']]\n",
        "    return result\n"
      ]
    },
    {
      "cell_type": "markdown",
      "metadata": {
        "id": "glajImu9Mg-3"
      },
      "source": [
        "# Creating Forest (Using Fixed Shingle Size)"
      ]
    },
    {
      "cell_type": "code",
      "execution_count": 37,
      "metadata": {
        "id": "FSK6Zl8vMhlH"
      },
      "outputs": [],
      "source": [
        "# Set number of Permutations\n",
        "permutations = 128"
      ]
    },
    {
      "cell_type": "code",
      "execution_count": 38,
      "metadata": {
        "colab": {
          "base_uri": "https://localhost:8080/"
        },
        "id": "Vhg14tOOLiz5",
        "outputId": "6e2e4199-3d66-4bb2-a9c4-5e74c469ec83"
      },
      "outputs": [
        {
          "name": "stdout",
          "output_type": "stream",
          "text": [
            "It took 35.34300398826599 seconds to build forest.\n"
          ]
        }
      ],
      "source": [
        "# Creating forest (using fixed shingle size)\n",
        "forest = generate_forest(df_cleaned['movie_combined'], permutations)"
      ]
    },
    {
      "cell_type": "markdown",
      "metadata": {
        "id": "JbAkPAb4Mxir"
      },
      "source": [
        "# Using forest (with fixed shingle size) to make recommendations for one/more movies using 2 approaches. First is index and second is using Movie title"
      ]
    },
    {
      "cell_type": "markdown",
      "metadata": {},
      "source": [
        "## Testing with dynamic approach "
      ]
    },
    {
      "cell_type": "markdown",
      "metadata": {},
      "source": [
        "First lets locate the move record based on the title "
      ]
    },
    {
      "cell_type": "code",
      "execution_count": 39,
      "metadata": {},
      "outputs": [],
      "source": [
        "def search_movies(df, search_string):\n",
        "    \"\"\"\n",
        "    Searches for movie titles containing the given search string (case-insensitive).\n",
        "    Returns a DataFrame with the matching rows and their original indexes.\n",
        "    \"\"\"\n",
        "    mask = df['movie_title'].str.contains(search_string, case=False, na=False)\n",
        "    result_df = df[mask].copy()\n",
        "    return result_df[['movie_title', 'directors']]\n"
      ]
    },
    {
      "cell_type": "code",
      "execution_count": 40,
      "metadata": {},
      "outputs": [
        {
          "data": {
            "text/html": [
              "<div>\n",
              "<style scoped>\n",
              "    .dataframe tbody tr th:only-of-type {\n",
              "        vertical-align: middle;\n",
              "    }\n",
              "\n",
              "    .dataframe tbody tr th {\n",
              "        vertical-align: top;\n",
              "    }\n",
              "\n",
              "    .dataframe thead th {\n",
              "        text-align: right;\n",
              "    }\n",
              "</style>\n",
              "<table border=\"1\" class=\"dataframe\">\n",
              "  <thead>\n",
              "    <tr style=\"text-align: right;\">\n",
              "      <th></th>\n",
              "      <th>movie_title</th>\n",
              "      <th>directors</th>\n",
              "    </tr>\n",
              "  </thead>\n",
              "  <tbody>\n",
              "    <tr>\n",
              "      <th>2133</th>\n",
              "      <td>A Good Day To Die Hard</td>\n",
              "      <td>John Moore (VIII)</td>\n",
              "    </tr>\n",
              "    <tr>\n",
              "      <th>5493</th>\n",
              "      <td>Die Hard</td>\n",
              "      <td>John McTiernan</td>\n",
              "    </tr>\n",
              "    <tr>\n",
              "      <th>5494</th>\n",
              "      <td>Die Hard 2</td>\n",
              "      <td>Renny Harlin</td>\n",
              "    </tr>\n",
              "    <tr>\n",
              "      <th>5495</th>\n",
              "      <td>Die Hard: With a Vengeance</td>\n",
              "      <td>John McTiernan</td>\n",
              "    </tr>\n",
              "    <tr>\n",
              "      <th>9614</th>\n",
              "      <td>Live Free or Die Hard</td>\n",
              "      <td>Len Wiseman</td>\n",
              "    </tr>\n",
              "  </tbody>\n",
              "</table>\n",
              "</div>"
            ],
            "text/plain": [
              "                     movie_title          directors\n",
              "2133      A Good Day To Die Hard  John Moore (VIII)\n",
              "5493                    Die Hard     John McTiernan\n",
              "5494                  Die Hard 2       Renny Harlin\n",
              "5495  Die Hard: With a Vengeance     John McTiernan\n",
              "9614       Live Free or Die Hard        Len Wiseman"
            ]
          },
          "execution_count": 40,
          "metadata": {},
          "output_type": "execute_result"
        }
      ],
      "source": [
        "search_list = search_movies(df_cleaned, \"Die hard\")\n",
        "search_list"
      ]
    },
    {
      "cell_type": "markdown",
      "metadata": {},
      "source": [
        "Now that we know what movie we want to search for, lets do a search for the top 5 recommendations "
      ]
    },
    {
      "cell_type": "code",
      "execution_count": 54,
      "metadata": {},
      "outputs": [
        {
          "name": "stdout",
          "output_type": "stream",
          "text": [
            "Input Movie:\n",
            " movie_title                                                                                                                                                                                                                                                                                                                                                                                                                           Die Hard\n",
            "content_rating                                                                                                                                                                                                                                                                                                                                                                                                                               R\n",
            "genres                                                                                                                                                                                                                                                                                                                                                                                                  Action & Adventure, Mystery & Suspense\n",
            "directors                                                                                                                                                                                                                                                                                                                                                                                                                       John McTiernan\n",
            "actors                                                                                                                                                                                                                                                                                                                                                                         Bruce Willis, Alan Rickman, Reginald VelJohnson, Bonnie Bedelia\n",
            "movie_combined    die hard new york city policeman john mcclane bruce willis visiting estranged wife bonnie bedelia two daughter christmas eve join holiday party headquarters japaneseowned business work festivity interrupted group terrorist take exclusive highrise everyone soon mcclane realizes there one save hostage r action adventure mystery suspense john mctiernan bruce willis alan rickman reginald veljohnson bonnie bedelia\n",
            "Name: 5493, dtype: object\n",
            "\n",
            "Top 5 recommendations for [Die Hard]:\n"
          ]
        },
        {
          "data": {
            "text/html": [
              "<div>\n",
              "<style scoped>\n",
              "    .dataframe tbody tr th:only-of-type {\n",
              "        vertical-align: middle;\n",
              "    }\n",
              "\n",
              "    .dataframe tbody tr th {\n",
              "        vertical-align: top;\n",
              "    }\n",
              "\n",
              "    .dataframe thead th {\n",
              "        text-align: right;\n",
              "    }\n",
              "</style>\n",
              "<table border=\"1\" class=\"dataframe\">\n",
              "  <thead>\n",
              "    <tr style=\"text-align: right;\">\n",
              "      <th></th>\n",
              "      <th>movie_title</th>\n",
              "      <th>content_rating</th>\n",
              "      <th>genres</th>\n",
              "      <th>directors</th>\n",
              "      <th>actors</th>\n",
              "    </tr>\n",
              "  </thead>\n",
              "  <tbody>\n",
              "    <tr>\n",
              "      <th>8033</th>\n",
              "      <td>Hush...Hush, Sweet Charlotte</td>\n",
              "      <td>NR</td>\n",
              "      <td>Classics, Horror, Mystery &amp; Suspense</td>\n",
              "      <td>Robert Aldrich</td>\n",
              "      <td>Bette Davis, Olivia de Havilland, Agnes Moorehead, Joseph Cotten</td>\n",
              "    </tr>\n",
              "    <tr>\n",
              "      <th>7195</th>\n",
              "      <td>A Good Woman</td>\n",
              "      <td>PG</td>\n",
              "      <td>Comedy, Drama, Romance</td>\n",
              "      <td>Mike Barker</td>\n",
              "      <td>Helen Hunt, Scarlett Johansson, Tom Wilkinson, Stephen Campbell Moore</td>\n",
              "    </tr>\n",
              "    <tr>\n",
              "      <th>5493</th>\n",
              "      <td>Die Hard</td>\n",
              "      <td>R</td>\n",
              "      <td>Action &amp; Adventure, Mystery &amp; Suspense</td>\n",
              "      <td>John McTiernan</td>\n",
              "      <td>Bruce Willis, Alan Rickman, Reginald VelJohnson, Bonnie Bedelia</td>\n",
              "    </tr>\n",
              "    <tr>\n",
              "      <th>11908</th>\n",
              "      <td>Pledge</td>\n",
              "      <td>NR</td>\n",
              "      <td>Horror, Mystery &amp; Suspense</td>\n",
              "      <td>Daniel Robbins</td>\n",
              "      <td>Zachery Byrd, Aaron Dalla Villa, Cameron Cowperthwaite, Jesse Pimentel</td>\n",
              "    </tr>\n",
              "    <tr>\n",
              "      <th>15013</th>\n",
              "      <td>The Garden of the Finzi-Continis (Il Giardino dei Finzi-Contini)</td>\n",
              "      <td>R</td>\n",
              "      <td>Art House &amp; International, Drama</td>\n",
              "      <td>Vittorio De Sica</td>\n",
              "      <td>Dominique Sanda, Lino Capolicchio, Helmut Berger, Fabio Testi</td>\n",
              "    </tr>\n",
              "    <tr>\n",
              "      <th>16512</th>\n",
              "      <td>Trouble Every Day (Gargoyle)</td>\n",
              "      <td>NR</td>\n",
              "      <td>Art House &amp; International, Drama, Horror</td>\n",
              "      <td>Claire Denis</td>\n",
              "      <td>Vincent Gallo, Tricia Vessey, Beatrice Dalle, Alex Descas</td>\n",
              "    </tr>\n",
              "  </tbody>\n",
              "</table>\n",
              "</div>"
            ],
            "text/plain": [
              "                                                            movie_title  \\\n",
              "8033                                       Hush...Hush, Sweet Charlotte   \n",
              "7195                                                       A Good Woman   \n",
              "5493                                                           Die Hard   \n",
              "11908                                                            Pledge   \n",
              "15013  The Garden of the Finzi-Continis (Il Giardino dei Finzi-Contini)   \n",
              "16512                                      Trouble Every Day (Gargoyle)   \n",
              "\n",
              "      content_rating                                    genres  \\\n",
              "8033              NR      Classics, Horror, Mystery & Suspense   \n",
              "7195              PG                    Comedy, Drama, Romance   \n",
              "5493               R    Action & Adventure, Mystery & Suspense   \n",
              "11908             NR                Horror, Mystery & Suspense   \n",
              "15013              R          Art House & International, Drama   \n",
              "16512             NR  Art House & International, Drama, Horror   \n",
              "\n",
              "              directors  \\\n",
              "8033     Robert Aldrich   \n",
              "7195        Mike Barker   \n",
              "5493     John McTiernan   \n",
              "11908    Daniel Robbins   \n",
              "15013  Vittorio De Sica   \n",
              "16512      Claire Denis   \n",
              "\n",
              "                                                                       actors  \n",
              "8033         Bette Davis, Olivia de Havilland, Agnes Moorehead, Joseph Cotten  \n",
              "7195    Helen Hunt, Scarlett Johansson, Tom Wilkinson, Stephen Campbell Moore  \n",
              "5493          Bruce Willis, Alan Rickman, Reginald VelJohnson, Bonnie Bedelia  \n",
              "11908  Zachery Byrd, Aaron Dalla Villa, Cameron Cowperthwaite, Jesse Pimentel  \n",
              "15013           Dominique Sanda, Lino Capolicchio, Helmut Berger, Fabio Testi  \n",
              "16512               Vincent Gallo, Tricia Vessey, Beatrice Dalle, Alex Descas  "
            ]
          },
          "execution_count": 54,
          "metadata": {},
          "output_type": "execute_result"
        }
      ],
      "source": [
        "idx = 5493\n",
        "num_recommendations = 5\n",
        "input_title = df_cleaned.loc[idx]['movie_title']\n",
        "input_text = df_cleaned.loc[idx]['movie_combined']\n",
        "results = predict(idx, df_cleaned, permutations, num_recommendations, forest)\n",
        "movie_info = df_cleaned.loc[idx, ['movie_title', 'content_rating', 'genres', 'directors', 'actors', 'movie_combined']]\n",
        "print(\"Input Movie:\\n\", movie_info)\n",
        "print(f'\\nTop {num_recommendations} recommendations for [{input_title}]:')\n",
        "results"
      ]
    }
  ],
  "metadata": {
    "colab": {
      "provenance": []
    },
    "kernelspec": {
      "display_name": "Python 3",
      "name": "python3"
    },
    "language_info": {
      "codemirror_mode": {
        "name": "ipython",
        "version": 3
      },
      "file_extension": ".py",
      "mimetype": "text/x-python",
      "name": "python",
      "nbconvert_exporter": "python",
      "pygments_lexer": "ipython3",
      "version": "3.12.2"
    }
  },
  "nbformat": 4,
  "nbformat_minor": 0
}
